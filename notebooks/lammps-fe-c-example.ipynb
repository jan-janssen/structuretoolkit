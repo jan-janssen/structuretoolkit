{
 "cells": [
  {
   "cell_type": "code",
   "execution_count": null,
   "metadata": {
    "ExecuteTime": {
     "end_time": "2018-05-16T12:11:50.838828Z",
     "start_time": "2018-05-16T12:11:49.295097Z"
    }
   },
   "outputs": [],
   "source": [
    "from pyiron import Project"
   ]
  },
  {
   "cell_type": "code",
   "execution_count": null,
   "metadata": {
    "ExecuteTime": {
     "end_time": "2018-05-16T12:11:50.877608Z",
     "start_time": "2018-05-16T12:11:50.842535Z"
    }
   },
   "outputs": [],
   "source": [
    "pr = Project('FeC')"
   ]
  },
  {
   "cell_type": "code",
   "execution_count": null,
   "metadata": {
    "ExecuteTime": {
     "end_time": "2018-05-16T12:11:50.892310Z",
     "start_time": "2018-05-16T12:11:50.880392Z"
    }
   },
   "outputs": [],
   "source": [
    "pr.remove_jobs()"
   ]
  },
  {
   "cell_type": "code",
   "execution_count": null,
   "metadata": {
    "ExecuteTime": {
     "end_time": "2018-05-16T12:11:50.931357Z",
     "start_time": "2018-05-16T12:11:50.897401Z"
    }
   },
   "outputs": [],
   "source": [
    "basis = pr.create_structure('Fe', 'bcc', 2.78)"
   ]
  },
  {
   "cell_type": "code",
   "execution_count": null,
   "metadata": {
    "ExecuteTime": {
     "end_time": "2018-05-16T12:11:50.949245Z",
     "start_time": "2018-05-16T12:11:50.934562Z"
    }
   },
   "outputs": [],
   "source": [
    "basis[1] = 'C'"
   ]
  },
  {
   "cell_type": "code",
   "execution_count": null,
   "metadata": {
    "ExecuteTime": {
     "end_time": "2018-05-16T12:11:50.964923Z",
     "start_time": "2018-05-16T12:11:50.953806Z"
    }
   },
   "outputs": [],
   "source": [
    "job = pr.create_job(pr.job_type.Lammps, 'lammpsFeC')"
   ]
  },
  {
   "cell_type": "code",
   "execution_count": null,
   "metadata": {
    "ExecuteTime": {
     "end_time": "2018-05-16T12:11:50.975134Z",
     "start_time": "2018-05-16T12:11:50.970163Z"
    }
   },
   "outputs": [],
   "source": [
    "job.structure = basis "
   ]
  },
  {
   "cell_type": "code",
   "execution_count": null,
   "metadata": {
    "ExecuteTime": {
     "end_time": "2018-05-16T12:11:50.995353Z",
     "start_time": "2018-05-16T12:11:50.981394Z"
    }
   },
   "outputs": [],
   "source": [
    "job.potential = 'Fe_C_Hepburn_Ackland_eam'"
   ]
  },
  {
   "cell_type": "code",
   "execution_count": null,
   "metadata": {
    "ExecuteTime": {
     "end_time": "2018-05-16T12:11:51.650530Z",
     "start_time": "2018-05-16T12:11:51.001348Z"
    }
   },
   "outputs": [],
   "source": [
    "job.run()"
   ]
  },
  {
   "cell_type": "code",
   "execution_count": null,
   "metadata": {
    "ExecuteTime": {
     "end_time": "2018-05-16T12:11:51.684837Z",
     "start_time": "2018-05-16T12:11:51.653609Z"
    }
   },
   "outputs": [],
   "source": [
    "job.output.energy_tot"
   ]
  },
  {
   "cell_type": "code",
   "execution_count": null,
   "metadata": {
    "ExecuteTime": {
     "end_time": "2018-05-16T12:11:51.724102Z",
     "start_time": "2018-05-16T12:11:51.692473Z"
    }
   },
   "outputs": [],
   "source": [
    "job.output.energy_pot"
   ]
  },
  {
   "cell_type": "code",
   "execution_count": null,
   "metadata": {
    "ExecuteTime": {
     "end_time": "2018-05-16T12:12:00.693766Z",
     "start_time": "2018-05-16T12:12:00.668368Z"
    }
   },
   "outputs": [],
   "source": [
    "job.output.positions"
   ]
  },
  {
   "cell_type": "code",
   "execution_count": null,
   "metadata": {
    "ExecuteTime": {
     "end_time": "2018-05-16T12:12:07.503690Z",
     "start_time": "2018-05-16T12:12:07.481355Z"
    }
   },
   "outputs": [],
   "source": [
    "job.output.cells"
   ]
  },
  {
   "cell_type": "code",
   "execution_count": null,
   "metadata": {
    "ExecuteTime": {
     "end_time": "2018-05-16T12:12:16.034221Z",
     "start_time": "2018-05-16T12:12:16.003565Z"
    }
   },
   "outputs": [],
   "source": [
    "job.output.pressures"
   ]
  },
  {
   "cell_type": "code",
   "execution_count": null,
   "metadata": {
    "ExecuteTime": {
     "end_time": "2018-05-16T12:12:21.668261Z",
     "start_time": "2018-05-16T12:12:21.641406Z"
    }
   },
   "outputs": [],
   "source": [
    "job.output.temperatures"
   ]
  },
  {
   "cell_type": "code",
   "execution_count": null,
   "metadata": {
    "ExecuteTime": {
     "end_time": "2018-05-16T12:12:32.989612Z",
     "start_time": "2018-05-16T12:12:32.965630Z"
    }
   },
   "outputs": [],
   "source": [
    "job.output.forces"
   ]
  },
  {
   "cell_type": "code",
   "execution_count": null,
   "metadata": {
    "ExecuteTime": {
     "end_time": "2018-05-16T12:12:43.740729Z",
     "start_time": "2018-05-16T12:12:43.716144Z"
    }
   },
   "outputs": [],
   "source": [
    "job.output.steps"
   ]
  },
  {
   "cell_type": "code",
   "execution_count": null,
   "metadata": {
    "ExecuteTime": {
     "end_time": "2018-05-16T12:12:55.930997Z",
     "start_time": "2018-05-16T12:12:55.906749Z"
    }
   },
   "outputs": [],
   "source": [
    "job.output.time"
   ]
  },
  {
   "cell_type": "code",
   "execution_count": null,
   "metadata": {
    "ExecuteTime": {
     "end_time": "2018-05-16T12:13:04.016671Z",
     "start_time": "2018-05-16T12:13:03.994954Z"
    }
   },
   "outputs": [],
   "source": [
    "job.output.volume"
   ]
  },
  {
   "cell_type": "code",
   "execution_count": null,
   "metadata": {
    "ExecuteTime": {
     "end_time": "2018-05-16T12:13:13.596985Z",
     "start_time": "2018-05-16T12:13:13.574559Z"
    }
   },
   "outputs": [],
   "source": [
    "job.output.unwrapped_positions"
   ]
  },
  {
   "cell_type": "code",
   "execution_count": null,
   "metadata": {},
   "outputs": [],
   "source": []
  }
 ],
 "metadata": {
  "kernelspec": {
   "display_name": "Python 3",
   "language": "python",
   "name": "python3"
  },
  "language_info": {
   "codemirror_mode": {
    "name": "ipython",
    "version": 3
   },
   "file_extension": ".py",
   "mimetype": "text/x-python",
   "name": "python",
   "nbconvert_exporter": "python",
   "pygments_lexer": "ipython3",
   "version": "3.6.4"
  },
  "toc": {
   "nav_menu": {},
   "number_sections": true,
   "sideBar": true,
   "skip_h1_title": false,
   "toc_cell": false,
   "toc_position": {},
   "toc_section_display": "block",
   "toc_window_display": false
  }
 },
 "nbformat": 4,
 "nbformat_minor": 2
}
