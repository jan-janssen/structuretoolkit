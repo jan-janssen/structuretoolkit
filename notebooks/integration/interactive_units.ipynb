{
 "cells": [
  {
   "cell_type": "markdown",
   "id": "c80d7c7a",
   "metadata": {},
   "source": [
    "This notebooks compares the outputs from two static LAMMPS jobs one of which is an interactive job. This is to ensure that the outputs from interactive and non-interactive jobs are consistent."
   ]
  },
  {
   "cell_type": "code",
   "execution_count": 1,
   "id": "325864ba",
   "metadata": {},
   "outputs": [],
   "source": [
    "from pyiron_atomistics import Project\n",
    "import numpy as np"
   ]
  },
  {
   "cell_type": "code",
   "execution_count": 2,
   "id": "c8990f43",
   "metadata": {},
   "outputs": [],
   "source": [
    "pr = Project(\"water_interactive\")\n",
    "pr.remove_jobs_silently()"
   ]
  },
  {
   "cell_type": "code",
   "execution_count": 3,
   "id": "e024a276",
   "metadata": {},
   "outputs": [],
   "source": [
    "dx = 0.7\n",
    "cell = np.eye(3) * 10\n",
    "r_O = [0, 0, 0]\n",
    "r_H1 = [dx, dx, 0]\n",
    "r_H2 = [-dx, dx, 0]\n",
    "water = pr.create_atoms(elements=['H', 'H', 'O'],\n",
    "                        positions=[r_H1, r_H2, r_O],\n",
    "                        cell=cell, pbc=True)"
   ]
  },
  {
   "cell_type": "code",
   "execution_count": 4,
   "id": "dd6c35a1-073f-4435-8330-0fce8fcd1a19",
   "metadata": {},
   "outputs": [
    {
     "name": "stdout",
     "output_type": "stream",
     "text": [
      "['H2O_tip3p', 'H2O_tip3p_slab', '2008--Chenoweth-K--C-H-O--LAMMPS--ipr1', 'Sim_LAMMPS_ReaxFF_AryanpourVanDuinKubicki_2010_FeHO__SM_222964216001_001', 'Sim_LAMMPS_ReaxFF_ChenowethVanDuinGoddard_2008_CHO__SM_584143153761_001', 'Sim_LAMMPS_ReaxFF_ChenowethVanDuinPersson_2008_CHOV__SM_429148913211_001', 'Sim_LAMMPS_ReaxFF_RaymandVanDuinBaudin_2008_ZnOH__SM_449472104549_001', 'Sim_LAMMPS_ReaxFF_StrachanVanDuinChakraborty_2003_CHNO__SM_107643900657_001', 'Sim_LAMMPS_ReaxFF_WeismillerVanDuinLee_2010_BHNO__SM_327381922729_001']\n"
     ]
    }
   ],
   "source": [
    "job_int = pr.create.job.Lammps(\"test\", delete_existing_job=True)\n",
    "job_int.structure = water\n",
    "print(job_int.list_potentials())\n",
    "\n",
    "assert \"H2O_tip3p\" in job_int.list_potentials()"
   ]
  },
  {
   "cell_type": "code",
   "execution_count": 5,
   "id": "6d9fafba",
   "metadata": {
    "tags": []
   },
   "outputs": [
    {
     "name": "stderr",
     "output_type": "stream",
     "text": [
      "/cmmc/u/chandu/programs/pyiron_mpie/pyiron_atomistics/pyiron_atomistics/lammps/base.py:210: UserWarning: WARNING: Non-'metal' units are not fully supported. Your calculation should run OK, but results may not be saved in pyiron units.\n",
      "  \"WARNING: Non-'metal' units are not fully supported. Your calculation should run OK, but \"\n",
      "/cmmc/u/chandu/programs/pyiron_mpie/pyiron_atomistics/pyiron_atomistics/lammps/base.py:262: UserWarning: No potential set via job.potential - use default potential, H2O_tip3p\n",
      "  warnings.warn(\"No potential set via job.potential - use default potential, \" + lst_of_potentials[0])\n"
     ]
    },
    {
     "name": "stdout",
     "output_type": "stream",
     "text": [
      "The job test was saved and received the ID: 15616153\n"
     ]
    }
   ],
   "source": [
    "# Interactive job\n",
    "job_int.interactive_open()\n",
    "job_int.calc_static()\n",
    "job_int.run()\n",
    "job_int.interactive_close()"
   ]
  },
  {
   "cell_type": "code",
   "execution_count": 6,
   "id": "9c575c8f-741f-4379-a6b1-0f5e825c0a37",
   "metadata": {},
   "outputs": [
    {
     "data": {
      "text/plain": [
       "['H2O_tip3p',\n",
       " 'H2O_tip3p_slab',\n",
       " '2008--Chenoweth-K--C-H-O--LAMMPS--ipr1',\n",
       " 'Sim_LAMMPS_ReaxFF_AryanpourVanDuinKubicki_2010_FeHO__SM_222964216001_001',\n",
       " 'Sim_LAMMPS_ReaxFF_ChenowethVanDuinGoddard_2008_CHO__SM_584143153761_001',\n",
       " 'Sim_LAMMPS_ReaxFF_ChenowethVanDuinPersson_2008_CHOV__SM_429148913211_001',\n",
       " 'Sim_LAMMPS_ReaxFF_RaymandVanDuinBaudin_2008_ZnOH__SM_449472104549_001',\n",
       " 'Sim_LAMMPS_ReaxFF_StrachanVanDuinChakraborty_2003_CHNO__SM_107643900657_001',\n",
       " 'Sim_LAMMPS_ReaxFF_WeismillerVanDuinLee_2010_BHNO__SM_327381922729_001',\n",
       " '2008--Chenoweth-K--C-H-O--LAMMPS--ipr1',\n",
       " 'Sim_LAMMPS_ReaxFF_AryanpourVanDuinKubicki_2010_FeHO__SM_222964216001_001',\n",
       " 'Sim_LAMMPS_ReaxFF_ChenowethVanDuinGoddard_2008_CHO__SM_584143153761_001',\n",
       " 'Sim_LAMMPS_ReaxFF_ChenowethVanDuinPersson_2008_CHOV__SM_429148913211_001',\n",
       " 'Sim_LAMMPS_ReaxFF_RaymandVanDuinBaudin_2008_ZnOH__SM_449472104549_001',\n",
       " 'Sim_LAMMPS_ReaxFF_StrachanVanDuinChakraborty_2003_CHNO__SM_107643900657_001',\n",
       " 'Sim_LAMMPS_ReaxFF_WeismillerVanDuinLee_2010_BHNO__SM_327381922729_001',\n",
       " '2008--Chenoweth-K--C-H-O--LAMMPS--ipr1',\n",
       " 'Sim_LAMMPS_ReaxFF_AryanpourVanDuinKubicki_2010_FeHO__SM_222964216001_001',\n",
       " 'Sim_LAMMPS_ReaxFF_ChenowethVanDuinGoddard_2008_CHO__SM_584143153761_001',\n",
       " 'Sim_LAMMPS_ReaxFF_ChenowethVanDuinPersson_2008_CHOV__SM_429148913211_001',\n",
       " 'Sim_LAMMPS_ReaxFF_RaymandVanDuinBaudin_2008_ZnOH__SM_449472104549_001',\n",
       " 'Sim_LAMMPS_ReaxFF_StrachanVanDuinChakraborty_2003_CHNO__SM_107643900657_001',\n",
       " 'Sim_LAMMPS_ReaxFF_WeismillerVanDuinLee_2010_BHNO__SM_327381922729_001']"
      ]
     },
     "execution_count": 6,
     "metadata": {},
     "output_type": "execute_result"
    }
   ],
   "source": [
    "job_int.list_potentials()"
   ]
  },
  {
   "cell_type": "code",
   "execution_count": 7,
   "id": "81b1ff99-2306-4918-a404-6458ae21b347",
   "metadata": {},
   "outputs": [
    {
     "data": {
      "text/html": [
       "<div>\n",
       "<style scoped>\n",
       "    .dataframe tbody tr th:only-of-type {\n",
       "        vertical-align: middle;\n",
       "    }\n",
       "\n",
       "    .dataframe tbody tr th {\n",
       "        vertical-align: top;\n",
       "    }\n",
       "\n",
       "    .dataframe thead th {\n",
       "        text-align: right;\n",
       "    }\n",
       "</style>\n",
       "<table border=\"1\" class=\"dataframe\">\n",
       "  <thead>\n",
       "    <tr style=\"text-align: right;\">\n",
       "      <th></th>\n",
       "      <th>Parameter</th>\n",
       "      <th>Value</th>\n",
       "      <th>Comment</th>\n",
       "    </tr>\n",
       "  </thead>\n",
       "  <tbody>\n",
       "    <tr>\n",
       "      <th>0</th>\n",
       "      <td>Comment</td>\n",
       "      <td># @potential_species H_O  ### species in potentia</td>\n",
       "      <td></td>\n",
       "    </tr>\n",
       "    <tr>\n",
       "      <th>1</th>\n",
       "      <td>Comment</td>\n",
       "      <td># W.L. Jorgensen et.al.The Journal of Chemical Physics 79926 (1983); https://doi.org/10.1063/1.44586</td>\n",
       "      <td></td>\n",
       "    </tr>\n",
       "    <tr>\n",
       "      <th>2</th>\n",
       "      <td>Comment</td>\n",
       "      <td></td>\n",
       "      <td></td>\n",
       "    </tr>\n",
       "    <tr>\n",
       "      <th>3</th>\n",
       "      <td></td>\n",
       "      <td></td>\n",
       "      <td></td>\n",
       "    </tr>\n",
       "    <tr>\n",
       "      <th>4</th>\n",
       "      <td></td>\n",
       "      <td></td>\n",
       "      <td></td>\n",
       "    </tr>\n",
       "    <tr>\n",
       "      <th>5</th>\n",
       "      <td>Comment</td>\n",
       "      <td># create groups ##</td>\n",
       "      <td></td>\n",
       "    </tr>\n",
       "    <tr>\n",
       "      <th>6</th>\n",
       "      <td>group</td>\n",
       "      <td>O type 2</td>\n",
       "      <td></td>\n",
       "    </tr>\n",
       "    <tr>\n",
       "      <th>7</th>\n",
       "      <td>group</td>\n",
       "      <td>H type 1</td>\n",
       "      <td></td>\n",
       "    </tr>\n",
       "    <tr>\n",
       "      <th>8</th>\n",
       "      <td></td>\n",
       "      <td></td>\n",
       "      <td></td>\n",
       "    </tr>\n",
       "    <tr>\n",
       "      <th>9</th>\n",
       "      <td>Comment</td>\n",
       "      <td>## set charges - beside manually ##</td>\n",
       "      <td></td>\n",
       "    </tr>\n",
       "    <tr>\n",
       "      <th>10</th>\n",
       "      <td>set</td>\n",
       "      <td>group O charge -0.830</td>\n",
       "      <td></td>\n",
       "    </tr>\n",
       "    <tr>\n",
       "      <th>11</th>\n",
       "      <td>set</td>\n",
       "      <td>group H charge 0.415</td>\n",
       "      <td></td>\n",
       "    </tr>\n",
       "    <tr>\n",
       "      <th>12</th>\n",
       "      <td></td>\n",
       "      <td></td>\n",
       "      <td></td>\n",
       "    </tr>\n",
       "    <tr>\n",
       "      <th>13</th>\n",
       "      <td>Comment</td>\n",
       "      <td>### TIP3P Potential Parameters ##</td>\n",
       "      <td></td>\n",
       "    </tr>\n",
       "    <tr>\n",
       "      <th>14</th>\n",
       "      <td>pair_style</td>\n",
       "      <td>lj/cut/coul/long 10.0</td>\n",
       "      <td></td>\n",
       "    </tr>\n",
       "    <tr>\n",
       "      <th>15</th>\n",
       "      <td>pair_coeff</td>\n",
       "      <td>* * 0.0 0.0</td>\n",
       "      <td></td>\n",
       "    </tr>\n",
       "    <tr>\n",
       "      <th>16</th>\n",
       "      <td>pair_coeff</td>\n",
       "      <td>2 2 0.102 3.188</td>\n",
       "      <td></td>\n",
       "    </tr>\n",
       "    <tr>\n",
       "      <th>17</th>\n",
       "      <td>bond_style</td>\n",
       "      <td>harmonic</td>\n",
       "      <td></td>\n",
       "    </tr>\n",
       "    <tr>\n",
       "      <th>18</th>\n",
       "      <td>bond_coeff</td>\n",
       "      <td>1 450 0.9572</td>\n",
       "      <td></td>\n",
       "    </tr>\n",
       "    <tr>\n",
       "      <th>19</th>\n",
       "      <td>angle_style</td>\n",
       "      <td>harmonic</td>\n",
       "      <td></td>\n",
       "    </tr>\n",
       "    <tr>\n",
       "      <th>20</th>\n",
       "      <td>angle_coeff</td>\n",
       "      <td>1 55 104.52</td>\n",
       "      <td></td>\n",
       "    </tr>\n",
       "    <tr>\n",
       "      <th>21</th>\n",
       "      <td>kspace_style</td>\n",
       "      <td>pppm 1.0e-5</td>\n",
       "      <td></td>\n",
       "    </tr>\n",
       "    <tr>\n",
       "      <th>22</th>\n",
       "      <td></td>\n",
       "      <td></td>\n",
       "      <td></td>\n",
       "    </tr>\n",
       "  </tbody>\n",
       "</table>\n",
       "</div>"
      ],
      "text/plain": [
       "       Parameter  \\\n",
       "0        Comment   \n",
       "1        Comment   \n",
       "2        Comment   \n",
       "3                  \n",
       "4                  \n",
       "5        Comment   \n",
       "6          group   \n",
       "7          group   \n",
       "8                  \n",
       "9        Comment   \n",
       "10           set   \n",
       "11           set   \n",
       "12                 \n",
       "13       Comment   \n",
       "14    pair_style   \n",
       "15    pair_coeff   \n",
       "16    pair_coeff   \n",
       "17    bond_style   \n",
       "18    bond_coeff   \n",
       "19   angle_style   \n",
       "20   angle_coeff   \n",
       "21  kspace_style   \n",
       "22                 \n",
       "\n",
       "                                                                                                   Value  \\\n",
       "0                                                      # @potential_species H_O  ### species in potentia   \n",
       "1   # W.L. Jorgensen et.al.The Journal of Chemical Physics 79926 (1983); https://doi.org/10.1063/1.44586   \n",
       "2                                                                                                          \n",
       "3                                                                                                          \n",
       "4                                                                                                          \n",
       "5                                                                                     # create groups ##   \n",
       "6                                                                                               O type 2   \n",
       "7                                                                                               H type 1   \n",
       "8                                                                                                          \n",
       "9                                                                    ## set charges - beside manually ##   \n",
       "10                                                                                 group O charge -0.830   \n",
       "11                                                                                  group H charge 0.415   \n",
       "12                                                                                                         \n",
       "13                                                                     ### TIP3P Potential Parameters ##   \n",
       "14                                                                                 lj/cut/coul/long 10.0   \n",
       "15                                                                                           * * 0.0 0.0   \n",
       "16                                                                                       2 2 0.102 3.188   \n",
       "17                                                                                              harmonic   \n",
       "18                                                                                          1 450 0.9572   \n",
       "19                                                                                              harmonic   \n",
       "20                                                                                           1 55 104.52   \n",
       "21                                                                                           pppm 1.0e-5   \n",
       "22                                                                                                         \n",
       "\n",
       "   Comment  \n",
       "0           \n",
       "1           \n",
       "2           \n",
       "3           \n",
       "4           \n",
       "5           \n",
       "6           \n",
       "7           \n",
       "8           \n",
       "9           \n",
       "10          \n",
       "11          \n",
       "12          \n",
       "13          \n",
       "14          \n",
       "15          \n",
       "16          \n",
       "17          \n",
       "18          \n",
       "19          \n",
       "20          \n",
       "21          \n",
       "22          "
      ]
     },
     "execution_count": 7,
     "metadata": {},
     "output_type": "execute_result"
    }
   ],
   "source": [
    "job_int.input.potential"
   ]
  },
  {
   "cell_type": "code",
   "execution_count": 8,
   "id": "581c52e8",
   "metadata": {},
   "outputs": [
    {
     "name": "stderr",
     "output_type": "stream",
     "text": [
      "/cmmc/u/chandu/programs/pyiron_mpie/pyiron_atomistics/pyiron_atomistics/lammps/base.py:210: UserWarning: WARNING: Non-'metal' units are not fully supported. Your calculation should run OK, but results may not be saved in pyiron units.\n",
      "  \"WARNING: Non-'metal' units are not fully supported. Your calculation should run OK, but \"\n",
      "/cmmc/u/chandu/programs/pyiron_mpie/pyiron_atomistics/pyiron_atomistics/lammps/base.py:262: UserWarning: No potential set via job.potential - use default potential, H2O_tip3p\n",
      "  warnings.warn(\"No potential set via job.potential - use default potential, \" + lst_of_potentials[0])\n"
     ]
    },
    {
     "name": "stdout",
     "output_type": "stream",
     "text": [
      "The job test_ni was saved and received the ID: 15616158\n"
     ]
    }
   ],
   "source": [
    "# Non-interactive job\n",
    "job = pr.create.job.Lammps(\"test_ni\", delete_existing_job=True)\n",
    "job.structure = water\n",
    "job.calc_static()\n",
    "job.run()"
   ]
  },
  {
   "cell_type": "code",
   "execution_count": 9,
   "id": "4c467ac2",
   "metadata": {},
   "outputs": [
    {
     "name": "stdout",
     "output_type": "stream",
     "text": [
      "cells\n",
      "energy_pot\n",
      "energy_tot\n",
      "forces\n",
      "indices\n",
      "positions\n",
      "pressures\n",
      "steps\n",
      "temperature\n",
      "volume\n"
     ]
    }
   ],
   "source": [
    "# Assert that the unit converstions work even in the interactive mode\n",
    "\n",
    "int_nodes = job_int[\"output/generic\"].list_nodes()\n",
    "usual_nodes = job[\"output/generic\"].list_nodes()\n",
    "for node in int_nodes:\n",
    "    if node in usual_nodes:\n",
    "        print(node)\n",
    "        assert np.allclose(job_int[\"output/generic/\" + node], job[\"output/generic/\" + node])"
   ]
  },
  {
   "cell_type": "code",
   "execution_count": null,
   "id": "6c0dd148-cf80-4126-8b20-5ecf3dd1c8f7",
   "metadata": {},
   "outputs": [],
   "source": []
  }
 ],
 "metadata": {
  "kernelspec": {
   "display_name": "Python 3 (ipykernel)",
   "language": "python",
   "name": "python3"
  },
  "language_info": {
   "codemirror_mode": {
    "name": "ipython",
    "version": 3
   },
   "file_extension": ".py",
   "mimetype": "text/x-python",
   "name": "python",
   "nbconvert_exporter": "python",
   "pygments_lexer": "ipython3",
   "version": "3.7.10"
  }
 },
 "nbformat": 4,
 "nbformat_minor": 5
}
