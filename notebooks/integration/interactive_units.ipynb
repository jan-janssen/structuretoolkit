{
 "cells": [
  {
   "cell_type": "code",
   "execution_count": 1,
   "id": "adb8a78b-112c-4d6f-8a50-aba827f48a45",
   "metadata": {},
   "outputs": [],
   "source": [
    "from pyiron import Project\n",
    "import numpy as np"
   ]
  },
  {
   "cell_type": "code",
   "execution_count": 2,
   "id": "63521ebb-b6fd-4ff0-ba5e-67d1bff34222",
   "metadata": {},
   "outputs": [],
   "source": [
    "pr = Project(\"water_interactive\")\n",
    "pr.remove_jobs_silently()"
   ]
  },
  {
   "cell_type": "code",
   "execution_count": 3,
   "id": "47c6a732-f0b9-4b92-b409-fb824d8fe2f5",
   "metadata": {},
   "outputs": [],
   "source": [
    "dx = 0.7\n",
    "cell = np.eye(3) * 10\n",
    "r_O = [0, 0, 0]\n",
    "r_H1 = [dx, dx, 0]\n",
    "r_H2 = [-dx, dx, 0]\n",
    "water = pr.create_atoms(elements=['H', 'H', 'O'],\n",
    "                        positions=[r_H1, r_H2, r_O],\n",
    "                        cell=cell, pbc=True)"
   ]
  },
  {
   "cell_type": "code",
   "execution_count": 4,
   "id": "6844a0f6-ee48-48cd-afa5-85ed7178d3ea",
   "metadata": {},
   "outputs": [
    {
     "name": "stderr",
     "output_type": "stream",
     "text": [
      "/cmmc/u/chandu/programs/pyiron_mpie/pyiron_atomistics/pyiron_atomistics/lammps/base.py:210: UserWarning: WARNING: Non-'metal' units are not fully supported. Your calculation should run OK, but results may not be saved in pyiron units.\n",
      "  \"WARNING: Non-'metal' units are not fully supported. Your calculation should run OK, but \"\n",
      "/cmmc/u/chandu/programs/pyiron_mpie/pyiron_atomistics/pyiron_atomistics/lammps/base.py:262: UserWarning: No potential set via job.potential - use default potential, H2O_tip3p\n",
      "  warnings.warn(\"No potential set via job.potential - use default potential, \" + lst_of_potentials[0])\n"
     ]
    },
    {
     "name": "stdout",
     "output_type": "stream",
     "text": [
      "The job test was saved and received the ID: 15453531\n"
     ]
    }
   ],
   "source": [
    "job_int = pr.create.job.Lammps(\"test\", delete_existing_job=True)\n",
    "\n",
    "job_int.structure = water\n",
    "job_int.interactive_open()\n",
    "job_int.calc_static()\n",
    "job_int.run()\n",
    "job_int.interactive_close()"
   ]
  },
  {
   "cell_type": "code",
   "execution_count": 5,
   "id": "0de0c792-5af1-4494-93a1-070ef178a006",
   "metadata": {},
   "outputs": [
    {
     "name": "stdout",
     "output_type": "stream",
     "text": [
      "The job test_ni was saved and received the ID: 15453533\n"
     ]
    }
   ],
   "source": [
    "job = pr.create.job.Lammps(\"test_ni\", delete_existing_job=True)\n",
    "job.structure = water\n",
    "job.calc_static()\n",
    "job.run()"
   ]
  },
  {
   "cell_type": "code",
   "execution_count": 8,
   "id": "9cb4ef26-282b-4609-ad9f-a57451f8167c",
   "metadata": {},
   "outputs": [
    {
     "name": "stdout",
     "output_type": "stream",
     "text": [
      "cells\n",
      "energy_pot\n",
      "energy_tot\n",
      "forces\n",
      "indices\n",
      "positions\n",
      "pressures\n",
      "steps\n",
      "temperature\n",
      "volume\n"
     ]
    }
   ],
   "source": [
    "# Assert that the unit converstions work even in the interactive mode\n",
    "\n",
    "int_nodes = job_int[\"output/generic\"].list_nodes()\n",
    "usual_nodes = job[\"output/generic\"].list_nodes()\n",
    "for node in int_nodes:\n",
    "    if node in usual_nodes:\n",
    "        print(node)\n",
    "        assert np.allclose(job_int[\"output/generic/\" + node], job[\"output/generic/\" + node])"
   ]
  },
  {
   "cell_type": "code",
   "execution_count": null,
   "id": "fb10b1ab-f06d-41fd-a1f7-00c31569b2cf",
   "metadata": {},
   "outputs": [],
   "source": []
  }
 ],
 "metadata": {
  "kernelspec": {
   "display_name": "Python 3",
   "language": "python",
   "name": "python3"
  },
  "language_info": {
   "codemirror_mode": {
    "name": "ipython",
    "version": 3
   },
   "file_extension": ".py",
   "mimetype": "text/x-python",
   "name": "python",
   "nbconvert_exporter": "python",
   "pygments_lexer": "ipython3",
   "version": "3.7.9"
  }
 },
 "nbformat": 4,
 "nbformat_minor": 5
}
