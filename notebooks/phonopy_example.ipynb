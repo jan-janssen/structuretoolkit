{
 "cells": [
  {
   "cell_type": "markdown",
   "metadata": {},
   "source": [
    "# Phonopy in pyiron\n",
    "\n",
    "We will use the quasi-harmonic approximation (via PyIron's implementation of the popular phonopy package) to evaluate look at thermal expansion and self-diffusion in Aluminium"
   ]
  },
  {
   "cell_type": "code",
   "execution_count": 1,
   "metadata": {
    "ExecuteTime": {
     "end_time": "2019-09-04T10:42:45.561106Z",
     "start_time": "2019-09-04T10:42:42.138399Z"
    }
   },
   "outputs": [],
   "source": [
    "# Generic imports\n",
    "from pyiron.project import Project\n",
    "import numpy as np\n",
    "%matplotlib  inline\n",
    "import matplotlib.pylab as plt\n",
    "import seaborn as sns"
   ]
  },
  {
   "cell_type": "code",
   "execution_count": 2,
   "metadata": {
    "ExecuteTime": {
     "end_time": "2019-09-04T10:42:52.724213Z",
     "start_time": "2019-09-04T10:42:45.563333Z"
    }
   },
   "outputs": [],
   "source": [
    "pr = Project(\"PhonopyExample\")\n",
    "pot =  'Al_Mg_Mendelev_eam'\n",
    "pr.remove_jobs(recursive=True)"
   ]
  },
  {
   "cell_type": "markdown",
   "metadata": {},
   "source": [
    "## Helper functions\n",
    "\n",
    "Because repeating code is evil."
   ]
  },
  {
   "cell_type": "code",
   "execution_count": 3,
   "metadata": {
    "ExecuteTime": {
     "end_time": "2019-09-04T10:42:52.732051Z",
     "start_time": "2019-09-04T10:42:52.726661Z"
    }
   },
   "outputs": [],
   "source": [
    "def make_phonopy_job(template_job, name):\n",
    "    \"\"\"\n",
    "    Create a phonopy job from a reference job.\n",
    "    \n",
    "    Args:\n",
    "        template_job (pyiron job): The job to copy.\n",
    "        name (str): What to call this new job.\n",
    "        \n",
    "    Returns:\n",
    "        A new phonopy job.\n",
    "    \"\"\"\n",
    "    project = template_job.project\n",
    "    \n",
    "    # What I want:\n",
    "    # job_type =  template_job.job_type\n",
    "    # What I have to do instead:\n",
    "    job_type = pr.job_type.Lammps\n",
    "    \n",
    "    ref = project.create_job(job_type, name + \"_ref\")\n",
    "    ref.structure = template_job.get_final_structure().copy()\n",
    "    ref.potential = template_job.potential\n",
    "    \n",
    "    phono = project.create_job(pr.job_type.PhonopyJob, name)\n",
    "    phono.ref_job = ref\n",
    "    return phono"
   ]
  },
  {
   "cell_type": "code",
   "execution_count": 4,
   "metadata": {
    "ExecuteTime": {
     "end_time": "2019-09-04T10:42:52.744061Z",
     "start_time": "2019-09-04T10:42:52.733757Z"
    }
   },
   "outputs": [],
   "source": [
    "def scale_structure(struct, scale):\n",
    "    \"\"\"\n",
    "    Rescale the atomic positions and cell of a structure simultaneously. \n",
    "    Accepts rescaling by an arbitrary real-valued 3x3 numpy array, but a float can be given\n",
    "    for isotropic rescaling.\n",
    "    \n",
    "    Args:\n",
    "        struct (Structure object): The structure to rescale.\n",
    "        scale (float or np.array(3,3)): The matrix to rescale by. (float -> isotropic.)\n",
    "        \n",
    "    Returns:\n",
    "        A rescaled copy of the structure.\n",
    "        \n",
    "    ..TODO: Double check that the scaling matrix still spans 3-space (determinant check?)\n",
    "    \"\"\"\n",
    "    if isinstance(scale, float) or isinstance(scale, int):\n",
    "        scale_mat = scale * np.eye(3)\n",
    "    else:\n",
    "        assert(scale.shape == (3,3))\n",
    "        scale_mat = scale.T\n",
    "    new_struct = struct.copy()\n",
    "    new_struct.cell = np.dot(struct.cell, scale_mat)\n",
    "    new_struct.positions = np.dot(struct.positions, scale_mat)\n",
    "    return new_struct\n",
    "    "
   ]
  },
  {
   "cell_type": "code",
   "execution_count": 5,
   "metadata": {
    "ExecuteTime": {
     "end_time": "2019-09-04T10:42:52.755781Z",
     "start_time": "2019-09-04T10:42:52.745596Z"
    }
   },
   "outputs": [],
   "source": [
    "def scale_array(arr, scaler=None, new_range=1.):\n",
    "    \"\"\"\n",
    "    Linearly transforms an array so that values equal to the minimum and maximum of the \n",
    "    `scaler` array are mapped to the range (0, `new_range`). Note that rescaled values can \n",
    "    still lie outside this range if the orignal values of `arr` are outside the bounds of \n",
    "    `scaler`.\n",
    "    \n",
    "    Args:\n",
    "        arr (np.array): Array to rescale.\n",
    "        scaler (np.array): Array by which to rescale. Default is `arr`.\n",
    "        new_range (float): New value for data which was the size `np.amax(scaler)`. \n",
    "          Default is 1.\n",
    "    \"\"\"\n",
    "    if scaler is None:\n",
    "        scaler = arr\n",
    "    return new_range * (arr - np.amin(scaler)) / np.ptp(scaler)"
   ]
  },
  {
   "cell_type": "markdown",
   "metadata": {},
   "source": [
    "## Thermal Expansion\n",
    "\n",
    "What does the QHA say the lattice constant is as a function of temperature?"
   ]
  },
  {
   "cell_type": "code",
   "execution_count": 6,
   "metadata": {
    "ExecuteTime": {
     "end_time": "2019-09-04T10:42:52.766781Z",
     "start_time": "2019-09-04T10:42:52.757314Z"
    }
   },
   "outputs": [],
   "source": [
    "pr_te = pr.create_group(\"ThermalExpansion\")"
   ]
  },
  {
   "cell_type": "markdown",
   "metadata": {},
   "source": [
    "### Relax the unit cell\n",
    "\n",
    "If we were doing VASP instead it would be important to do the least computation as possible, so here we'll start by relaxing a simple unit cell to turn into a supercell later."
   ]
  },
  {
   "cell_type": "code",
   "execution_count": 7,
   "metadata": {
    "ExecuteTime": {
     "end_time": "2019-09-04T10:42:52.814737Z",
     "start_time": "2019-09-04T10:42:52.768355Z"
    }
   },
   "outputs": [],
   "source": [
    "job_unit = pr_te.create_job(pr.job_type.Lammps, \"UnitCell\")"
   ]
  },
  {
   "cell_type": "code",
   "execution_count": 8,
   "metadata": {
    "ExecuteTime": {
     "end_time": "2019-09-04T10:42:52.958732Z",
     "start_time": "2019-09-04T10:42:52.849374Z"
    }
   },
   "outputs": [],
   "source": [
    "basis = pr_te.create_structure(\"Al\", \"fcc\", 4.04)"
   ]
  },
  {
   "cell_type": "code",
   "execution_count": 9,
   "metadata": {
    "ExecuteTime": {
     "end_time": "2019-09-04T10:42:52.973204Z",
     "start_time": "2019-09-04T10:42:52.960821Z"
    }
   },
   "outputs": [],
   "source": [
    "job_unit.structure = basis\n",
    "job_unit.potential = pot"
   ]
  },
  {
   "cell_type": "code",
   "execution_count": 10,
   "metadata": {
    "ExecuteTime": {
     "end_time": "2019-09-04T10:42:54.650419Z",
     "start_time": "2019-09-04T10:42:52.974822Z"
    }
   },
   "outputs": [
    {
     "name": "stdout",
     "output_type": "stream",
     "text": [
      "The job UnitCell was saved and received the ID: 3596380\n"
     ]
    }
   ],
   "source": [
    "job_unit.calc_minimize(pressure=0.0)\n",
    "job_unit.run()"
   ]
  },
  {
   "cell_type": "code",
   "execution_count": 11,
   "metadata": {
    "ExecuteTime": {
     "end_time": "2019-09-04T10:42:54.868129Z",
     "start_time": "2019-09-04T10:42:54.653444Z"
    }
   },
   "outputs": [],
   "source": [
    "basis_rel = job_unit.get_final_structure()"
   ]
  },
  {
   "cell_type": "markdown",
   "metadata": {},
   "source": [
    "### Relax the bulk supercell\n",
    "\n",
    "A relaxation which should take zero steps given our starting position!"
   ]
  },
  {
   "cell_type": "code",
   "execution_count": 12,
   "metadata": {
    "ExecuteTime": {
     "end_time": "2019-09-04T10:42:55.007799Z",
     "start_time": "2019-09-04T10:42:54.869931Z"
    }
   },
   "outputs": [],
   "source": [
    "job_bulk_1 = pr_te.create_job(pr.job_type.Lammps, \"Bulk_1\")\n",
    "# The _1 here refers to the fact that the volume has been rescaled by a factor of \"1.0\"\n",
    "# (i.e. it hasn't been rescaled)"
   ]
  },
  {
   "cell_type": "code",
   "execution_count": 13,
   "metadata": {
    "ExecuteTime": {
     "end_time": "2019-09-04T10:42:55.087876Z",
     "start_time": "2019-09-04T10:42:55.069071Z"
    }
   },
   "outputs": [],
   "source": [
    "n_reps = 3\n",
    "job_bulk_1.structure = basis_rel.repeat(rep=n_reps)\n",
    "job_bulk_1.potential = pot"
   ]
  },
  {
   "cell_type": "code",
   "execution_count": 14,
   "metadata": {
    "ExecuteTime": {
     "end_time": "2019-09-04T10:42:55.170754Z",
     "start_time": "2019-09-04T10:42:55.089515Z"
    }
   },
   "outputs": [
    {
     "data": {
      "application/vnd.jupyter.widget-view+json": {
       "model_id": "472ba29eeb924d7597df157a568e3c20",
       "version_major": 2,
       "version_minor": 0
      },
      "text/plain": [
       "_ColormakerRegistry()"
      ]
     },
     "metadata": {},
     "output_type": "display_data"
    }
   ],
   "source": [
    "job_bulk_1.structure.plot3d();"
   ]
  },
  {
   "cell_type": "code",
   "execution_count": 15,
   "metadata": {
    "ExecuteTime": {
     "end_time": "2019-09-04T10:42:56.977592Z",
     "start_time": "2019-09-04T10:42:55.172254Z"
    }
   },
   "outputs": [
    {
     "name": "stdout",
     "output_type": "stream",
     "text": [
      "The job Bulk_1 was saved and received the ID: 3596381\n"
     ]
    }
   ],
   "source": [
    "job_bulk_1.calc_minimize(pressure=0.0)\n",
    "job_bulk_1.run()"
   ]
  },
  {
   "cell_type": "markdown",
   "metadata": {
    "ExecuteTime": {
     "end_time": "2018-12-03T17:28:21.880891Z",
     "start_time": "2018-12-03T17:28:21.877463Z"
    }
   },
   "source": [
    "### Calculate phonons\n",
    "\n",
    "Run phonopy on the bulk supercell"
   ]
  },
  {
   "cell_type": "code",
   "execution_count": 16,
   "metadata": {
    "ExecuteTime": {
     "end_time": "2019-09-04T10:42:57.716378Z",
     "start_time": "2019-09-04T10:42:56.980543Z"
    }
   },
   "outputs": [],
   "source": [
    "phono_bulk_1 = make_phonopy_job(job_bulk_1, \"PhonoBulk_1\")"
   ]
  },
  {
   "cell_type": "code",
   "execution_count": 17,
   "metadata": {
    "ExecuteTime": {
     "end_time": "2019-09-04T10:43:21.280242Z",
     "start_time": "2019-09-04T10:42:57.789292Z"
    }
   },
   "outputs": [
    {
     "name": "stdout",
     "output_type": "stream",
     "text": [
      "The job PhonoBulk_1 was saved and received the ID: 3596382\n",
      "The job supercell_phonon_0 was saved and received the ID: 3596383\n"
     ]
    }
   ],
   "source": [
    "phono_bulk_1.run()\n",
    "# Run performs a whole bunch of child calculations\n",
    "# Each one has the positions slightly deformed in the symmetry-appropriate ways needed\n",
    "# to get the phonon properties"
   ]
  },
  {
   "cell_type": "code",
   "execution_count": 18,
   "metadata": {
    "ExecuteTime": {
     "end_time": "2019-09-04T10:43:21.766635Z",
     "start_time": "2019-09-04T10:43:21.325947Z"
    }
   },
   "outputs": [],
   "source": [
    "# Let's see what we got...\n",
    "T_min = 0\n",
    "T_max = 800 # a bit below melting\n",
    "T_step = 25\n",
    "temperatures = np.linspace(T_min, T_max, int((T_max - T_min) / T_step))\n",
    "tp_bulk_1 = phono_bulk_1.get_thermal_properties(temperatures=temperatures) \n",
    "# `get_thermal_properties` uses the displacements and forces to generate phonon information"
   ]
  },
  {
   "cell_type": "code",
   "execution_count": 19,
   "metadata": {
    "ExecuteTime": {
     "end_time": "2019-09-04T10:43:22.287922Z",
     "start_time": "2019-09-04T10:43:21.768415Z"
    }
   },
   "outputs": [
    {
     "data": {
      "text/plain": [
       "Text(0, 0.5, 'Free energy  ($U+F_{vib}$)  [eV]')"
      ]
     },
     "execution_count": 19,
     "metadata": {},
     "output_type": "execute_result"
    },
    {
     "data": {
      "image/png": "[encoded data removed]",
      "text/plain": [
       "<Figure size 432x288 with 1 Axes>"
      ]
     },
     "metadata": {
      "needs_background": "light"
     },
     "output_type": "display_data"
    }
   ],
   "source": [
    "U_bulk_1 = job_bulk_1.output.energy_pot[-1]\n",
    "Fvib_bulk_1 = tp_bulk_1.free_energies\n",
    "plt.plot(temperatures, U_bulk_1 + Fvib_bulk_1)\n",
    "plt.xlabel(\"Temperature [K]\")\n",
    "plt.ylabel(\"Free energy  ($U+F_{vib}$)  [eV]\")"
   ]
  },
  {
   "cell_type": "markdown",
   "metadata": {},
   "source": [
    "### Calculate thermal expansivity\n",
    "\n",
    "Above we have the (QHA approximation to the) free energy as a function of temperature at a fixed volume. To evaluate the thermal expansivity, we need to create the entire F(V,T) surface. To get this, we just loop over jobs like the above, but scaled to have different lattice constants."
   ]
  },
  {
   "cell_type": "code",
   "execution_count": 20,
   "metadata": {
    "ExecuteTime": {
     "end_time": "2019-09-04T10:43:22.293027Z",
     "start_time": "2019-09-04T10:43:22.289628Z"
    }
   },
   "outputs": [],
   "source": [
    "# According to Wikipedia, the thermal expansivity is about 0.0023% / Kelvin\n",
    "# So at our maximum temperature, we expect around 1.8% expansion\n",
    "scale_min = 0.995\n",
    "scale_max = 1.02\n",
    "scale_step = 0.002\n",
    "scales = np.linspace(scale_min, scale_max, int((scale_max - scale_min) / scale_step))"
   ]
  },
  {
   "cell_type": "code",
   "execution_count": 21,
   "metadata": {
    "ExecuteTime": {
     "end_time": "2019-09-04T10:43:22.338111Z",
     "start_time": "2019-09-04T10:43:22.294520Z"
    }
   },
   "outputs": [],
   "source": [
    "# Let's keep things clean by making another sub-directory\n",
    "pr_scales = pr_te.create_group(\"ScanScales\")"
   ]
  },
  {
   "cell_type": "code",
   "execution_count": 22,
   "metadata": {
    "ExecuteTime": {
     "end_time": "2019-09-04T10:49:08.478135Z",
     "start_time": "2019-09-04T10:43:22.339743Z"
    }
   },
   "outputs": [
    {
     "name": "stdout",
     "output_type": "stream",
     "text": [
      "The job Bulk_0_995 was saved and received the ID: 3596385\n",
      "The job PhonoBulk_0_995 was saved and received the ID: 3596386\n",
      "The job supercell_phonon_0 was saved and received the ID: 3596387\n",
      "The job Bulk_0_9972727272727273 was saved and received the ID: 3596388\n",
      "The job PhonoBulk_0_9972727272727273 was saved and received the ID: 3596389\n",
      "The job supercell_phonon_0 was saved and received the ID: 3596390\n",
      "The job Bulk_0_9995454545454545 was saved and received the ID: 3596394\n",
      "The job PhonoBulk_0_9995454545454545 was saved and received the ID: 3596400\n",
      "The job supercell_phonon_0 was saved and received the ID: 3596405\n",
      "The job Bulk_1_0018181818181817 was saved and received the ID: 3596418\n",
      "The job PhonoBulk_1_0018181818181817 was saved and received the ID: 3596419\n",
      "The job supercell_phonon_0 was saved and received the ID: 3596420\n",
      "The job Bulk_1_0040909090909091 was saved and received the ID: 3596434\n",
      "The job PhonoBulk_1_0040909090909091 was saved and received the ID: 3596436\n",
      "The job supercell_phonon_0 was saved and received the ID: 3596439\n",
      "The job Bulk_1_0063636363636363 was saved and received the ID: 3596449\n",
      "The job PhonoBulk_1_0063636363636363 was saved and received the ID: 3596450\n",
      "The job supercell_phonon_0 was saved and received the ID: 3596451\n",
      "The job Bulk_1_0086363636363636 was saved and received the ID: 3596456\n",
      "The job PhonoBulk_1_0086363636363636 was saved and received the ID: 3596458\n",
      "The job supercell_phonon_0 was saved and received the ID: 3596461\n",
      "The job Bulk_1_010909090909091 was saved and received the ID: 3596473\n",
      "The job PhonoBulk_1_010909090909091 was saved and received the ID: 3596475\n",
      "The job supercell_phonon_0 was saved and received the ID: 3596478\n",
      "The job Bulk_1_0131818181818182 was saved and received the ID: 3596488\n",
      "The job PhonoBulk_1_0131818181818182 was saved and received the ID: 3596490\n",
      "The job supercell_phonon_0 was saved and received the ID: 3596494\n",
      "The job Bulk_1_0154545454545454 was saved and received the ID: 3596505\n",
      "The job PhonoBulk_1_0154545454545454 was saved and received the ID: 3596507\n",
      "The job supercell_phonon_0 was saved and received the ID: 3596510\n",
      "The job Bulk_1_0177272727272728 was saved and received the ID: 3596521\n",
      "The job PhonoBulk_1_0177272727272728 was saved and received the ID: 3596523\n",
      "The job supercell_phonon_0 was saved and received the ID: 3596526\n",
      "The job Bulk_1_02 was saved and received the ID: 3596537\n",
      "The job PhonoBulk_1_02 was saved and received the ID: 3596539\n",
      "The job supercell_phonon_0 was saved and received the ID: 3596542\n"
     ]
    }
   ],
   "source": [
    "# Loop the phonon calculation over all the volumes\n",
    "sc_bulk_rel = job_bulk_1.get_final_structure()\n",
    "bulk_free_energies = np.zeros((len(scales), len(temperatures)))\n",
    "\n",
    "for i, scale in enumerate(scales):\n",
    "    name_tail = \"_{}\".format(str(scale).replace(\".\", \"_\"))\n",
    "    \n",
    "    # Make a bulk job with the rescaled structure \n",
    "    # (already relaxed, by symmetry won't change, calc static will be enough)\n",
    "    job_bulk = pr_scales.create_job(pr.job_type.Lammps, \"Bulk\" + name_tail)\n",
    "    job_bulk.potential = pot\n",
    "    job_bulk.structure = scale_structure(sc_bulk_rel, scale)\n",
    "    job_bulk.calc_static()\n",
    "    job_bulk.run()\n",
    "    U = job_bulk.output.energy_tot[-1]\n",
    "    \n",
    "    # Use that job as a reference for a phonopy job\n",
    "    phono_bulk = make_phonopy_job(job_bulk, \"PhonoBulk\" + name_tail)\n",
    "    phono_bulk.run()\n",
    "    tp_bulk = phono_bulk.get_thermal_properties(temperatures=temperatures) \n",
    "    Fvib = tp_bulk.free_energies\n",
    "    \n",
    "    # Fill in the row of free energies for this volume\n",
    "    bulk_free_energies[i] = Fvib + U"
   ]
  },
  {
   "cell_type": "code",
   "execution_count": 23,
   "metadata": {
    "ExecuteTime": {
     "end_time": "2019-09-04T10:49:08.549157Z",
     "start_time": "2019-09-04T10:49:08.546024Z"
    }
   },
   "outputs": [],
   "source": [
    "# The lattice constant is probably a more informative value than the 0K-relative strain\n",
    "latts = basis_rel.cell[0][0] * scales"
   ]
  },
  {
   "cell_type": "code",
   "execution_count": 24,
   "metadata": {
    "ExecuteTime": {
     "end_time": "2019-09-04T10:49:08.802189Z",
     "start_time": "2019-09-04T10:49:08.551161Z"
    }
   },
   "outputs": [
    {
     "data": {
      "text/plain": [
       "<matplotlib.legend.Legend at 0x2b61a42bf278>"
      ]
     },
     "execution_count": 24,
     "metadata": {},
     "output_type": "execute_result"
    },
    {
     "data": {
      "image/png": "[encoded data removed]",
      "text/plain": [
       "<Figure size 432x288 with 1 Axes>"
      ]
     },
     "metadata": {
      "needs_background": "light"
     },
     "output_type": "display_data"
    }
   ],
   "source": [
    "# At each temperature, find the optimal volume by a simple quadratic fit\n",
    "# ...Wait, which order fit will be good enough? Let's just spot-check\n",
    "free_en = bulk_free_energies[:, -1]\n",
    "plt.plot(latts, free_en, color='b', label='data')\n",
    "\n",
    "# We'll plot the fit on a much denser mesh\n",
    "fit_deg = 4\n",
    "p = np.polyfit(latts, free_en, deg=fit_deg)\n",
    "dense_latts = np.linspace(np.amin(latts), np.amax(latts), 1000)\n",
    "#dense_latts = np.linspace(0, 10, 1000)\n",
    "plt.plot(dense_latts, np.polyval(p=p, x=dense_latts), color='r', label='fit')\n",
    "plt.xlabel('Lattice constant [$\\mathrm{\\AA}$]')\n",
    "plt.ylabel('Bulk free energy [eV/supercell]')\n",
    "plt.legend()\n",
    "# Ok, a fourth-order fit seems perfectly reasonable"
   ]
  },
  {
   "cell_type": "code",
   "execution_count": 25,
   "metadata": {
    "ExecuteTime": {
     "end_time": "2019-09-04T10:49:08.821970Z",
     "start_time": "2019-09-04T10:49:08.804021Z"
    }
   },
   "outputs": [],
   "source": [
    "# Now find optimal temperatures\n",
    "best_latts = np.zeros(len(temperatures))\n",
    "best_latt_guess = basis_rel.cell[0][0]\n",
    "for i, T in enumerate(temperatures):\n",
    "    free_en = bulk_free_energies[:, i]\n",
    "    p = np.polyfit(latts, free_en, deg=fit_deg)\n",
    "    extrema = np.roots(np.polyder(p, m=1)).real  # Find where first-derivative is zero\n",
    "    best_latts[i] = extrema[np.argmin(np.abs(extrema - best_latt_guess))]"
   ]
  },
  {
   "cell_type": "code",
   "execution_count": 26,
   "metadata": {
    "ExecuteTime": {
     "end_time": "2019-09-04T10:49:08.827544Z",
     "start_time": "2019-09-04T10:49:08.823767Z"
    }
   },
   "outputs": [
    {
     "name": "stdout",
     "output_type": "stream",
     "text": [
      "4.045270475668763 \n",
      " [4.05946291 4.05949371 4.05987201 4.06083718 4.06226186 4.06396024\n",
      " 4.06579637 4.06768361 4.06956868 4.0714193  4.07321635 4.07494901\n",
      " 4.07661182 4.07820271 4.07972185 4.08117076 4.08255184 4.08386799\n",
      " 4.08512237 4.08631821 4.08745877 4.0885472  4.08958656 4.09057975\n",
      " 4.0915295  4.09243842 4.09330892 4.09414326 4.09494357 4.09571182\n",
      " 4.09644984 4.09715935]\n"
     ]
    }
   ],
   "source": [
    "# Check that they're resonable\n",
    "print(best_latt_guess, '\\n', best_latts)"
   ]
  },
  {
   "cell_type": "code",
   "execution_count": 27,
   "metadata": {
    "ExecuteTime": {
     "end_time": "2019-09-04T10:49:09.403215Z",
     "start_time": "2019-09-04T10:49:08.829230Z"
    }
   },
   "outputs": [
    {
     "data": {
      "text/plain": [
       "[<matplotlib.lines.Line2D at 0x2b61d9e8ee80>]"
      ]
     },
     "execution_count": 27,
     "metadata": {},
     "output_type": "execute_result"
    },
    {
     "data": {
      "image/png": "[encoded data removed]",
      "text/plain": [
       "<Figure size 432x288 with 2 Axes>"
      ]
     },
     "metadata": {
      "needs_background": "light"
     },
     "output_type": "display_data"
    }
   ],
   "source": [
    "# Let's look at the landscape\n",
    "fig, ax = plt.subplots()\n",
    "sns.heatmap(bulk_free_energies, ax=ax, cmap=\"coolwarm\",\n",
    "            xticklabels=['{:,.0f}'.format(T) for T in temperatures],\n",
    "            yticklabels=['{:,.2f}'.format(a) for a in latts])\n",
    "ax.set_xlabel(\"Temperature [K]\")\n",
    "ax.set_ylabel(\"Lattice constant [$\\mathrm{\\AA}$]\")\n",
    "\n",
    "# Overlaying the optimal path takes a couple changes of variables\n",
    "# since the heatmap is plotting integer cells\n",
    "\n",
    "\n",
    "ax.plot(scale_array(temperatures, new_range=len(temperatures)), \n",
    "        scale_array(best_latts, scaler=latts, new_range=len(latts)), \n",
    "        color='k')\n"
   ]
  },
  {
   "cell_type": "markdown",
   "metadata": {},
   "source": [
    "## Vacancies and diffusion\n",
    "\n",
    "Another common use of QHA is to calculate the pre-factor for migration in a diffusion event.\n",
    "\n",
    "In particular, the diffusion jump barrier looks like $\\omega_0 = \\nu_0^\\star \\exp(-H_\\mathrm{m} / k_\\mathrm{B} T)$, where $\\nu_0^\\star = \\prod_{i=1}^{3N-3} \\nu_i^\\mathrm{IS} / \\prod_{i=1}^{3N-4} \\nu_i^\\mathrm{TS}$, with IS and TS indicating the initial and transition states, respectively. Note that the transition state is missing a single frequency, which is from the instability of the transition state. It's either an imaginary mode, which I think means a negative frequency. Meanwhile, $H_\\mathrm{m}$ is the enthalpic barrier (difference between the initial and transition states) and $k_\\mathrm{B} T$ is the usual thermal energy term.\n",
    "\n",
    "Typically, these sorts of investigations use the nudged elastic band (NEB) to find the 0K transition state. You can do that with our new flexible jobs, but we'll save that for later. For now we'll just \"approximate\" the transition state with a simple linear interpolation."
   ]
  },
  {
   "cell_type": "markdown",
   "metadata": {
    "ExecuteTime": {
     "end_time": "2018-12-04T13:20:03.212626Z",
     "start_time": "2018-12-04T13:20:03.208808Z"
    }
   },
   "source": [
    "### Stable vacancy structures\n",
    "\n",
    "Let's start by generating and relaxing the initial and final states"
   ]
  },
  {
   "cell_type": "code",
   "execution_count": 28,
   "metadata": {
    "ExecuteTime": {
     "end_time": "2019-09-04T10:49:09.408299Z",
     "start_time": "2019-09-04T10:49:09.405043Z"
    }
   },
   "outputs": [],
   "source": [
    "pr_vac = pr.create_group(\"Vacancies\")"
   ]
  },
  {
   "cell_type": "code",
   "execution_count": 29,
   "metadata": {
    "ExecuteTime": {
     "end_time": "2019-09-04T10:49:09.420078Z",
     "start_time": "2019-09-04T10:49:09.409741Z"
    }
   },
   "outputs": [
    {
     "name": "stdout",
     "output_type": "stream",
     "text": [
      "[0. 0. 0.]\n",
      "[2.02263524 2.02263524 0.        ]\n"
     ]
    }
   ],
   "source": [
    "# Find two adjacent sites\n",
    "print(job_bulk_1.structure.positions[0])\n",
    "print(job_bulk_1.structure.positions[1])\n",
    "# Yep, 1 and 2 will do"
   ]
  },
  {
   "cell_type": "code",
   "execution_count": 30,
   "metadata": {
    "ExecuteTime": {
     "end_time": "2019-09-04T10:49:09.716448Z",
     "start_time": "2019-09-04T10:49:09.421499Z"
    }
   },
   "outputs": [],
   "source": [
    "job_vac_i = pr_vac.create_job(pr.job_type.Lammps, \"VacancyInitial\")\n",
    "job_vac_f = pr_vac.create_job(pr.job_type.Lammps, \"VacancyFinal\")\n",
    "\n",
    "job_vac_i.potential = pot\n",
    "job_vac_f.potential = pot"
   ]
  },
  {
   "cell_type": "code",
   "execution_count": 31,
   "metadata": {
    "ExecuteTime": {
     "end_time": "2019-09-04T10:49:09.817938Z",
     "start_time": "2019-09-04T10:49:09.790080Z"
    }
   },
   "outputs": [],
   "source": [
    "sc_vac_i = sc_bulk_rel.copy()\n",
    "sc_vac_i.pop(0)\n",
    "job_vac_i.structure = sc_vac_i\n",
    "\n",
    "sc_vac_f = sc_bulk_rel.copy()\n",
    "sc_vac_f.pop(1)\n",
    "job_vac_f.structure = sc_vac_f"
   ]
  },
  {
   "cell_type": "code",
   "execution_count": 32,
   "metadata": {
    "ExecuteTime": {
     "end_time": "2019-09-04T10:49:12.794794Z",
     "start_time": "2019-09-04T10:49:09.819553Z"
    }
   },
   "outputs": [
    {
     "name": "stdout",
     "output_type": "stream",
     "text": [
      "The job VacancyInitial was saved and received the ID: 3596547\n",
      "The job VacancyFinal was saved and received the ID: 3596549\n"
     ]
    }
   ],
   "source": [
    "# Relax the new vacancy structures\n",
    "job_vac_i.calc_minimize(pressure=0.0)\n",
    "job_vac_i.run()\n",
    "\n",
    "job_vac_f.calc_minimize(pressure=0.0)\n",
    "job_vac_f.run()"
   ]
  },
  {
   "cell_type": "markdown",
   "metadata": {
    "heading_collapsed": true
   },
   "source": [
    "### DOS\n",
    "\n",
    "The PyIron implementation of phonopy makes it very easy to look at the DOS. Let's see what the effect is of introducing a vacancy, and confirm that our two vacancies are equivalent."
   ]
  },
  {
   "cell_type": "code",
   "execution_count": 33,
   "metadata": {
    "ExecuteTime": {
     "end_time": "2019-09-04T10:49:14.899482Z",
     "start_time": "2019-09-04T10:49:12.796728Z"
    },
    "hidden": true
   },
   "outputs": [],
   "source": [
    "phon_vac_i = make_phonopy_job(job_vac_i, \"PhonoVacInitial\")\n",
    "phon_vac_f = make_phonopy_job(job_vac_f, \"PhonoVacFinal\")"
   ]
  },
  {
   "cell_type": "code",
   "execution_count": 34,
   "metadata": {
    "ExecuteTime": {
     "end_time": "2019-09-04T10:51:43.690925Z",
     "start_time": "2019-09-04T10:49:14.932912Z"
    },
    "hidden": true
   },
   "outputs": [
    {
     "name": "stdout",
     "output_type": "stream",
     "text": [
      "The job PhonoVacInitial was saved and received the ID: 3596552\n",
      "The job supercell_phonon_0 was saved and received the ID: 3596554\n",
      "The job supercell_phonon_1 was saved and received the ID: 3596556\n",
      "The job supercell_phonon_2 was saved and received the ID: 3596559\n",
      "The job supercell_phonon_3 was saved and received the ID: 3596561\n",
      "The job supercell_phonon_4 was saved and received the ID: 3596564\n",
      "The job supercell_phonon_5 was saved and received the ID: 3596566\n",
      "The job supercell_phonon_6 was saved and received the ID: 3596569\n",
      "The job supercell_phonon_7 was saved and received the ID: 3596571\n",
      "The job supercell_phonon_8 was saved and received the ID: 3596573\n",
      "The job supercell_phonon_9 was saved and received the ID: 3596576\n",
      "The job supercell_phonon_10 was saved and received the ID: 3596578\n",
      "The job supercell_phonon_11 was saved and received the ID: 3596580\n",
      "The job supercell_phonon_12 was saved and received the ID: 3596582\n",
      "The job supercell_phonon_13 was saved and received the ID: 3596585\n",
      "The job supercell_phonon_14 was saved and received the ID: 3596587\n",
      "The job supercell_phonon_15 was saved and received the ID: 3596589\n",
      "The job supercell_phonon_16 was saved and received the ID: 3596592\n",
      "The job supercell_phonon_17 was saved and received the ID: 3596594\n",
      "The job supercell_phonon_18 was saved and received the ID: 3596597\n",
      "The job supercell_phonon_19 was saved and received the ID: 3596599\n",
      "The job supercell_phonon_20 was saved and received the ID: 3596601\n",
      "The job PhonoVacFinal was saved and received the ID: 3596613\n",
      "The job supercell_phonon_0 was saved and received the ID: 3596616\n",
      "The job supercell_phonon_1 was saved and received the ID: 3596618\n",
      "The job supercell_phonon_2 was saved and received the ID: 3596620\n",
      "The job supercell_phonon_3 was saved and received the ID: 3596623\n",
      "The job supercell_phonon_4 was saved and received the ID: 3596625\n",
      "The job supercell_phonon_5 was saved and received the ID: 3596628\n",
      "The job supercell_phonon_6 was saved and received the ID: 3596630\n",
      "The job supercell_phonon_7 was saved and received the ID: 3596632\n",
      "The job supercell_phonon_8 was saved and received the ID: 3596635\n",
      "The job supercell_phonon_9 was saved and received the ID: 3596637\n",
      "The job supercell_phonon_10 was saved and received the ID: 3596640\n",
      "The job supercell_phonon_11 was saved and received the ID: 3596642\n",
      "The job supercell_phonon_12 was saved and received the ID: 3596644\n",
      "The job supercell_phonon_13 was saved and received the ID: 3596646\n",
      "The job supercell_phonon_14 was saved and received the ID: 3596649\n",
      "The job supercell_phonon_15 was saved and received the ID: 3596651\n",
      "The job supercell_phonon_16 was saved and received the ID: 3596653\n",
      "The job supercell_phonon_17 was saved and received the ID: 3596655\n",
      "The job supercell_phonon_18 was saved and received the ID: 3596658\n",
      "The job supercell_phonon_19 was saved and received the ID: 3596659\n",
      "The job supercell_phonon_20 was saved and received the ID: 3596660\n"
     ]
    }
   ],
   "source": [
    "phon_vac_i.run()\n",
    "tp_vac_i = phon_vac_i.get_thermal_properties(temperatures=temperatures) \n",
    "\n",
    "phon_vac_f.run()\n",
    "tp_vac_f = phon_vac_i.get_thermal_properties(temperatures=temperatures) \n",
    "\n",
    "# Note that the vacancy structures spawn many more child processes\n",
    "# This is because the vacancy structure has lower symmetry"
   ]
  },
  {
   "cell_type": "code",
   "execution_count": 35,
   "metadata": {
    "ExecuteTime": {
     "end_time": "2019-09-04T10:51:48.255272Z",
     "start_time": "2019-09-04T10:51:43.734203Z"
    },
    "hidden": true
   },
   "outputs": [
    {
     "data": {
      "text/plain": [
       "<matplotlib.legend.Legend at 0x2b61da20bcc0>"
      ]
     },
     "execution_count": 35,
     "metadata": {},
     "output_type": "execute_result"
    },
    {
     "data": {
      "image/png": "[encoded data removed]",
      "text/plain": [
       "<Figure size 432x288 with 1 Axes>"
      ]
     },
     "metadata": {
      "needs_background": "light"
     },
     "output_type": "display_data"
    }
   ],
   "source": [
    "fig, ax = plt.subplots()\n",
    "phono_bulk_1.plot_dos(ax=ax, color='b', label='bulk')\n",
    "phon_vac_i.plot_dos(ax=ax, color='r', label='vac_i')\n",
    "phon_vac_f.plot_dos(ax=ax, color='orange', label='vac_f')\n",
    "plt.legend()\n"
   ]
  },
  {
   "cell_type": "markdown",
   "metadata": {},
   "source": [
    "### Attack frequency\n",
    "\n",
    "Now we get the attack frequency by comparing the individual phonon spectra of initial and transition states"
   ]
  },
  {
   "cell_type": "code",
   "execution_count": 36,
   "metadata": {
    "ExecuteTime": {
     "end_time": "2019-09-04T10:51:48.266301Z",
     "start_time": "2019-09-04T10:51:48.257052Z"
    }
   },
   "outputs": [],
   "source": [
    "# Interpolate initial and final positions to guesstimate the transition state\n",
    "sc_vac_ts = sc_vac_i.copy()\n",
    "sc_vac_ts.positions = 0.5 * (sc_vac_i.positions + sc_vac_f.positions)"
   ]
  },
  {
   "cell_type": "code",
   "execution_count": 37,
   "metadata": {
    "ExecuteTime": {
     "end_time": "2019-09-04T10:51:48.435722Z",
     "start_time": "2019-09-04T10:51:48.267775Z"
    }
   },
   "outputs": [],
   "source": [
    "job_vac_ts = pr_vac.create_job(pr.job_type.Lammps, \"VacancyTransition\")\n",
    "job_vac_ts.potential = pot\n",
    "job_vac_ts.structure = sc_vac_ts\n"
   ]
  },
  {
   "cell_type": "code",
   "execution_count": 38,
   "metadata": {
    "ExecuteTime": {
     "end_time": "2019-09-04T10:51:50.090161Z",
     "start_time": "2019-09-04T10:51:48.466378Z"
    }
   },
   "outputs": [
    {
     "name": "stdout",
     "output_type": "stream",
     "text": [
      "The job VacancyTransition was saved and received the ID: 3596670\n"
     ]
    }
   ],
   "source": [
    "# We _don't_ relax this job, or it would fall into the initial or final state!\n",
    "job_vac_ts.calc_static()\n",
    "job_vac_ts.run()"
   ]
  },
  {
   "cell_type": "code",
   "execution_count": 39,
   "metadata": {
    "ExecuteTime": {
     "end_time": "2019-09-04T10:51:50.634265Z",
     "start_time": "2019-09-04T10:51:50.092331Z"
    }
   },
   "outputs": [],
   "source": [
    "phon_vac_ts = make_phonopy_job(job_vac_ts, \"PhonoVacTransition\")"
   ]
  },
  {
   "cell_type": "code",
   "execution_count": 40,
   "metadata": {
    "ExecuteTime": {
     "end_time": "2019-09-04T10:57:02.159948Z",
     "start_time": "2019-09-04T10:51:50.665611Z"
    }
   },
   "outputs": [
    {
     "name": "stdout",
     "output_type": "stream",
     "text": [
      "The job PhonoVacTransition was saved and received the ID: 3596673\n",
      "The job supercell_phonon_0 was saved and received the ID: 3596676\n",
      "The job supercell_phonon_1 was saved and received the ID: 3596678\n",
      "The job supercell_phonon_2 was saved and received the ID: 3596681\n",
      "The job supercell_phonon_3 was saved and received the ID: 3596683\n",
      "The job supercell_phonon_4 was saved and received the ID: 3596686\n",
      "The job supercell_phonon_5 was saved and received the ID: 3596688\n",
      "The job supercell_phonon_6 was saved and received the ID: 3596691\n",
      "The job supercell_phonon_7 was saved and received the ID: 3596693\n",
      "The job supercell_phonon_8 was saved and received the ID: 3596695\n",
      "The job supercell_phonon_9 was saved and received the ID: 3596698\n",
      "The job supercell_phonon_10 was saved and received the ID: 3596700\n",
      "The job supercell_phonon_11 was saved and received the ID: 3596703\n",
      "The job supercell_phonon_12 was saved and received the ID: 3596705\n",
      "The job supercell_phonon_13 was saved and received the ID: 3596707\n",
      "The job supercell_phonon_14 was saved and received the ID: 3596709\n",
      "The job supercell_phonon_15 was saved and received the ID: 3596712\n",
      "The job supercell_phonon_16 was saved and received the ID: 3596714\n",
      "The job supercell_phonon_17 was saved and received the ID: 3596716\n",
      "The job supercell_phonon_18 was saved and received the ID: 3596719\n",
      "The job supercell_phonon_19 was saved and received the ID: 3596721\n",
      "The job supercell_phonon_20 was saved and received the ID: 3596723\n",
      "The job supercell_phonon_21 was saved and received the ID: 3596726\n",
      "The job supercell_phonon_22 was saved and received the ID: 3596728\n",
      "The job supercell_phonon_23 was saved and received the ID: 3596731\n",
      "The job supercell_phonon_24 was saved and received the ID: 3596733\n",
      "The job supercell_phonon_25 was saved and received the ID: 3596735\n",
      "The job supercell_phonon_26 was saved and received the ID: 3596738\n",
      "The job supercell_phonon_27 was saved and received the ID: 3596740\n",
      "The job supercell_phonon_28 was saved and received the ID: 3596742\n",
      "The job supercell_phonon_29 was saved and received the ID: 3596744\n",
      "The job supercell_phonon_30 was saved and received the ID: 3596746\n",
      "The job supercell_phonon_31 was saved and received the ID: 3596749\n",
      "The job supercell_phonon_32 was saved and received the ID: 3596751\n",
      "The job supercell_phonon_33 was saved and received the ID: 3596754\n",
      "The job supercell_phonon_34 was saved and received the ID: 3596756\n",
      "The job supercell_phonon_35 was saved and received the ID: 3596758\n",
      "The job supercell_phonon_36 was saved and received the ID: 3596760\n",
      "The job supercell_phonon_37 was saved and received the ID: 3596762\n",
      "The job supercell_phonon_38 was saved and received the ID: 3596765\n",
      "The job supercell_phonon_39 was saved and received the ID: 3596767\n",
      "The job supercell_phonon_40 was saved and received the ID: 3596769\n",
      "The job supercell_phonon_41 was saved and received the ID: 3596772\n",
      "The job supercell_phonon_42 was saved and received the ID: 3596774\n",
      "The job supercell_phonon_43 was saved and received the ID: 3596776\n",
      "The job supercell_phonon_44 was saved and received the ID: 3596778\n",
      "The job supercell_phonon_45 was saved and received the ID: 3596781\n",
      "The job supercell_phonon_46 was saved and received the ID: 3596782\n",
      "The job supercell_phonon_47 was saved and received the ID: 3596783\n",
      "The job supercell_phonon_48 was saved and received the ID: 3596784\n",
      "The job supercell_phonon_49 was saved and received the ID: 3596785\n",
      "The job supercell_phonon_50 was saved and received the ID: 3596786\n",
      "The job supercell_phonon_51 was saved and received the ID: 3596788\n",
      "The job supercell_phonon_52 was saved and received the ID: 3596790\n",
      "The job supercell_phonon_53 was saved and received the ID: 3596792\n",
      "The job supercell_phonon_54 was saved and received the ID: 3596794\n",
      "The job supercell_phonon_55 was saved and received the ID: 3596796\n",
      "The job supercell_phonon_56 was saved and received the ID: 3596798\n",
      "The job supercell_phonon_57 was saved and received the ID: 3596799\n",
      "The job supercell_phonon_58 was saved and received the ID: 3596801\n",
      "The job supercell_phonon_59 was saved and received the ID: 3596803\n",
      "The job supercell_phonon_60 was saved and received the ID: 3596806\n",
      "The job supercell_phonon_61 was saved and received the ID: 3596808\n",
      "The job supercell_phonon_62 was saved and received the ID: 3596810\n",
      "The job supercell_phonon_63 was saved and received the ID: 3596813\n",
      "The job supercell_phonon_64 was saved and received the ID: 3596815\n",
      "The job supercell_phonon_65 was saved and received the ID: 3596817\n",
      "The job supercell_phonon_66 was saved and received the ID: 3596819\n",
      "The job supercell_phonon_67 was saved and received the ID: 3596822\n",
      "The job supercell_phonon_68 was saved and received the ID: 3596824\n",
      "The job supercell_phonon_69 was saved and received the ID: 3596826\n",
      "The job supercell_phonon_70 was saved and received the ID: 3596829\n",
      "The job supercell_phonon_71 was saved and received the ID: 3596831\n",
      "The job supercell_phonon_72 was saved and received the ID: 3596833\n",
      "The job supercell_phonon_73 was saved and received the ID: 3596836\n",
      "The job supercell_phonon_74 was saved and received the ID: 3596838\n",
      "The job supercell_phonon_75 was saved and received the ID: 3596842\n",
      "The job supercell_phonon_76 was saved and received the ID: 3596846\n",
      "The job supercell_phonon_77 was saved and received the ID: 3596850\n",
      "The job supercell_phonon_78 was saved and received the ID: 3596855\n",
      "The job supercell_phonon_79 was saved and received the ID: 3596858\n",
      "The job supercell_phonon_80 was saved and received the ID: 3596863\n",
      "The job supercell_phonon_81 was saved and received the ID: 3596866\n",
      "The job supercell_phonon_82 was saved and received the ID: 3596869\n",
      "The job supercell_phonon_83 was saved and received the ID: 3596874\n",
      "The job supercell_phonon_84 was saved and received the ID: 3596878\n",
      "The job supercell_phonon_85 was saved and received the ID: 3596881\n",
      "The job supercell_phonon_86 was saved and received the ID: 3596885\n",
      "The job supercell_phonon_87 was saved and received the ID: 3596890\n",
      "The job supercell_phonon_88 was saved and received the ID: 3596894\n",
      "The job supercell_phonon_89 was saved and received the ID: 3596898\n",
      "The job supercell_phonon_90 was saved and received the ID: 3596902\n",
      "The job supercell_phonon_91 was saved and received the ID: 3596907\n",
      "The job supercell_phonon_92 was saved and received the ID: 3596911\n",
      "The job supercell_phonon_93 was saved and received the ID: 3596915\n",
      "The job supercell_phonon_94 was saved and received the ID: 3596920\n"
     ]
    }
   ],
   "source": [
    "phon_vac_ts.run()\n",
    "tp_vac_ts = phon_vac_ts.get_thermal_properties(temperatures=temperatures) "
   ]
  },
  {
   "cell_type": "code",
   "execution_count": 41,
   "metadata": {
    "ExecuteTime": {
     "end_time": "2019-09-04T10:57:11.358756Z",
     "start_time": "2019-09-04T10:57:02.217501Z"
    }
   },
   "outputs": [
    {
     "data": {
      "text/plain": [
       "<matplotlib.legend.Legend at 0x2b61db5474e0>"
      ]
     },
     "execution_count": 41,
     "metadata": {},
     "output_type": "execute_result"
    },
    {
     "data": {
      "image/png": "[encoded data removed]",
      "text/plain": [
       "<Figure size 432x288 with 1 Axes>"
      ]
     },
     "metadata": {
      "needs_background": "light"
     },
     "output_type": "display_data"
    }
   ],
   "source": [
    "# The transition state has an imaginary mode (frequency < 0), let's see it\n",
    "fig, ax = plt.subplots()\n",
    "phon_vac_i.plot_dos(ax=ax, color='r', label='initial')\n",
    "phon_vac_ts.plot_dos(ax=ax, color='b', label='transition')\n",
    "plt.legend()\n"
   ]
  },
  {
   "cell_type": "markdown",
   "metadata": {},
   "source": [
    "To calculate the attack frequency, we'll ignore both the negative mode of the transition state (which we were warned about in the equation), as well as the three frequencies which correspond to rigid translation and are very near zero, and sometimes dip to be negative. Phonopy sorts the frequencies by magnitude, so we can just skip the first three and four for the initial and transition states, respectively. We take them at q=0."
   ]
  },
  {
   "cell_type": "code",
   "execution_count": 42,
   "metadata": {
    "ExecuteTime": {
     "end_time": "2019-09-04T10:57:11.920750Z",
     "start_time": "2019-09-04T10:57:11.360499Z"
    }
   },
   "outputs": [],
   "source": [
    "freq_i = phon_vac_i.phonopy.get_frequencies(0)[3:] \n",
    "freq_ts = phon_vac_i.phonopy.get_frequencies(0)[4:]"
   ]
  },
  {
   "cell_type": "code",
   "execution_count": 43,
   "metadata": {
    "ExecuteTime": {
     "end_time": "2019-09-04T10:57:11.961543Z",
     "start_time": "2019-09-04T10:57:11.926145Z"
    }
   },
   "outputs": [
    {
     "name": "stdout",
     "output_type": "stream",
     "text": [
      "6.870675816849329e+236\n"
     ]
    }
   ],
   "source": [
    "print(np.prod(freq_i))"
   ]
  },
  {
   "cell_type": "markdown",
   "metadata": {},
   "source": [
    "Recall: $\\nu_0^\\star = \\prod_{i=1}^{3N-3} \\nu_i^\\mathrm{IS} / \\prod_{i=1}^{3N-4} \\nu_i^\\mathrm{TS}$"
   ]
  },
  {
   "cell_type": "code",
   "execution_count": 44,
   "metadata": {
    "ExecuteTime": {
     "end_time": "2019-09-04T10:57:11.973754Z",
     "start_time": "2019-09-04T10:57:11.962912Z"
    }
   },
   "outputs": [
    {
     "name": "stdout",
     "output_type": "stream",
     "text": [
      "Attack frequency is  2.6826827779812032 THz (10^-12 s)\n"
     ]
    }
   ],
   "source": [
    "# Products are dangerous beasts, so we'll do a little numeric magic\n",
    "nu = np.prod(freq_i[:-1] / freq_ts) * freq_i[-1]\n",
    "print(\"Attack frequency is \", nu, \"THz (10^-12 s)\")"
   ]
  },
  {
   "cell_type": "markdown",
   "metadata": {},
   "source": [
    "Mantina *et al.* (PRL 2008) report $\\nu = 19.3$ THz using DFT and NEB, so our linearly-interpolated \"transition state\" with EAM is actually not doing so poorly.\n",
    "\n",
    "There are many more things you can do with phonopy, including looking directly at the force constants, the Hessian matrix, etc. But hopefully this is a useful starting point."
   ]
  },
  {
   "cell_type": "code",
   "execution_count": null,
   "metadata": {},
   "outputs": [],
   "source": []
  }
 ],
 "metadata": {
  "kernelspec": {
   "display_name": "Python 3",
   "language": "python",
   "name": "python3"
  },
  "language_info": {
   "codemirror_mode": {
    "name": "ipython",
    "version": 3
   },
   "file_extension": ".py",
   "mimetype": "text/x-python",
   "name": "python",
   "nbconvert_exporter": "python",
   "pygments_lexer": "ipython3",
   "version": "3.7.3"
  },
  "toc": {
   "base_numbering": 1,
   "nav_menu": {},
   "number_sections": true,
   "sideBar": true,
   "skip_h1_title": false,
   "title_cell": "Table of Contents",
   "title_sidebar": "Contents",
   "toc_cell": false,
   "toc_position": {},
   "toc_section_display": true,
   "toc_window_display": false
  }
 },
 "nbformat": 4,
 "nbformat_minor": 4
}
