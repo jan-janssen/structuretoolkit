{
 "cells": [
  {
   "cell_type": "code",
   "execution_count": 1,
   "metadata": {
    "ExecuteTime": {
     "end_time": "2020-06-23T07:39:15.157443Z",
     "start_time": "2020-06-23T07:39:14.154432Z"
    }
   },
   "outputs": [],
   "source": [
    "from pyiron import Project\n",
    "import numpy as np"
   ]
  },
  {
   "cell_type": "code",
   "execution_count": 2,
   "metadata": {
    "ExecuteTime": {
     "end_time": "2020-06-23T07:39:15.909487Z",
     "start_time": "2020-06-23T07:39:15.158764Z"
    }
   },
   "outputs": [],
   "source": [
    "pr = Project('SPX_CHECK_ALL')\n",
    "pr.remove_jobs(recursive=True)"
   ]
  },
  {
   "cell_type": "code",
   "execution_count": 3,
   "metadata": {
    "ExecuteTime": {
     "end_time": "2020-06-23T07:39:15.914318Z",
     "start_time": "2020-06-23T07:39:15.911912Z"
    }
   },
   "outputs": [],
   "source": [
    "a_Fe = 2.83\n",
    "a_Al = 4.024"
   ]
  },
  {
   "cell_type": "code",
   "execution_count": 4,
   "metadata": {
    "ExecuteTime": {
     "end_time": "2020-06-23T07:39:19.363502Z",
     "start_time": "2020-06-23T07:39:15.915783Z"
    }
   },
   "outputs": [
    {
     "name": "stdout",
     "output_type": "stream",
     "text": [
      "The job spx_Fe_nonmag was saved and received the ID: 1\n"
     ]
    }
   ],
   "source": [
    "job = pr.create_job(pr.job_type.Sphinx, 'spx_Fe_nonmag')\n",
    "job.structure = pr.create_structure('Fe', 'bcc', a_Fe)\n",
    "job.calc_static()\n",
    "job.run()"
   ]
  },
  {
   "cell_type": "code",
   "execution_count": 5,
   "metadata": {
    "ExecuteTime": {
     "end_time": "2020-06-23T07:39:19.436394Z",
     "start_time": "2020-06-23T07:39:19.410463Z"
    }
   },
   "outputs": [],
   "source": [
    "if np.linalg.norm(job['output/generic/forces'])>1.0e-4:\n",
    "    raise ValueError('Forces wrong')"
   ]
  },
  {
   "cell_type": "code",
   "execution_count": 6,
   "metadata": {
    "ExecuteTime": {
     "end_time": "2020-06-23T07:39:19.459790Z",
     "start_time": "2020-06-23T07:39:19.437472Z"
    }
   },
   "outputs": [],
   "source": [
    "if np.linalg.norm(job.structure.positions-job['output/generic/positions'][-1])>1.0e-4:\n",
    "    raise ValueError('Positions not correctly parsed')"
   ]
  },
  {
   "cell_type": "code",
   "execution_count": 7,
   "metadata": {
    "ExecuteTime": {
     "end_time": "2020-06-23T07:39:19.483804Z",
     "start_time": "2020-06-23T07:39:19.460848Z"
    }
   },
   "outputs": [],
   "source": [
    "if np.linalg.norm(job.structure.cell-job['output/generic/cells'][-1])>1.0e-4:\n",
    "    raise ValueError('Cells not correctly parsed')"
   ]
  },
  {
   "cell_type": "code",
   "execution_count": 8,
   "metadata": {
    "ExecuteTime": {
     "end_time": "2020-06-23T07:39:19.511154Z",
     "start_time": "2020-06-23T07:39:19.485558Z"
    }
   },
   "outputs": [],
   "source": [
    "if 'atom_spins' in job['output/generic/dft'].list_nodes():\n",
    "    raise AssertionError('spins present')"
   ]
  },
  {
   "cell_type": "code",
   "execution_count": 9,
   "metadata": {
    "ExecuteTime": {
     "end_time": "2020-06-23T07:39:19.536742Z",
     "start_time": "2020-06-23T07:39:19.512721Z"
    }
   },
   "outputs": [],
   "source": [
    "if np.abs(job['output/generic/volume']-np.linalg.det(job.structure.cell)) > 1.0e-4:\n",
    "    raise ValueError('Volume wrong')"
   ]
  },
  {
   "cell_type": "code",
   "execution_count": 10,
   "metadata": {
    "ExecuteTime": {
     "end_time": "2020-06-23T07:39:19.562187Z",
     "start_time": "2020-06-23T07:39:19.538112Z"
    }
   },
   "outputs": [],
   "source": [
    "if np.linalg.norm(job.structure.positions-job['output/generic/positions'][0])>1.0e-4:\n",
    "    raise ValueError('Positions not parsed properly')"
   ]
  },
  {
   "cell_type": "code",
   "execution_count": 11,
   "metadata": {
    "ExecuteTime": {
     "end_time": "2020-06-23T07:39:24.488908Z",
     "start_time": "2020-06-23T07:39:19.563403Z"
    }
   },
   "outputs": [
    {
     "name": "stdout",
     "output_type": "stream",
     "text": [
      "The job spx_Fe_ferro was saved and received the ID: 2\n"
     ]
    }
   ],
   "source": [
    "job = pr.create_job(pr.job_type.Sphinx, 'spx_Fe_ferro')\n",
    "job.structure = pr.create_structure('Fe', 'bcc', a_Fe)\n",
    "job.structure.set_initial_magnetic_moments([2, 2])\n",
    "job.calc_static()\n",
    "job.run()"
   ]
  },
  {
   "cell_type": "code",
   "execution_count": 12,
   "metadata": {
    "ExecuteTime": {
     "end_time": "2020-06-23T07:39:24.599627Z",
     "start_time": "2020-06-23T07:39:24.528435Z"
    }
   },
   "outputs": [],
   "source": [
    "if pr.inspect('spx_Fe_ferro')['output/generic/energy_tot'][0]-pr.inspect('spx_Fe_nonmag')['output/generic/energy_tot'][0]>0:\n",
    "    raise ValueError('BCC Fe erromagnetic state has lower energy than nonmagnetic state')"
   ]
  },
  {
   "cell_type": "code",
   "execution_count": 13,
   "metadata": {
    "ExecuteTime": {
     "end_time": "2020-06-23T07:39:33.767916Z",
     "start_time": "2020-06-23T07:39:24.600821Z"
    }
   },
   "outputs": [
    {
     "name": "stdout",
     "output_type": "stream",
     "text": [
      "The job spx_Fe_ferro_C was saved and received the ID: 3\n"
     ]
    }
   ],
   "source": [
    "job = pr.create_job(pr.job_type.Sphinx, 'spx_Fe_ferro_C')\n",
    "job.structure = pr.create_structure('Fe', 'bcc', a_Fe)\n",
    "job.structure.set_initial_magnetic_moments([2, 2])\n",
    "job.structure += pr.create_atoms(elements=['C'], positions=[[0, 0, 0.5*a_Fe]], magmoms=[0])\n",
    "job.calc_static()\n",
    "job.run()"
   ]
  },
  {
   "cell_type": "code",
   "execution_count": 14,
   "metadata": {
    "ExecuteTime": {
     "end_time": "2020-06-23T07:39:33.830513Z",
     "start_time": "2020-06-23T07:39:33.807263Z"
    }
   },
   "outputs": [],
   "source": [
    "if np.linalg.norm(job.structure.positions-job['output/generic/positions'][-1])>1.0e-4:\n",
    "    raise ValueError('Positions not correctly parsed')"
   ]
  },
  {
   "cell_type": "code",
   "execution_count": 15,
   "metadata": {
    "ExecuteTime": {
     "end_time": "2020-06-23T07:39:37.443100Z",
     "start_time": "2020-06-23T07:39:33.831572Z"
    }
   },
   "outputs": [
    {
     "name": "stdout",
     "output_type": "stream",
     "text": [
      "The job spx_Al was saved and received the ID: 4\n"
     ]
    }
   ],
   "source": [
    "job = pr.create_job(pr.job_type.Sphinx, 'spx_Al')\n",
    "job.structure = pr.create_structure('Al', 'fcc', a_Al)\n",
    "job.calc_static()\n",
    "job.run()"
   ]
  },
  {
   "cell_type": "code",
   "execution_count": 16,
   "metadata": {
    "ExecuteTime": {
     "end_time": "2020-06-23T07:39:42.639670Z",
     "start_time": "2020-06-23T07:39:37.482619Z"
    }
   },
   "outputs": [
    {
     "name": "stdout",
     "output_type": "stream",
     "text": [
      "The job spx_Al_restart was saved and received the ID: 5\n"
     ]
    }
   ],
   "source": [
    "job = job.restart()\n",
    "job.run()"
   ]
  },
  {
   "cell_type": "code",
   "execution_count": 17,
   "metadata": {
    "ExecuteTime": {
     "end_time": "2020-06-23T07:39:42.915947Z",
     "start_time": "2020-06-23T07:39:42.679235Z"
    }
   },
   "outputs": [],
   "source": [
    "if 'spx_Al_restart' not in list(pr.job_table().job):\n",
    "    raise AssertionError('restart job not found')"
   ]
  },
  {
   "cell_type": "code",
   "execution_count": 18,
   "metadata": {
    "ExecuteTime": {
     "end_time": "2020-06-23T07:39:42.991221Z",
     "start_time": "2020-06-23T07:39:42.917242Z"
    }
   },
   "outputs": [],
   "source": [
    "if np.abs(pr.inspect('spx_Al')['output/generic/energy_tot'][-1]-pr.inspect('spx_Al_restart')['output/generic/energy_tot'][-1])>1.0e-3:\n",
    "    raise ValueError('Energy value after restart too different')"
   ]
  },
  {
   "cell_type": "code",
   "execution_count": 19,
   "metadata": {
    "ExecuteTime": {
     "end_time": "2020-06-23T07:39:48.939072Z",
     "start_time": "2020-06-23T07:39:42.992325Z"
    }
   },
   "outputs": [
    {
     "name": "stdout",
     "output_type": "stream",
     "text": [
      "The job spx_Al_minimize was saved and received the ID: 6\n"
     ]
    }
   ],
   "source": [
    "job = pr.create_job(pr.job_type.Sphinx, 'spx_Al_minimize')\n",
    "job.structure = pr.create_structure('Al', 'fcc', a_Al)\n",
    "job.structure.positions[0,0] += 0.01\n",
    "job.calc_minimize()\n",
    "job.run()"
   ]
  },
  {
   "cell_type": "code",
   "execution_count": 20,
   "metadata": {
    "ExecuteTime": {
     "end_time": "2020-06-23T07:39:49.002875Z",
     "start_time": "2020-06-23T07:39:48.979875Z"
    }
   },
   "outputs": [],
   "source": [
    "E = job['output/generic/energy_tot']\n",
    "if E[0]-E[1]<0:\n",
    "    raise AssertionError('Energy not decreased')"
   ]
  },
  {
   "cell_type": "code",
   "execution_count": 21,
   "metadata": {
    "ExecuteTime": {
     "end_time": "2020-06-23T07:39:52.597218Z",
     "start_time": "2020-06-23T07:39:49.003915Z"
    }
   },
   "outputs": [
    {
     "name": "stdout",
     "output_type": "stream",
     "text": [
      "The job spx_check_overlap was saved and received the ID: 7\n"
     ]
    }
   ],
   "source": [
    "job = pr.create_job(pr.job_type.Sphinx, 'spx_check_overlap')\n",
    "job.structure = pr.create_structure('Fe', 'bcc', 2.832)\n",
    "job.set_check_overlap(False)\n",
    "job.calc_static()\n",
    "job.run()"
   ]
  },
  {
   "cell_type": "code",
   "execution_count": 22,
   "metadata": {
    "ExecuteTime": {
     "end_time": "2020-06-23T07:39:56.191615Z",
     "start_time": "2020-06-23T07:39:52.638905Z"
    }
   },
   "outputs": [
    {
     "name": "stdout",
     "output_type": "stream",
     "text": [
      "The job spx_symmetry was saved and received the ID: 8\n"
     ]
    }
   ],
   "source": [
    "job = pr.create_job(pr.job_type.Sphinx, 'spx_symmetry')\n",
    "job.structure = pr.create_structure('Fe', 'bcc', 2.832)\n",
    "job.fix_symmetry = False\n",
    "job.calc_static()\n",
    "job.run()"
   ]
  },
  {
   "cell_type": "code",
   "execution_count": 23,
   "metadata": {
    "ExecuteTime": {
     "end_time": "2020-06-23T07:40:05.665582Z",
     "start_time": "2020-06-23T07:39:56.242111Z"
    }
   },
   "outputs": [
    {
     "name": "stdout",
     "output_type": "stream",
     "text": [
      "The job spx_Fe_ferro_constraint was saved and received the ID: 9\n"
     ]
    }
   ],
   "source": [
    "job = pr.create_job(pr.job_type.Sphinx, 'spx_Fe_ferro_constraint')\n",
    "job.structure = pr.create_structure('Fe', 'bcc', a_Fe)\n",
    "job.structure.set_initial_magnetic_moments([2, 2])\n",
    "job.fix_spin_constraint = True\n",
    "job.calc_static()\n",
    "job.run()"
   ]
  },
  {
   "cell_type": "code",
   "execution_count": 24,
   "metadata": {
    "ExecuteTime": {
     "end_time": "2020-06-23T07:40:05.727560Z",
     "start_time": "2020-06-23T07:40:05.706075Z"
    }
   },
   "outputs": [],
   "source": [
    "if np.linalg.norm(job['output/generic/dft/atom_spins']-job.structure.get_initial_magnetic_moments())>1.0e-4:\n",
    "    raise AssertionError('Magnetic moments either not properly parsed or constraining not working')"
   ]
  },
  {
   "cell_type": "code",
   "execution_count": 25,
   "metadata": {
    "ExecuteTime": {
     "end_time": "2020-06-23T07:40:09.351266Z",
     "start_time": "2020-06-23T07:40:05.728658Z"
    }
   },
   "outputs": [
    {
     "name": "stdout",
     "output_type": "stream",
     "text": [
      "The job spx_Al_submit was saved and received the ID: 10\n"
     ]
    }
   ],
   "source": [
    "job = pr.create_job(pr.job_type.Sphinx, 'spx_Al_submit')\n",
    "job.structure = pr.create_structure('Al', 'fcc', a_Al)\n",
    "job.calc_static()\n",
    "# job.server.queue = 'impi_hy'\n",
    "job.run()"
   ]
  },
  {
   "cell_type": "code",
   "execution_count": 26,
   "metadata": {
    "ExecuteTime": {
     "end_time": "2020-06-23T07:40:12.974377Z",
     "start_time": "2020-06-23T07:40:09.392430Z"
    }
   },
   "outputs": [
    {
     "name": "stdout",
     "output_type": "stream",
     "text": [
      "The job spx_Al_save_memory was saved and received the ID: 11\n"
     ]
    }
   ],
   "source": [
    "job = pr.create_job(pr.job_type.Sphinx, 'spx_Al_save_memory')\n",
    "job.structure = pr.create_structure('Al', 'fcc', a_Al)\n",
    "job.input['SaveMemory'] = True\n",
    "job.calc_static()\n",
    "job.run()"
   ]
  },
  {
   "cell_type": "code",
   "execution_count": 27,
   "metadata": {
    "ExecuteTime": {
     "end_time": "2020-06-23T07:40:35.556196Z",
     "start_time": "2020-06-23T07:40:13.016772Z"
    }
   },
   "outputs": [
    {
     "name": "stdout",
     "output_type": "stream",
     "text": [
      "The job sxextopt_Al was saved and received the ID: 12\n",
      "The job spx_Al_interactive was saved and received the ID: 13\n",
      "Ending calculation\n"
     ]
    }
   ],
   "source": [
    "job = pr.create_job(pr.job_type.Sphinx, 'spx_Al_interactive')\n",
    "job.structure = pr.create_structure('Al', 'fcc', a_Al)\n",
    "job.structure.positions[0,0] += 0.01\n",
    "job.server.run_mode.interactive = True\n",
    "job.calc_static()\n",
    "minim = job.create_job(pr.job_type.SxExtOptInteractive, 'sxextopt_Al')\n",
    "minim.run()"
   ]
  },
  {
   "cell_type": "code",
   "execution_count": 28,
   "metadata": {
    "ExecuteTime": {
     "end_time": "2020-06-23T07:40:39.466528Z",
     "start_time": "2020-06-23T07:40:35.620516Z"
    }
   },
   "outputs": [
    {
     "name": "stdout",
     "output_type": "stream",
     "text": [
      "The job nonmodal2 was saved and received the ID: 14\n"
     ]
    }
   ],
   "source": [
    "job = pr.create_job(pr.job_type.Sphinx, 'nonmodal2')\n",
    "job.structure = pr.create_structure('Al', 'fcc', a_Al)\n",
    "job.calc_static()\n",
    "job._create_job_structure()\n",
    "job_reload = pr.load(job.job_name)\n",
    "job_reload.run()"
   ]
  },
  {
   "cell_type": "code",
   "execution_count": 29,
   "metadata": {
    "ExecuteTime": {
     "end_time": "2020-06-23T07:40:39.532679Z",
     "start_time": "2020-06-23T07:40:39.506553Z"
    }
   },
   "outputs": [
    {
     "data": {
      "text/plain": [
       "array([6.013783, 5.85485 ])"
      ]
     },
     "execution_count": 29,
     "metadata": {},
     "output_type": "execute_result"
    }
   ],
   "source": [
    "job['output/generic/dft/bands_e_fermi']"
   ]
  },
  {
   "cell_type": "code",
   "execution_count": 30,
   "metadata": {
    "ExecuteTime": {
     "end_time": "2020-06-23T07:42:17.863459Z",
     "start_time": "2020-06-23T07:42:17.610459Z"
    }
   },
   "outputs": [],
   "source": [
    "if not all(pr.job_table().status=='finished'):\n",
    "    jt = pr.job_table()\n",
    "    print(jt[jt.status!='finished'])\n",
    "    raise AssertionError('Some simulations failed')"
   ]
  },
  {
   "cell_type": "code",
   "execution_count": 31,
   "metadata": {
    "ExecuteTime": {
     "end_time": "2020-06-23T07:42:23.991721Z",
     "start_time": "2020-06-23T07:42:19.768691Z"
    }
   },
   "outputs": [],
   "source": [
    "pr.remove(enable=True)"
   ]
  },
  {
   "cell_type": "code",
   "execution_count": null,
   "metadata": {},
   "outputs": [],
   "source": []
  }
 ],
 "metadata": {
  "kernelspec": {
   "display_name": "Python 3",
   "language": "python",
   "name": "python3"
  },
  "language_info": {
   "codemirror_mode": {
    "name": "ipython",
    "version": 3
   },
   "file_extension": ".py",
   "mimetype": "text/x-python",
   "name": "python",
   "nbconvert_exporter": "python",
   "pygments_lexer": "ipython3",
   "version": "3.7.6"
  },
  "latex_envs": {
   "LaTeX_envs_menu_present": true,
   "autoclose": false,
   "autocomplete": true,
   "bibliofile": "biblio.bib",
   "cite_by": "apalike",
   "current_citInitial": 1,
   "eqLabelWithNumbers": true,
   "eqNumInitial": 1,
   "hotkeys": {
    "equation": "Ctrl-E",
    "itemize": "Ctrl-I"
   },
   "labels_anchors": false,
   "latex_user_defs": false,
   "report_style_numbering": false,
   "user_envs_cfg": false
  },
  "toc": {
   "base_numbering": 1,
   "nav_menu": {},
   "number_sections": true,
   "sideBar": true,
   "skip_h1_title": false,
   "title_cell": "Table of Contents",
   "title_sidebar": "Contents",
   "toc_cell": false,
   "toc_position": {},
   "toc_section_display": true,
   "toc_window_display": false
  }
 },
 "nbformat": 4,
 "nbformat_minor": 2
}
