{
 "cells": [
  {
   "cell_type": "code",
   "execution_count": null,
   "metadata": {
    "ExecuteTime": {
     "end_time": "2020-06-19T21:18:18.396369Z",
     "start_time": "2020-06-19T21:18:17.376158Z"
    }
   },
   "outputs": [],
   "source": [
    "from pyiron import Project\n",
    "import numpy as np"
   ]
  },
  {
   "cell_type": "code",
   "execution_count": null,
   "metadata": {
    "ExecuteTime": {
     "end_time": "2020-06-19T21:18:19.470017Z",
     "start_time": "2020-06-19T21:18:18.398547Z"
    }
   },
   "outputs": [],
   "source": [
    "pr = Project('SPX_CHECK_ALL')\n",
    "pr.remove_jobs(recursive=True)"
   ]
  },
  {
   "cell_type": "code",
   "execution_count": null,
   "metadata": {
    "ExecuteTime": {
     "end_time": "2020-06-19T21:18:19.473300Z",
     "start_time": "2020-06-19T21:18:19.471417Z"
    }
   },
   "outputs": [],
   "source": [
    "a_Fe = 2.83\n",
    "a_Al = 4.024"
   ]
  },
  {
   "cell_type": "code",
   "execution_count": null,
   "metadata": {
    "ExecuteTime": {
     "end_time": "2020-06-19T21:18:22.887968Z",
     "start_time": "2020-06-19T21:18:19.474403Z"
    }
   },
   "outputs": [],
   "source": [
    "job = pr.create_job(pr.job_type.Sphinx, 'spx_Fe_nonmag')\n",
    "job.structure = pr.create_structure('Fe', 'bcc', a_Fe)\n",
    "job.calc_static()\n",
    "job.run()"
   ]
  },
  {
   "cell_type": "code",
   "execution_count": null,
   "metadata": {
    "ExecuteTime": {
     "end_time": "2020-06-19T21:18:22.949069Z",
     "start_time": "2020-06-19T21:18:22.928422Z"
    }
   },
   "outputs": [],
   "source": [
    "if np.linalg.norm(job['output/generic/forces'])>1.0e-4:\n",
    "    raise ValueError('Forces wrong')"
   ]
  },
  {
   "cell_type": "code",
   "execution_count": null,
   "metadata": {
    "ExecuteTime": {
     "end_time": "2020-06-19T21:22:14.009671Z",
     "start_time": "2020-06-19T21:22:13.984967Z"
    }
   },
   "outputs": [],
   "source": [
    "if np.linalg.norm(job.structure.positions-job['output/generic/positions'][-1])>1.0e-4:\n",
    "    raise ValueError('Positions not correctly parsed')"
   ]
  },
  {
   "cell_type": "code",
   "execution_count": null,
   "metadata": {
    "ExecuteTime": {
     "end_time": "2020-06-19T21:18:22.973657Z",
     "start_time": "2020-06-19T21:18:22.949974Z"
    }
   },
   "outputs": [],
   "source": [
    "if np.linalg.norm(job.structure.cell-job['output/generic/cells'][-1])>1.0e-4:\n",
    "    raise ValueError('Cells not correctly parsed')"
   ]
  },
  {
   "cell_type": "code",
   "execution_count": null,
   "metadata": {
    "ExecuteTime": {
     "end_time": "2020-06-19T21:18:22.998711Z",
     "start_time": "2020-06-19T21:18:22.974509Z"
    }
   },
   "outputs": [],
   "source": [
    "if 'atom_spins' in job['output/generic/dft'].list_nodes():\n",
    "    raise AssertionError('spins present')"
   ]
  },
  {
   "cell_type": "code",
   "execution_count": null,
   "metadata": {
    "ExecuteTime": {
     "end_time": "2020-06-19T21:18:23.021821Z",
     "start_time": "2020-06-19T21:18:22.999859Z"
    }
   },
   "outputs": [],
   "source": [
    "if np.abs(job['output/generic/volume']-np.linalg.det(job.structure.cell)) > 1.0e-4:\n",
    "    raise ValueError('Volume wrong')"
   ]
  },
  {
   "cell_type": "code",
   "execution_count": null,
   "metadata": {
    "ExecuteTime": {
     "end_time": "2020-06-19T21:19:01.436985Z",
     "start_time": "2020-06-19T21:19:01.409537Z"
    }
   },
   "outputs": [],
   "source": [
    "if np.linalg.norm(job.structure.positions-job['output/generic/positions'][0])>1.0e-4:\n",
    "    raise ValueError('Positions not parsed properly')"
   ]
  },
  {
   "cell_type": "code",
   "execution_count": null,
   "metadata": {
    "ExecuteTime": {
     "end_time": "2020-06-19T21:19:13.388788Z",
     "start_time": "2020-06-19T21:19:08.433852Z"
    }
   },
   "outputs": [],
   "source": [
    "job = pr.create_job(pr.job_type.Sphinx, 'spx_Fe_ferro')\n",
    "job.structure = pr.create_structure('Fe', 'bcc', a_Fe)\n",
    "job.structure.set_initial_magnetic_moments([2, 2])\n",
    "job.calc_static()\n",
    "job.run()"
   ]
  },
  {
   "cell_type": "code",
   "execution_count": null,
   "metadata": {
    "ExecuteTime": {
     "end_time": "2020-06-19T21:20:55.746235Z",
     "start_time": "2020-06-19T21:20:55.671288Z"
    }
   },
   "outputs": [],
   "source": [
    "if pr.inspect('spx_Fe_ferro')['output/generic/energy_tot'][0]-pr.inspect('spx_Fe_nonmag')['output/generic/energy_tot'][0]>0:\n",
    "    raise ValueError('BCC Fe erromagnetic state has lower energy than nonmagnetic state')"
   ]
  },
  {
   "cell_type": "code",
   "execution_count": null,
   "metadata": {
    "ExecuteTime": {
     "end_time": "2020-06-19T21:21:09.899073Z",
     "start_time": "2020-06-19T21:21:00.827629Z"
    }
   },
   "outputs": [],
   "source": [
    "job = pr.create_job(pr.job_type.Sphinx, 'spx_Fe_ferro_C')\n",
    "job.structure = pr.create_structure('Fe', 'bcc', a_Fe)\n",
    "job.structure.set_initial_magnetic_moments([2, 2])\n",
    "job.structure += pr.create_atoms(elements=['C'], positions=[[0, 0, 0.5*a_Fe]], magmoms=[0])\n",
    "job.calc_static()\n",
    "job.run()"
   ]
  },
  {
   "cell_type": "code",
   "execution_count": null,
   "metadata": {
    "ExecuteTime": {
     "end_time": "2020-06-19T21:22:23.998256Z",
     "start_time": "2020-06-19T21:22:23.966683Z"
    }
   },
   "outputs": [],
   "source": [
    "if np.linalg.norm(job.structure.positions-job['output/generic/positions'][-1])>1.0e-4:\n",
    "    raise ValueError('Positions not correctly parsed')"
   ]
  },
  {
   "cell_type": "code",
   "execution_count": null,
   "metadata": {
    "ExecuteTime": {
     "end_time": "2020-06-19T21:22:41.973984Z",
     "start_time": "2020-06-19T21:22:38.305789Z"
    }
   },
   "outputs": [],
   "source": [
    "job = pr.create_job(pr.job_type.Sphinx, 'spx_Al')\n",
    "job.structure = pr.create_structure('Al', 'fcc', a_Al)\n",
    "job.calc_static()\n",
    "job.run()"
   ]
  },
  {
   "cell_type": "code",
   "execution_count": null,
   "metadata": {
    "ExecuteTime": {
     "end_time": "2020-06-19T21:22:47.279047Z",
     "start_time": "2020-06-19T21:22:42.012981Z"
    }
   },
   "outputs": [],
   "source": [
    "job = job.restart()\n",
    "job.run()"
   ]
  },
  {
   "cell_type": "code",
   "execution_count": null,
   "metadata": {
    "ExecuteTime": {
     "end_time": "2020-06-19T21:25:13.941763Z",
     "start_time": "2020-06-19T21:25:13.679456Z"
    }
   },
   "outputs": [],
   "source": [
    "if 'spx_Al_restart' not in list(pr.job_table().job):\n",
    "    raise AssertionError('restart job not found')"
   ]
  },
  {
   "cell_type": "code",
   "execution_count": null,
   "metadata": {
    "ExecuteTime": {
     "end_time": "2020-06-19T21:24:12.741814Z",
     "start_time": "2020-06-19T21:24:12.662618Z"
    }
   },
   "outputs": [],
   "source": [
    "if np.abs(pr.inspect('spx_Al')['output/generic/energy_tot'][-1]-pr.inspect('spx_Al_restart')['output/generic/energy_tot'][-1])>1.0e-3:\n",
    "    raise ValueError('Energy value after restart too different')"
   ]
  },
  {
   "cell_type": "code",
   "execution_count": null,
   "metadata": {
    "ExecuteTime": {
     "end_time": "2020-06-19T21:25:39.198493Z",
     "start_time": "2020-06-19T21:25:33.161051Z"
    }
   },
   "outputs": [],
   "source": [
    "job = pr.create_job(pr.job_type.Sphinx, 'spx_Al_minimize')\n",
    "job.structure = pr.create_structure('Al', 'fcc', a_Al)\n",
    "job.structure.positions[0,0] += 0.01\n",
    "job.calc_minimize()\n",
    "job.run()"
   ]
  },
  {
   "cell_type": "code",
   "execution_count": null,
   "metadata": {
    "ExecuteTime": {
     "end_time": "2020-06-19T21:27:01.161500Z",
     "start_time": "2020-06-19T21:27:01.136424Z"
    }
   },
   "outputs": [],
   "source": [
    "E = job['output/generic/energy_tot']\n",
    "if E[0]-E[1]<0:\n",
    "    raise AssertionError('Energy not decreased')"
   ]
  },
  {
   "cell_type": "code",
   "execution_count": null,
   "metadata": {
    "ExecuteTime": {
     "end_time": "2020-06-19T21:27:09.394437Z",
     "start_time": "2020-06-19T21:27:05.823500Z"
    }
   },
   "outputs": [],
   "source": [
    "job = pr.create_job(pr.job_type.Sphinx, 'spx_check_overlap')\n",
    "job.structure = pr.create_structure('Fe', 'bcc', 2.832)\n",
    "job.set_check_overlap(False)\n",
    "job.calc_static()\n",
    "job.run()"
   ]
  },
  {
   "cell_type": "code",
   "execution_count": null,
   "metadata": {
    "ExecuteTime": {
     "end_time": "2020-06-19T21:27:14.525894Z",
     "start_time": "2020-06-19T21:27:10.943170Z"
    }
   },
   "outputs": [],
   "source": [
    "job = pr.create_job(pr.job_type.Sphinx, 'spx_symmetry')\n",
    "job.structure = pr.create_structure('Fe', 'bcc', 2.832)\n",
    "job.fix_symmetry = False\n",
    "job.calc_static()\n",
    "job.run()"
   ]
  },
  {
   "cell_type": "code",
   "execution_count": null,
   "metadata": {
    "ExecuteTime": {
     "end_time": "2020-06-19T21:27:23.350243Z",
     "start_time": "2020-06-19T21:27:14.565476Z"
    }
   },
   "outputs": [],
   "source": [
    "job = pr.create_job(pr.job_type.Sphinx, 'spx_Fe_ferro_constraint')\n",
    "job.structure = pr.create_structure('Fe', 'bcc', a_Fe)\n",
    "job.structure.set_initial_magnetic_moments([2, 2])\n",
    "job.fix_spin_constraint = True\n",
    "job.calc_static()\n",
    "job.run()"
   ]
  },
  {
   "cell_type": "code",
   "execution_count": null,
   "metadata": {
    "ExecuteTime": {
     "end_time": "2020-06-19T21:28:54.780524Z",
     "start_time": "2020-06-19T21:28:54.754329Z"
    }
   },
   "outputs": [],
   "source": [
    "if np.linalg.norm(job['output/generic/dft/atom_spins']-job.structure.get_initial_magnetic_moments())>1.0e-4:\n",
    "    raise AssertionError('Magnetic moments either not properly parsed or constraining not working')"
   ]
  },
  {
   "cell_type": "code",
   "execution_count": null,
   "metadata": {
    "ExecuteTime": {
     "end_time": "2019-08-05T13:41:32.936706Z",
     "start_time": "2019-08-05T13:41:31.060102Z"
    }
   },
   "outputs": [],
   "source": [
    "job = pr.create_job(pr.job_type.Sphinx, 'spx_Al_submit')\n",
    "job.structure = pr.create_structure('Al', 'fcc', a_Al)\n",
    "job.calc_static()\n",
    "# job.server.queue = 'impi_hy'\n",
    "job.run()"
   ]
  },
  {
   "cell_type": "code",
   "execution_count": null,
   "metadata": {
    "ExecuteTime": {
     "end_time": "2020-06-19T21:29:18.722271Z",
     "start_time": "2020-06-19T21:29:15.102917Z"
    }
   },
   "outputs": [],
   "source": [
    "job = pr.create_job(pr.job_type.Sphinx, 'spx_Al_save_memory')\n",
    "job.structure = pr.create_structure('Al', 'fcc', a_Al)\n",
    "job.input['SaveMemory'] = False\n",
    "job.calc_static()\n",
    "job.run()"
   ]
  },
  {
   "cell_type": "code",
   "execution_count": null,
   "metadata": {
    "ExecuteTime": {
     "end_time": "2020-06-19T21:29:42.395071Z",
     "start_time": "2020-06-19T21:29:24.724529Z"
    }
   },
   "outputs": [],
   "source": [
    "job = pr.create_job(pr.job_type.Sphinx, 'spx_Al_interactive')\n",
    "job.structure = pr.create_structure('Al', 'fcc', a_Al)\n",
    "job.structure.positions[0,0] += 0.01\n",
    "job.server.run_mode.interactive = True\n",
    "job.calc_static()\n",
    "minim = job.create_job(pr.job_type.SxExtOptInteractive, 'sxextopt_Al')\n",
    "minim.run()"
   ]
  },
  {
   "cell_type": "code",
   "execution_count": null,
   "metadata": {
    "ExecuteTime": {
     "end_time": "2020-06-19T21:29:42.484032Z",
     "start_time": "2020-06-19T21:29:42.452255Z"
    }
   },
   "outputs": [],
   "source": [
    "job['output/generic/dft/bands_e_fermi']"
   ]
  },
  {
   "cell_type": "code",
   "execution_count": null,
   "metadata": {
    "ExecuteTime": {
     "end_time": "2020-06-19T21:29:46.495089Z",
     "start_time": "2020-06-19T21:29:42.485015Z"
    }
   },
   "outputs": [],
   "source": [
    "pr.remove(enable=True)"
   ]
  },
  {
   "cell_type": "code",
   "execution_count": null,
   "metadata": {},
   "outputs": [],
   "source": []
  }
 ],
 "metadata": {
  "kernelspec": {
   "display_name": "Python 3",
   "language": "python",
   "name": "python3"
  },
  "language_info": {
   "codemirror_mode": {
    "name": "ipython",
    "version": 3
   },
   "file_extension": ".py",
   "mimetype": "text/x-python",
   "name": "python",
   "nbconvert_exporter": "python",
   "pygments_lexer": "ipython3",
   "version": "3.7.6"
  },
  "latex_envs": {
   "LaTeX_envs_menu_present": true,
   "autoclose": false,
   "autocomplete": true,
   "bibliofile": "biblio.bib",
   "cite_by": "apalike",
   "current_citInitial": 1,
   "eqLabelWithNumbers": true,
   "eqNumInitial": 1,
   "hotkeys": {
    "equation": "Ctrl-E",
    "itemize": "Ctrl-I"
   },
   "labels_anchors": false,
   "latex_user_defs": false,
   "report_style_numbering": false,
   "user_envs_cfg": false
  },
  "toc": {
   "base_numbering": 1,
   "nav_menu": {},
   "number_sections": true,
   "sideBar": true,
   "skip_h1_title": false,
   "title_cell": "Table of Contents",
   "title_sidebar": "Contents",
   "toc_cell": false,
   "toc_position": {},
   "toc_section_display": true,
   "toc_window_display": false
  }
 },
 "nbformat": 4,
 "nbformat_minor": 2
}
