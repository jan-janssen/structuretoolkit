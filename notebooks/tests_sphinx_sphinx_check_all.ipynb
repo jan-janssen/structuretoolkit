{
 "cells": [
  {
   "cell_type": "code",
   "execution_count": null,
   "metadata": {
    "ExecuteTime": {
     "end_time": "2020-06-19T21:05:01.426170Z",
     "start_time": "2020-06-19T21:05:01.424091Z"
    }
   },
   "outputs": [],
   "source": [
    "from pyiron import Project\n",
    "import numpy as np"
   ]
  },
  {
   "cell_type": "code",
   "execution_count": null,
   "metadata": {
    "ExecuteTime": {
     "end_time": "2020-06-19T21:08:51.347315Z",
     "start_time": "2020-06-19T21:08:50.821666Z"
    }
   },
   "outputs": [],
   "source": [
    "pr = Project('SPX_CHECK_ALL')\n",
    "pr.remove_jobs(recursive=True)"
   ]
  },
  {
   "cell_type": "code",
   "execution_count": null,
   "metadata": {
    "ExecuteTime": {
     "end_time": "2020-06-19T21:08:51.364657Z",
     "start_time": "2020-06-19T21:08:51.362370Z"
    }
   },
   "outputs": [],
   "source": [
    "a_Fe = 2.83\n",
    "a_Al = 4.024"
   ]
  },
  {
   "cell_type": "code",
   "execution_count": null,
   "metadata": {
    "ExecuteTime": {
     "end_time": "2020-06-19T21:08:51.493509Z",
     "start_time": "2020-06-19T21:08:51.490326Z"
    }
   },
   "outputs": [],
   "source": [
    "job = dict()"
   ]
  },
  {
   "cell_type": "code",
   "execution_count": null,
   "metadata": {
    "ExecuteTime": {
     "end_time": "2020-06-19T21:08:55.855986Z",
     "start_time": "2020-06-19T21:08:52.391319Z"
    }
   },
   "outputs": [],
   "source": [
    "job_name = 'spx_Fe_nonmag'\n",
    "job[job_name] = pr.create_job(pr.job_type.Sphinx, job_name)\n",
    "job[job_name].structure = pr.create_structure('Fe', 'bcc', a_Fe)\n",
    "job[job_name].calc_static()\n",
    "job[job_name].run()"
   ]
  },
  {
   "cell_type": "code",
   "execution_count": null,
   "metadata": {
    "ExecuteTime": {
     "end_time": "2020-06-19T21:08:56.755808Z",
     "start_time": "2020-06-19T21:08:56.729968Z"
    }
   },
   "outputs": [],
   "source": [
    "if np.linalg.norm(job['spx_Fe_nonmag']['output/generic/forces'])>1.0e-4:\n",
    "    raise ValueError('Forces wrong')"
   ]
  },
  {
   "cell_type": "code",
   "execution_count": null,
   "metadata": {
    "ExecuteTime": {
     "end_time": "2020-06-19T21:09:04.148006Z",
     "start_time": "2020-06-19T21:09:04.122270Z"
    }
   },
   "outputs": [],
   "source": [
    "if np.linalg.norm(job['spx_Fe_nonmag'].structure.cell-job['spx_Fe_nonmag']['output/generic/cells'][-1])>1.0e-4:\n",
    "    raise ValueError('Cells not correctly parsed')"
   ]
  },
  {
   "cell_type": "code",
   "execution_count": null,
   "metadata": {
    "ExecuteTime": {
     "end_time": "2020-06-19T21:09:08.558187Z",
     "start_time": "2020-06-19T21:09:08.530051Z"
    }
   },
   "outputs": [],
   "source": [
    "if 'atom_spins' in job['spx_Fe_nonmag']['output/generic/dft'].list_nodes():\n",
    "    raise AssertionError('spins present')"
   ]
  },
  {
   "cell_type": "code",
   "execution_count": null,
   "metadata": {
    "ExecuteTime": {
     "end_time": "2020-06-19T21:11:03.686547Z",
     "start_time": "2020-06-19T21:11:03.659310Z"
    }
   },
   "outputs": [],
   "source": [
    "if np.abs(job['spx_Fe_nonmag']['output/generic/volume']-np.linalg.det(job['spx_Fe_nonmag'].structure.cell)) > 1.0e-4:\n",
    "    raise ValueError('Volume wrong')"
   ]
  },
  {
   "cell_type": "code",
   "execution_count": null,
   "metadata": {
    "ExecuteTime": {
     "end_time": "2019-08-05T13:40:28.062167Z",
     "start_time": "2019-08-05T13:40:18.898937Z"
    }
   },
   "outputs": [],
   "source": [
    "job = pr.create_job(pr.job_type.Sphinx, 'spx_Fe_ferro')\n",
    "job.structure = pr.create_structure('Fe', 'bcc', a_Fe)\n",
    "job.structure.set_initial_magnetic_moments([2, 2])\n",
    "job.calc_static()\n",
    "job.run()"
   ]
  },
  {
   "cell_type": "code",
   "execution_count": null,
   "metadata": {
    "ExecuteTime": {
     "end_time": "2019-08-05T13:40:50.061556Z",
     "start_time": "2019-08-05T13:40:28.107028Z"
    }
   },
   "outputs": [],
   "source": [
    "job = pr.create_job(pr.job_type.Sphinx, 'spx_Fe_ferro_C')\n",
    "job.structure = pr.create_structure('Fe', 'bcc', a_Fe)\n",
    "job.structure.set_initial_magnetic_moments([2, 2])\n",
    "job.structure += pr.create_atoms(elements=['C'], positions=[[0, 0, 0.5*a_Fe]], magmoms=[0])\n",
    "job.calc_static()\n",
    "job.run()"
   ]
  },
  {
   "cell_type": "code",
   "execution_count": null,
   "metadata": {
    "ExecuteTime": {
     "end_time": "2019-08-05T13:40:55.501734Z",
     "start_time": "2019-08-05T13:40:50.106756Z"
    }
   },
   "outputs": [],
   "source": [
    "job = pr.create_job(pr.job_type.Sphinx, 'spx_Al')\n",
    "job.structure = pr.create_structure('Al', 'fcc', a_Al)\n",
    "job.calc_static()\n",
    "job.run()"
   ]
  },
  {
   "cell_type": "code",
   "execution_count": null,
   "metadata": {
    "ExecuteTime": {
     "end_time": "2019-08-05T13:41:01.362212Z",
     "start_time": "2019-08-05T13:40:55.546539Z"
    }
   },
   "outputs": [],
   "source": [
    "job = job.restart()\n",
    "job.run()"
   ]
  },
  {
   "cell_type": "code",
   "execution_count": null,
   "metadata": {
    "ExecuteTime": {
     "end_time": "2019-08-05T13:41:07.505810Z",
     "start_time": "2019-08-05T13:41:01.407472Z"
    }
   },
   "outputs": [],
   "source": [
    "job = pr.create_job(pr.job_type.Sphinx, 'spx_Al_minimize')\n",
    "job.structure = pr.create_structure('Al', 'fcc', a_Al)\n",
    "job.structure.positions[0,0] += 0.01\n",
    "job.calc_minimize()\n",
    "job.run()"
   ]
  },
  {
   "cell_type": "code",
   "execution_count": null,
   "metadata": {
    "ExecuteTime": {
     "end_time": "2019-08-05T13:41:14.015270Z",
     "start_time": "2019-08-05T13:41:07.546940Z"
    }
   },
   "outputs": [],
   "source": [
    "job = pr.create_job(pr.job_type.Sphinx, 'spx_check_overlap')\n",
    "job.structure = pr.create_structure('Fe', 'bcc', 2.832)\n",
    "job.set_check_overlap(False)\n",
    "job.calc_static()\n",
    "job.run()"
   ]
  },
  {
   "cell_type": "code",
   "execution_count": null,
   "metadata": {
    "ExecuteTime": {
     "end_time": "2019-08-05T13:41:20.286494Z",
     "start_time": "2019-08-05T13:41:14.058179Z"
    }
   },
   "outputs": [],
   "source": [
    "job = pr.create_job(pr.job_type.Sphinx, 'spx_symmetry')\n",
    "job.structure = pr.create_structure('Fe', 'bcc', 2.832)\n",
    "job.fix_symmetry = False\n",
    "job.calc_static()\n",
    "job.run()"
   ]
  },
  {
   "cell_type": "code",
   "execution_count": null,
   "metadata": {
    "ExecuteTime": {
     "end_time": "2019-08-05T13:41:31.018747Z",
     "start_time": "2019-08-05T13:41:20.328124Z"
    }
   },
   "outputs": [],
   "source": [
    "job = pr.create_job(pr.job_type.Sphinx, 'spx_Fe_ferro_constraint')\n",
    "job.structure = pr.create_structure('Fe', 'bcc', a_Fe)\n",
    "job.structure.set_initial_magnetic_moments([2, 2])\n",
    "job.fix_spin_constraint = True\n",
    "job.calc_static()\n",
    "job.run()"
   ]
  },
  {
   "cell_type": "code",
   "execution_count": null,
   "metadata": {
    "ExecuteTime": {
     "end_time": "2019-08-05T13:41:32.936706Z",
     "start_time": "2019-08-05T13:41:31.060102Z"
    }
   },
   "outputs": [],
   "source": [
    "job = pr.create_job(pr.job_type.Sphinx, 'spx_Al_submit')\n",
    "job.structure = pr.create_structure('Al', 'fcc', a_Al)\n",
    "job.calc_static()\n",
    "# job.server.queue = 'impi_hy'\n",
    "job.run()"
   ]
  },
  {
   "cell_type": "code",
   "execution_count": null,
   "metadata": {
    "ExecuteTime": {
     "end_time": "2019-08-05T13:41:38.933696Z",
     "start_time": "2019-08-05T13:41:32.982329Z"
    }
   },
   "outputs": [],
   "source": [
    "job = pr.create_job(pr.job_type.Sphinx, 'spx_Al_save_memory')\n",
    "job.structure = pr.create_structure('Al', 'fcc', a_Al)\n",
    "job.input['SaveMemory'] = True\n",
    "job.calc_static()\n",
    "job.run()"
   ]
  },
  {
   "cell_type": "code",
   "execution_count": null,
   "metadata": {
    "ExecuteTime": {
     "end_time": "2019-08-05T13:41:56.987598Z",
     "start_time": "2019-08-05T13:41:38.996569Z"
    }
   },
   "outputs": [],
   "source": [
    "job = pr.create_job(pr.job_type.Sphinx, 'spx_Al_interactive')\n",
    "job.structure = pr.create_structure('Al', 'fcc', a_Al)\n",
    "job.structure.positions[0,0] += 0.01\n",
    "job.server.run_mode.interactive = True\n",
    "job.calc_static()\n",
    "minim = job.create_job(pr.job_type.SxExtOptInteractive, 'sxextopt_Al')\n",
    "minim.run()"
   ]
  },
  {
   "cell_type": "code",
   "execution_count": null,
   "metadata": {
    "ExecuteTime": {
     "end_time": "2019-08-05T13:41:57.072806Z",
     "start_time": "2019-08-05T13:39:56.683Z"
    }
   },
   "outputs": [],
   "source": [
    "job['output/generic/dft/bands_e_fermi']"
   ]
  },
  {
   "cell_type": "code",
   "execution_count": null,
   "metadata": {
    "ExecuteTime": {
     "end_time": "2019-08-05T13:42:17.652385Z",
     "start_time": "2019-08-05T13:42:09.893056Z"
    }
   },
   "outputs": [],
   "source": [
    "pr.remove(enable=True)"
   ]
  },
  {
   "cell_type": "code",
   "execution_count": null,
   "metadata": {},
   "outputs": [],
   "source": []
  }
 ],
 "metadata": {
  "kernelspec": {
   "display_name": "Python 3",
   "language": "python",
   "name": "python3"
  },
  "language_info": {
   "codemirror_mode": {
    "name": "ipython",
    "version": 3
   },
   "file_extension": ".py",
   "mimetype": "text/x-python",
   "name": "python",
   "nbconvert_exporter": "python",
   "pygments_lexer": "ipython3",
   "version": "3.7.6"
  },
  "latex_envs": {
   "LaTeX_envs_menu_present": true,
   "autoclose": false,
   "autocomplete": true,
   "bibliofile": "biblio.bib",
   "cite_by": "apalike",
   "current_citInitial": 1,
   "eqLabelWithNumbers": true,
   "eqNumInitial": 1,
   "hotkeys": {
    "equation": "Ctrl-E",
    "itemize": "Ctrl-I"
   },
   "labels_anchors": false,
   "latex_user_defs": false,
   "report_style_numbering": false,
   "user_envs_cfg": false
  },
  "toc": {
   "base_numbering": 1,
   "nav_menu": {},
   "number_sections": true,
   "sideBar": true,
   "skip_h1_title": false,
   "title_cell": "Table of Contents",
   "title_sidebar": "Contents",
   "toc_cell": false,
   "toc_position": {},
   "toc_section_display": true,
   "toc_window_display": false
  }
 },
 "nbformat": 4,
 "nbformat_minor": 2
}
