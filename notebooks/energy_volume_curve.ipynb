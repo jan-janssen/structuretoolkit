{
 "cells": [
  {
   "cell_type": "markdown",
   "metadata": {},
   "source": [
    "# Theory \n",
    "Fitting the energy volume curve allows to calculate the equilibrium energy $E_0$, the equilirbium volume $V_0$, the equilibrium bulk modulus $B_0$ and its derivative $B^{'}_0$. These quantities can then be used as part of the Einstein model to get an initial prediction for the thermodynamik properties, the heat capacity $C_v$ and the free energy $F$. "
   ]
  },
  {
   "cell_type": "markdown",
   "metadata": {},
   "source": [
    "# Initialisation"
   ]
  },
  {
   "cell_type": "markdown",
   "metadata": {},
   "source": [
    "We start by importing matplotlib, numpy and the pyiron project class. "
   ]
  },
  {
   "cell_type": "code",
   "execution_count": 1,
   "metadata": {
    "ExecuteTime": {
     "end_time": "2018-10-17T12:45:20.185324Z",
     "start_time": "2018-10-17T12:45:18.156199Z"
    }
   },
   "outputs": [],
   "source": [
    "%matplotlib inline \n",
    "import matplotlib.pyplot as plt\n",
    "import numpy as np\n",
    "from pyiron import Project"
   ]
  },
  {
   "cell_type": "markdown",
   "metadata": {},
   "source": [
    "In the next step we create a project, by specifying the name of the project. In addition we remove all jobs which might exist in the project before to have a clean project for our example. "
   ]
  },
  {
   "cell_type": "code",
   "execution_count": 2,
   "metadata": {
    "ExecuteTime": {
     "end_time": "2018-10-17T12:45:28.528083Z",
     "start_time": "2018-10-17T12:45:20.187801Z"
    }
   },
   "outputs": [],
   "source": [
    "pr = Project(path='thermo')\n",
    "pr.remove_jobs(recursive=True)"
   ]
  },
  {
   "cell_type": "markdown",
   "metadata": {},
   "source": [
    "# Atomistic structure"
   ]
  },
  {
   "cell_type": "markdown",
   "metadata": {},
   "source": [
    "To analyse the energy volume dependence a single super cell is sufficient, so we create an iron super cell as an example."
   ]
  },
  {
   "cell_type": "code",
   "execution_count": 3,
   "metadata": {
    "ExecuteTime": {
     "end_time": "2018-10-17T12:45:28.608394Z",
     "start_time": "2018-10-17T12:45:28.530508Z"
    }
   },
   "outputs": [
    {
     "data": {
      "application/vnd.jupyter.widget-view+json": {
       "model_id": "a949e7469268408e8d3c0e89ab232d73",
       "version_major": 2,
       "version_minor": 0
      },
      "text/plain": [
       "NGLWidget()"
      ]
     },
     "metadata": {},
     "output_type": "display_data"
    }
   ],
   "source": [
    "basis = pr.create_structure(element='Fe', bravais_basis='bcc', lattice_constant=2.75)\n",
    "basis.plot3d()"
   ]
  },
  {
   "cell_type": "markdown",
   "metadata": {},
   "source": [
    "# Calculation\n",
    "Energy volume curves are commonly calculated with ab initio codes, so we use VASP in this example. But we focus on the generic commands so the same example works with any DFT code. We choose 'vasp' as job name prefix, select an energy cut off of $320 eV$ and assign the basis to the job. Afterwards we apply the corresponding strain."
   ]
  },
  {
   "cell_type": "code",
   "execution_count": 4,
   "metadata": {
    "ExecuteTime": {
     "end_time": "2018-10-17T12:45:41.511880Z",
     "start_time": "2018-10-17T12:45:28.610428Z"
    }
   },
   "outputs": [
    {
     "name": "stdout",
     "output_type": "stream",
     "text": [
      "The job vasp_0_97 was saved and received the ID: 1880776\n",
      "The job vasp_0_98 was saved and received the ID: 1880777\n",
      "The job vasp_0_99 was saved and received the ID: 1880778\n",
      "The job vasp_1_0 was saved and received the ID: 1880779\n",
      "The job vasp_1_01 was saved and received the ID: 1880780\n",
      "The job vasp_1_02 was saved and received the ID: 1880781\n",
      "The job vasp_1_03 was saved and received the ID: 1880783\n"
     ]
    }
   ],
   "source": [
    "for strain in np.linspace(0.97, 1.03, 7):\n",
    "    strain_str = str(strain).replace('.', '_')\n",
    "    job_vasp_strain = pr.create_job(job_type=pr.job_type.Vasp, job_name='vasp_' + strain_str)\n",
    "    job_vasp_strain.set_encut(320.0)\n",
    "    job_vasp_strain.structure = basis.copy()\n",
    "    job_vasp_strain.structure.set_cell(cell=basis.cell * strain ** (1/3), scale_atoms=True)\n",
    "    job_vasp_strain.run()"
   ]
  },
  {
   "cell_type": "markdown",
   "metadata": {
    "ExecuteTime": {
     "end_time": "2018-10-16T18:51:35.690791Z",
     "start_time": "2018-10-16T18:51:11.248Z"
    }
   },
   "source": [
    "As these are simple calculation, there is no need to submit them to the queuing sytem. We can confirm the status of the calculation with the job_table. If the status of each job is marked as finished, then we can continue with the next step."
   ]
  },
  {
   "cell_type": "code",
   "execution_count": 5,
   "metadata": {
    "ExecuteTime": {
     "end_time": "2018-10-17T12:45:42.041651Z",
     "start_time": "2018-10-17T12:45:41.535428Z"
    }
   },
   "outputs": [
    {
     "data": {
      "text/html": [
       "<div>\n",
       "<style scoped>\n",
       "    .dataframe tbody tr th:only-of-type {\n",
       "        vertical-align: middle;\n",
       "    }\n",
       "\n",
       "    .dataframe tbody tr th {\n",
       "        vertical-align: top;\n",
       "    }\n",
       "\n",
       "    .dataframe thead th {\n",
       "        text-align: right;\n",
       "    }\n",
       "</style>\n",
       "<table border=\"1\" class=\"dataframe\">\n",
       "  <thead>\n",
       "    <tr style=\"text-align: right;\">\n",
       "      <th></th>\n",
       "      <th>id</th>\n",
       "      <th>status</th>\n",
       "      <th>chemicalformula</th>\n",
       "      <th>job</th>\n",
       "      <th>subjob</th>\n",
       "      <th>projectpath</th>\n",
       "      <th>project</th>\n",
       "      <th>timestart</th>\n",
       "      <th>timestop</th>\n",
       "      <th>totalcputime</th>\n",
       "      <th>computer</th>\n",
       "      <th>hamilton</th>\n",
       "      <th>hamversion</th>\n",
       "      <th>parentid</th>\n",
       "      <th>masterid</th>\n",
       "    </tr>\n",
       "  </thead>\n",
       "  <tbody>\n",
       "    <tr>\n",
       "      <th>0</th>\n",
       "      <td>1880776</td>\n",
       "      <td>finished</td>\n",
       "      <td>Fe2</td>\n",
       "      <td>vasp_0_97</td>\n",
       "      <td>/vasp_0_97</td>\n",
       "      <td>/cmmc/u/</td>\n",
       "      <td>janj/PyIron_data/projects/2018-10-17-pyiron-meeting/thermo/</td>\n",
       "      <td>2018-10-17 14:45:29.096323</td>\n",
       "      <td>2018-10-17 14:45:31.890086</td>\n",
       "      <td>2.0</td>\n",
       "      <td>janj@cmmc001#1</td>\n",
       "      <td>Vasp</td>\n",
       "      <td>5.3</td>\n",
       "      <td>None</td>\n",
       "      <td>None</td>\n",
       "    </tr>\n",
       "    <tr>\n",
       "      <th>1</th>\n",
       "      <td>1880777</td>\n",
       "      <td>finished</td>\n",
       "      <td>Fe2</td>\n",
       "      <td>vasp_0_98</td>\n",
       "      <td>/vasp_0_98</td>\n",
       "      <td>/cmmc/u/</td>\n",
       "      <td>janj/PyIron_data/projects/2018-10-17-pyiron-meeting/thermo/</td>\n",
       "      <td>2018-10-17 14:45:32.635219</td>\n",
       "      <td>2018-10-17 14:45:33.517737</td>\n",
       "      <td>0.0</td>\n",
       "      <td>janj@cmmc001#1</td>\n",
       "      <td>Vasp</td>\n",
       "      <td>5.3</td>\n",
       "      <td>None</td>\n",
       "      <td>None</td>\n",
       "    </tr>\n",
       "    <tr>\n",
       "      <th>2</th>\n",
       "      <td>1880778</td>\n",
       "      <td>finished</td>\n",
       "      <td>Fe2</td>\n",
       "      <td>vasp_0_99</td>\n",
       "      <td>/vasp_0_99</td>\n",
       "      <td>/cmmc/u/</td>\n",
       "      <td>janj/PyIron_data/projects/2018-10-17-pyiron-meeting/thermo/</td>\n",
       "      <td>2018-10-17 14:45:34.207757</td>\n",
       "      <td>2018-10-17 14:45:35.073940</td>\n",
       "      <td>0.0</td>\n",
       "      <td>janj@cmmc001#1</td>\n",
       "      <td>Vasp</td>\n",
       "      <td>5.3</td>\n",
       "      <td>None</td>\n",
       "      <td>None</td>\n",
       "    </tr>\n",
       "    <tr>\n",
       "      <th>3</th>\n",
       "      <td>1880779</td>\n",
       "      <td>finished</td>\n",
       "      <td>Fe2</td>\n",
       "      <td>vasp_1_0</td>\n",
       "      <td>/vasp_1_0</td>\n",
       "      <td>/cmmc/u/</td>\n",
       "      <td>janj/PyIron_data/projects/2018-10-17-pyiron-meeting/thermo/</td>\n",
       "      <td>2018-10-17 14:45:35.766127</td>\n",
       "      <td>2018-10-17 14:45:36.628651</td>\n",
       "      <td>0.0</td>\n",
       "      <td>janj@cmmc001#1</td>\n",
       "      <td>Vasp</td>\n",
       "      <td>5.3</td>\n",
       "      <td>None</td>\n",
       "      <td>None</td>\n",
       "    </tr>\n",
       "    <tr>\n",
       "      <th>4</th>\n",
       "      <td>1880780</td>\n",
       "      <td>finished</td>\n",
       "      <td>Fe2</td>\n",
       "      <td>vasp_1_01</td>\n",
       "      <td>/vasp_1_01</td>\n",
       "      <td>/cmmc/u/</td>\n",
       "      <td>janj/PyIron_data/projects/2018-10-17-pyiron-meeting/thermo/</td>\n",
       "      <td>2018-10-17 14:45:37.349526</td>\n",
       "      <td>2018-10-17 14:45:38.210085</td>\n",
       "      <td>0.0</td>\n",
       "      <td>janj@cmmc001#1</td>\n",
       "      <td>Vasp</td>\n",
       "      <td>5.3</td>\n",
       "      <td>None</td>\n",
       "      <td>None</td>\n",
       "    </tr>\n",
       "    <tr>\n",
       "      <th>5</th>\n",
       "      <td>1880781</td>\n",
       "      <td>finished</td>\n",
       "      <td>Fe2</td>\n",
       "      <td>vasp_1_02</td>\n",
       "      <td>/vasp_1_02</td>\n",
       "      <td>/cmmc/u/</td>\n",
       "      <td>janj/PyIron_data/projects/2018-10-17-pyiron-meeting/thermo/</td>\n",
       "      <td>2018-10-17 14:45:38.903688</td>\n",
       "      <td>2018-10-17 14:45:39.759347</td>\n",
       "      <td>0.0</td>\n",
       "      <td>janj@cmmc001#1</td>\n",
       "      <td>Vasp</td>\n",
       "      <td>5.3</td>\n",
       "      <td>None</td>\n",
       "      <td>None</td>\n",
       "    </tr>\n",
       "    <tr>\n",
       "      <th>6</th>\n",
       "      <td>1880783</td>\n",
       "      <td>finished</td>\n",
       "      <td>Fe2</td>\n",
       "      <td>vasp_1_03</td>\n",
       "      <td>/vasp_1_03</td>\n",
       "      <td>/cmmc/u/</td>\n",
       "      <td>janj/PyIron_data/projects/2018-10-17-pyiron-meeting/thermo/</td>\n",
       "      <td>2018-10-17 14:45:40.434831</td>\n",
       "      <td>2018-10-17 14:45:41.323070</td>\n",
       "      <td>0.0</td>\n",
       "      <td>janj@cmmc001#1</td>\n",
       "      <td>Vasp</td>\n",
       "      <td>5.3</td>\n",
       "      <td>None</td>\n",
       "      <td>None</td>\n",
       "    </tr>\n",
       "  </tbody>\n",
       "</table>\n",
       "</div>"
      ],
      "text/plain": [
       "        id    status chemicalformula        job      subjob projectpath  \\\n",
       "0  1880776  finished             Fe2  vasp_0_97  /vasp_0_97    /cmmc/u/   \n",
       "1  1880777  finished             Fe2  vasp_0_98  /vasp_0_98    /cmmc/u/   \n",
       "2  1880778  finished             Fe2  vasp_0_99  /vasp_0_99    /cmmc/u/   \n",
       "3  1880779  finished             Fe2   vasp_1_0   /vasp_1_0    /cmmc/u/   \n",
       "4  1880780  finished             Fe2  vasp_1_01  /vasp_1_01    /cmmc/u/   \n",
       "5  1880781  finished             Fe2  vasp_1_02  /vasp_1_02    /cmmc/u/   \n",
       "6  1880783  finished             Fe2  vasp_1_03  /vasp_1_03    /cmmc/u/   \n",
       "\n",
       "                                                       project  \\\n",
       "0  janj/PyIron_data/projects/2018-10-17-pyiron-meeting/thermo/   \n",
       "1  janj/PyIron_data/projects/2018-10-17-pyiron-meeting/thermo/   \n",
       "2  janj/PyIron_data/projects/2018-10-17-pyiron-meeting/thermo/   \n",
       "3  janj/PyIron_data/projects/2018-10-17-pyiron-meeting/thermo/   \n",
       "4  janj/PyIron_data/projects/2018-10-17-pyiron-meeting/thermo/   \n",
       "5  janj/PyIron_data/projects/2018-10-17-pyiron-meeting/thermo/   \n",
       "6  janj/PyIron_data/projects/2018-10-17-pyiron-meeting/thermo/   \n",
       "\n",
       "                   timestart                   timestop  totalcputime  \\\n",
       "0 2018-10-17 14:45:29.096323 2018-10-17 14:45:31.890086           2.0   \n",
       "1 2018-10-17 14:45:32.635219 2018-10-17 14:45:33.517737           0.0   \n",
       "2 2018-10-17 14:45:34.207757 2018-10-17 14:45:35.073940           0.0   \n",
       "3 2018-10-17 14:45:35.766127 2018-10-17 14:45:36.628651           0.0   \n",
       "4 2018-10-17 14:45:37.349526 2018-10-17 14:45:38.210085           0.0   \n",
       "5 2018-10-17 14:45:38.903688 2018-10-17 14:45:39.759347           0.0   \n",
       "6 2018-10-17 14:45:40.434831 2018-10-17 14:45:41.323070           0.0   \n",
       "\n",
       "         computer hamilton hamversion parentid masterid  \n",
       "0  janj@cmmc001#1     Vasp        5.3     None     None  \n",
       "1  janj@cmmc001#1     Vasp        5.3     None     None  \n",
       "2  janj@cmmc001#1     Vasp        5.3     None     None  \n",
       "3  janj@cmmc001#1     Vasp        5.3     None     None  \n",
       "4  janj@cmmc001#1     Vasp        5.3     None     None  \n",
       "5  janj@cmmc001#1     Vasp        5.3     None     None  \n",
       "6  janj@cmmc001#1     Vasp        5.3     None     None  "
      ]
     },
     "execution_count": 5,
     "metadata": {},
     "output_type": "execute_result"
    }
   ],
   "source": [
    "pr.job_table()"
   ]
  },
  {
   "cell_type": "markdown",
   "metadata": {},
   "source": [
    "# Analysis"
   ]
  },
  {
   "cell_type": "markdown",
   "metadata": {},
   "source": [
    "We aggregate the data for further processing in two separated lists, one for the volumes and one for the energies. To do so we iterate over the jobs within the project, filter the job names which contain the string 'vasp' and from those extract the final volume and the final energy. "
   ]
  },
  {
   "cell_type": "code",
   "execution_count": 6,
   "metadata": {
    "ExecuteTime": {
     "end_time": "2018-10-17T12:45:42.708890Z",
     "start_time": "2018-10-17T12:45:42.043664Z"
    }
   },
   "outputs": [],
   "source": [
    "volume_lst, energy_lst = zip(*[[job['output/generic/volume'][-1], job['output/generic/energy_tot'][-1]] \n",
    "                               for job in pr.iter_jobs(convert_to_object=False) if 'vasp' in job.job_name])   "
   ]
  },
  {
   "cell_type": "markdown",
   "metadata": {
    "ExecuteTime": {
     "end_time": "2018-10-16T19:02:33.916818Z",
     "start_time": "2018-10-16T19:02:33.912978Z"
    }
   },
   "source": [
    "We plot the aggregated data using matplotlib. "
   ]
  },
  {
   "cell_type": "code",
   "execution_count": 7,
   "metadata": {
    "ExecuteTime": {
     "end_time": "2018-10-17T12:45:43.190175Z",
     "start_time": "2018-10-17T12:45:42.710942Z"
    }
   },
   "outputs": [
    {
     "data": {
      "text/plain": [
       "Text(0, 0.5, 'Energy (eV)')"
      ]
     },
     "execution_count": 7,
     "metadata": {},
     "output_type": "execute_result"
    },
    {
     "data": {
      "image/png": "[encoded data removed]",
      "text/plain": [
       "<Figure size 432x288 with 1 Axes>"
      ]
     },
     "metadata": {},
     "output_type": "display_data"
    }
   ],
   "source": [
    "plt.plot(volume_lst, energy_lst, 'x-')\n",
    "plt.xlabel('Volume ($\\AA ^ 3$)')\n",
    "plt.ylabel('Energy (eV)')"
   ]
  },
  {
   "cell_type": "markdown",
   "metadata": {
    "ExecuteTime": {
     "end_time": "2018-10-16T19:12:50.900916Z",
     "start_time": "2018-10-16T19:12:50.896333Z"
    }
   },
   "source": [
    "# Encut Dependence\n",
    "To extend the complexity of our simulation protocol we can not only iterate over different strains but also different energy cutoffs. For this we use multiple sub projects to structure the data. And we summarize the previous code in multiple functions to maintain a high level of readability. The first function calculates a specific strained configuration for an specifc energy cut off, while the second function analyses the different strained calculations for a specific energy cutoff and returns the list of energy volume pairs."
   ]
  },
  {
   "cell_type": "markdown",
   "metadata": {},
   "source": [
    "## Functions"
   ]
  },
  {
   "cell_type": "code",
   "execution_count": 8,
   "metadata": {
    "ExecuteTime": {
     "end_time": "2018-10-17T12:45:43.196431Z",
     "start_time": "2018-10-17T12:45:43.192422Z"
    }
   },
   "outputs": [],
   "source": [
    "def vasp_calculation_for_strain(pr, basis, strain, encut):\n",
    "    strain_str = str(strain).replace('.', '_')\n",
    "    job_vasp_strain = pr.create_job(job_type=pr.job_type.Vasp, job_name='vasp_' + strain_str)\n",
    "    job_vasp_strain.set_encut(encut)\n",
    "    job_vasp_strain.structure = basis.copy()\n",
    "    job_vasp_strain.structure.set_cell(cell=basis.cell * strain ** (1/3), scale_atoms=True)\n",
    "    job_vasp_strain.run()"
   ]
  },
  {
   "cell_type": "code",
   "execution_count": 9,
   "metadata": {
    "ExecuteTime": {
     "end_time": "2018-10-17T12:45:43.207016Z",
     "start_time": "2018-10-17T12:45:43.198329Z"
    }
   },
   "outputs": [],
   "source": [
    "def energy_volume_pairs(pr):\n",
    "    volume_lst, energy_lst = zip(*[[job['output/generic/volume'][-1], job['output/generic/energy_tot'][-1]] \n",
    "                               for job in pr.iter_jobs(convert_to_object=False) if 'vasp' in job.job_name])\n",
    "    return volume_lst, energy_lst"
   ]
  },
  {
   "cell_type": "markdown",
   "metadata": {},
   "source": [
    "## Calculation"
   ]
  },
  {
   "cell_type": "markdown",
   "metadata": {},
   "source": [
    "With these functions we can structure our code and implement the additional for loop to include multiple energy cutoffs."
   ]
  },
  {
   "cell_type": "code",
   "execution_count": 10,
   "metadata": {
    "ExecuteTime": {
     "end_time": "2018-10-17T12:46:49.586982Z",
     "start_time": "2018-10-17T12:45:43.208852Z"
    }
   },
   "outputs": [
    {
     "name": "stdout",
     "output_type": "stream",
     "text": [
      "The job vasp_0_97 was saved and received the ID: 1880784\n",
      "The job vasp_0_98 was saved and received the ID: 1880785\n",
      "The job vasp_0_99 was saved and received the ID: 1880786\n",
      "The job vasp_1_0 was saved and received the ID: 1880787\n",
      "The job vasp_1_01 was saved and received the ID: 1880788\n",
      "The job vasp_1_02 was saved and received the ID: 1880789\n",
      "The job vasp_1_03 was saved and received the ID: 1880790\n",
      "The job vasp_0_97 was saved and received the ID: 1880791\n",
      "The job vasp_0_98 was saved and received the ID: 1880792\n",
      "The job vasp_0_99 was saved and received the ID: 1880793\n",
      "The job vasp_1_0 was saved and received the ID: 1880794\n",
      "The job vasp_1_01 was saved and received the ID: 1880796\n",
      "The job vasp_1_02 was saved and received the ID: 1880797\n",
      "The job vasp_1_03 was saved and received the ID: 1880798\n",
      "The job vasp_0_97 was saved and received the ID: 1880799\n",
      "The job vasp_0_98 was saved and received the ID: 1880800\n",
      "The job vasp_0_99 was saved and received the ID: 1880801\n",
      "The job vasp_1_0 was saved and received the ID: 1880802\n",
      "The job vasp_1_01 was saved and received the ID: 1880803\n",
      "The job vasp_1_02 was saved and received the ID: 1880804\n",
      "The job vasp_1_03 was saved and received the ID: 1880806\n",
      "The job vasp_0_97 was saved and received the ID: 1880807\n",
      "The job vasp_0_98 was saved and received the ID: 1880808\n",
      "The job vasp_0_99 was saved and received the ID: 1880809\n",
      "The job vasp_1_0 was saved and received the ID: 1880810\n",
      "The job vasp_1_01 was saved and received the ID: 1880811\n",
      "The job vasp_1_02 was saved and received the ID: 1880812\n",
      "The job vasp_1_03 was saved and received the ID: 1880813\n",
      "The job vasp_0_97 was saved and received the ID: 1880814\n",
      "The job vasp_0_98 was saved and received the ID: 1880815\n",
      "The job vasp_0_99 was saved and received the ID: 1880816\n",
      "The job vasp_1_0 was saved and received the ID: 1880818\n",
      "The job vasp_1_01 was saved and received the ID: 1880819\n",
      "The job vasp_1_02 was saved and received the ID: 1880820\n",
      "The job vasp_1_03 was saved and received the ID: 1880821\n",
      "The job vasp_0_97 was saved and received the ID: 1880822\n",
      "The job vasp_0_98 was saved and received the ID: 1880823\n",
      "The job vasp_0_99 was saved and received the ID: 1880824\n",
      "The job vasp_1_0 was saved and received the ID: 1880825\n",
      "The job vasp_1_01 was saved and received the ID: 1880826\n",
      "The job vasp_1_02 was saved and received the ID: 1880827\n",
      "The job vasp_1_03 was saved and received the ID: 1880828\n"
     ]
    }
   ],
   "source": [
    "for encut in np.linspace(270, 320, 6):\n",
    "    encut_str = 'encut_' + str(int(encut))\n",
    "    pr_encut = pr.open(encut_str)\n",
    "    for strain in np.linspace(0.97, 1.03, 7):\n",
    "        vasp_calculation_for_strain(pr=pr_encut, \n",
    "                                    basis=basis, \n",
    "                                    strain=strain, \n",
    "                                    encut=encut)"
   ]
  },
  {
   "cell_type": "markdown",
   "metadata": {},
   "source": [
    "## Analysis "
   ]
  },
  {
   "cell_type": "markdown",
   "metadata": {
    "ExecuteTime": {
     "end_time": "2018-10-16T19:27:02.877244Z",
     "start_time": "2018-10-16T19:27:02.873384Z"
    }
   },
   "source": [
    "The analysis is structured in a similar way. Here we use iter_groups() to iterate over the existing subprojects within our project and plot the individual energy volume curves using the functions defined above. "
   ]
  },
  {
   "cell_type": "code",
   "execution_count": 11,
   "metadata": {
    "ExecuteTime": {
     "end_time": "2018-10-17T12:46:53.914965Z",
     "start_time": "2018-10-17T12:46:49.609948Z"
    }
   },
   "outputs": [
    {
     "data": {
      "text/plain": [
       "<matplotlib.legend.Legend at 0x2b89b9a1f3c8>"
      ]
     },
     "execution_count": 11,
     "metadata": {},
     "output_type": "execute_result"
    },
    {
     "data": {
      "image/png": "[encoded data removed]",
      "text/plain": [
       "<Figure size 432x288 with 1 Axes>"
      ]
     },
     "metadata": {},
     "output_type": "display_data"
    }
   ],
   "source": [
    "for pr_encut in pr.iter_groups():\n",
    "    volume_lst, energy_lst = energy_volume_pairs(pr_encut)\n",
    "    plt.plot(volume_lst, energy_lst, 'x-', label=pr_encut.base_name)\n",
    "plt.xlabel('Volume ($\\AA ^ 3$)')\n",
    "plt.ylabel('Energy (eV)')\n",
    "plt.legend()"
   ]
  },
  {
   "cell_type": "markdown",
   "metadata": {},
   "source": [
    "# Fitting\n",
    "After we created multiple datasets we can now start to fit the converged results. While it is possible to fit the results using a simple polynomial fit we prefer to use the phyiscally motivated birch murnaghan equation or the vinet equation. For this we create the Murnaghan object and use it is fitting functionality:"
   ]
  },
  {
   "cell_type": "code",
   "execution_count": 12,
   "metadata": {
    "ExecuteTime": {
     "end_time": "2018-10-17T12:46:54.081153Z",
     "start_time": "2018-10-17T12:46:53.916996Z"
    }
   },
   "outputs": [],
   "source": [
    "murn = pr.create_job(job_type=pr.job_type.Murnaghan, job_name='murn')"
   ]
  },
  {
   "cell_type": "markdown",
   "metadata": {},
   "source": [
    "## Birch Marnaghan"
   ]
  },
  {
   "cell_type": "code",
   "execution_count": 13,
   "metadata": {
    "ExecuteTime": {
     "end_time": "2018-10-17T12:46:54.114401Z",
     "start_time": "2018-10-17T12:46:54.098400Z"
    }
   },
   "outputs": [
    {
     "name": "stderr",
     "output_type": "stream",
     "text": [
      "/u/janj/PyIron_data/plugins/pyiron_atomistics/pyiron_atomistics/hamilton/murnaghan.py:318: RuntimeWarning: invalid value encountered in power\n",
      "  eta = (V0 / V) ** (1 / 3)\n"
     ]
    },
    {
     "data": {
      "text/plain": [
       "[-205329195976123.8, -160.2176620799938, 4.0, -410658391952263.56]"
      ]
     },
     "execution_count": 13,
     "metadata": {},
     "output_type": "execute_result"
    }
   ],
   "source": [
    "[e0, b0, bP, v0], [e0_error, b0_error, bP_error, v0_error] = murn._fit_leastsq(volume_lst=volume_lst,\n",
    "                                                                               energy_lst=volume_lst,\n",
    "                                                                               fittype='birchmurnaghan')\n",
    "[e0, b0, bP, v0] "
   ]
  },
  {
   "cell_type": "markdown",
   "metadata": {},
   "source": [
    "## Vinet"
   ]
  },
  {
   "cell_type": "code",
   "execution_count": 14,
   "metadata": {
    "ExecuteTime": {
     "end_time": "2018-10-17T12:46:54.147603Z",
     "start_time": "2018-10-17T12:46:54.116357Z"
    }
   },
   "outputs": [
    {
     "data": {
      "text/plain": [
       "[-15.578333798068424, 272.9051501085194, 4.724040192260722, 20.906161569952577]"
      ]
     },
     "execution_count": 14,
     "metadata": {},
     "output_type": "execute_result"
    }
   ],
   "source": [
    "[e0, b0, bP, v0], [e0_error, b0_error, bP_error, v0_error] = murn._fit_leastsq(volume_lst=volume_lst,\n",
    "                                                                               energy_lst=energy_lst,\n",
    "                                                                               fittype='vinet')\n",
    "[e0, b0, bP, v0] "
   ]
  },
  {
   "cell_type": "markdown",
   "metadata": {},
   "source": [
    "We see that both equation of states give slightly different results, with overall good agreement. To validate the agreement we plot the with with the original data."
   ]
  },
  {
   "cell_type": "code",
   "execution_count": 15,
   "metadata": {
    "ExecuteTime": {
     "end_time": "2018-10-17T12:46:54.405126Z",
     "start_time": "2018-10-17T12:46:54.149552Z"
    }
   },
   "outputs": [
    {
     "data": {
      "text/plain": [
       "<matplotlib.legend.Legend at 0x2b89b8ef2eb8>"
      ]
     },
     "execution_count": 15,
     "metadata": {},
     "output_type": "execute_result"
    },
    {
     "data": {
      "image/png": "[encoded data removed]",
      "text/plain": [
       "<Figure size 432x288 with 1 Axes>"
      ]
     },
     "metadata": {},
     "output_type": "display_data"
    }
   ],
   "source": [
    "vol_lst = np.linspace(np.min(volume_lst), np.max(volume_lst), 1000)\n",
    "plt.plot(volume_lst, energy_lst, label='dft')\n",
    "plt.plot(vol_lst, murn.vinet_energy(vol_lst, e0, b0/ 160.21766208, bP, v0), label='vinet')\n",
    "plt.xlabel('Volume ($\\AA ^ 3$)')\n",
    "plt.ylabel('Energy (eV)')\n",
    "plt.legend()"
   ]
  },
  {
   "cell_type": "markdown",
   "metadata": {},
   "source": [
    "# Murnaghan Module \n",
    "Besides the fitting capabilities the Murnaghan module can also be used to run a set of calculations. For this we define a reference job, which can be either a Vasp calculation or any other pyiron job type and then specify the input parameters for the Murnaghan job."
   ]
  },
  {
   "cell_type": "code",
   "execution_count": 16,
   "metadata": {
    "ExecuteTime": {
     "end_time": "2018-10-17T12:46:54.489219Z",
     "start_time": "2018-10-17T12:46:54.407151Z"
    }
   },
   "outputs": [],
   "source": [
    "job_vasp_strain = pr.create_job(job_type=pr.job_type.Vasp, job_name='vasp')\n",
    "job_vasp_strain.set_encut(320)\n",
    "job_vasp_strain.structure = basis.copy()"
   ]
  },
  {
   "cell_type": "code",
   "execution_count": 17,
   "metadata": {
    "ExecuteTime": {
     "end_time": "2018-10-17T12:46:55.619675Z",
     "start_time": "2018-10-17T12:46:54.507759Z"
    }
   },
   "outputs": [
    {
     "data": {
      "text/html": [
       "<div>\n",
       "<style scoped>\n",
       "    .dataframe tbody tr th:only-of-type {\n",
       "        vertical-align: middle;\n",
       "    }\n",
       "\n",
       "    .dataframe tbody tr th {\n",
       "        vertical-align: top;\n",
       "    }\n",
       "\n",
       "    .dataframe thead th {\n",
       "        text-align: right;\n",
       "    }\n",
       "</style>\n",
       "<table border=\"1\" class=\"dataframe\">\n",
       "  <thead>\n",
       "    <tr style=\"text-align: right;\">\n",
       "      <th></th>\n",
       "      <th>Parameter</th>\n",
       "      <th>Value</th>\n",
       "      <th>Comment</th>\n",
       "    </tr>\n",
       "  </thead>\n",
       "  <tbody>\n",
       "    <tr>\n",
       "      <th>0</th>\n",
       "      <td>num_points</td>\n",
       "      <td>11.0</td>\n",
       "      <td>number of sample points</td>\n",
       "    </tr>\n",
       "    <tr>\n",
       "      <th>1</th>\n",
       "      <td>fit_order</td>\n",
       "      <td>3.0</td>\n",
       "      <td>order of the fit polynom</td>\n",
       "    </tr>\n",
       "    <tr>\n",
       "      <th>2</th>\n",
       "      <td>vol_range</td>\n",
       "      <td>0.1</td>\n",
       "      <td>relative volume variation around volume defined by ref_ham</td>\n",
       "    </tr>\n",
       "  </tbody>\n",
       "</table>\n",
       "</div>"
      ],
      "text/plain": [
       "    Parameter  Value  \\\n",
       "0  num_points   11.0   \n",
       "1   fit_order    3.0   \n",
       "2   vol_range    0.1   \n",
       "\n",
       "                                                      Comment  \n",
       "0                                     number of sample points  \n",
       "1                                    order of the fit polynom  \n",
       "2  relative volume variation around volume defined by ref_ham  "
      ]
     },
     "execution_count": 17,
     "metadata": {},
     "output_type": "execute_result"
    }
   ],
   "source": [
    "murn = pr.create_job(job_type=pr.job_type.Murnaghan, job_name='murn')\n",
    "murn.ref_job = job_vasp_strain\n",
    "murn.input"
   ]
  },
  {
   "cell_type": "markdown",
   "metadata": {},
   "source": [
    "We modify the input parameters to agree with the settings used in the examples above and execute the simulation by calling the run command on the murnaghan job object."
   ]
  },
  {
   "cell_type": "code",
   "execution_count": 18,
   "metadata": {
    "ExecuteTime": {
     "end_time": "2018-10-17T12:46:55.642767Z",
     "start_time": "2018-10-17T12:46:55.640005Z"
    }
   },
   "outputs": [],
   "source": [
    "murn.input['num_points'] = 7\n",
    "murn.input['vol_range'] = 0.03"
   ]
  },
  {
   "cell_type": "code",
   "execution_count": 19,
   "metadata": {
    "ExecuteTime": {
     "end_time": "2018-10-17T12:47:13.545779Z",
     "start_time": "2018-10-17T12:46:55.644754Z"
    }
   },
   "outputs": [
    {
     "name": "stdout",
     "output_type": "stream",
     "text": [
      "The job murn was saved and received the ID: 1880829\n",
      "The job strain_0_97 was saved and received the ID: 1880830\n",
      "The job strain_0_98 was saved and received the ID: 1880831\n",
      "The job strain_0_99 was saved and received the ID: 1880832\n",
      "The job strain_1_0 was saved and received the ID: 1880833\n",
      "The job strain_1_01 was saved and received the ID: 1880834\n",
      "The job strain_1_02 was saved and received the ID: 1880835\n",
      "The job strain_1_03 was saved and received the ID: 1880836\n",
      "job_id:  1880830 finished\n",
      "job_id:  1880831 finished\n",
      "job_id:  1880832 finished\n",
      "job_id:  1880833 finished\n",
      "job_id:  1880834 finished\n",
      "job_id:  1880835 finished\n",
      "job_id:  1880836 finished\n"
     ]
    }
   ],
   "source": [
    "murn.run()"
   ]
  },
  {
   "cell_type": "markdown",
   "metadata": {},
   "source": [
    "Afterwards we can use the build in capabilites to plot the resulting energy volume curve and fit different equations of state to the calculated energy volume pairs."
   ]
  },
  {
   "cell_type": "code",
   "execution_count": 20,
   "metadata": {
    "ExecuteTime": {
     "end_time": "2018-10-17T12:47:13.830143Z",
     "start_time": "2018-10-17T12:47:13.568476Z"
    }
   },
   "outputs": [
    {
     "data": {
      "image/png": "[encoded data removed]",
      "text/plain": [
       "<Figure size 432x288 with 1 Axes>"
      ]
     },
     "metadata": {},
     "output_type": "display_data"
    }
   ],
   "source": [
    "murn.plot()"
   ]
  },
  {
   "cell_type": "code",
   "execution_count": 21,
   "metadata": {
    "ExecuteTime": {
     "end_time": "2018-10-17T12:47:13.896772Z",
     "start_time": "2018-10-17T12:47:13.832125Z"
    }
   },
   "outputs": [
    {
     "data": {
      "text/plain": [
       "{'b_prime_eq': 4.724040192260722,\n",
       " 'bulkmodul_eq': 272.9051501085194,\n",
       " 'energy_eq': -15.578333798068424,\n",
       " 'least_square_error': array([3.45792309e-05, 1.18134489e+00, 5.53018488e-01, 1.29401860e-03]),\n",
       " 'volume_eq': 20.906161569952577}"
      ]
     },
     "execution_count": 21,
     "metadata": {},
     "output_type": "execute_result"
    }
   ],
   "source": [
    "murn.fit_vinet()"
   ]
  },
  {
   "cell_type": "markdown",
   "metadata": {},
   "source": [
    "# Common mistakes "
   ]
  },
  {
   "cell_type": "markdown",
   "metadata": {},
   "source": [
    "## Not copying the basis "
   ]
  },
  {
   "cell_type": "markdown",
   "metadata": {},
   "source": [
    "It is important to copy the basis before applying the strain, as the strain has to be applied on the initial structure, not the previous structure:"
   ]
  },
  {
   "cell_type": "code",
   "execution_count": 22,
   "metadata": {
    "ExecuteTime": {
     "end_time": "2018-10-17T12:47:13.943428Z",
     "start_time": "2018-10-17T12:47:13.898739Z"
    }
   },
   "outputs": [],
   "source": [
    "volume_lst_with_copy = []\n",
    "for strain in np.linspace(0.97, 1.03, 7):\n",
    "    basis_copy = basis.copy()\n",
    "    basis_copy.set_cell(cell=basis.cell * strain ** (1/3), scale_atoms=True)\n",
    "    volume_lst_with_copy.append(basis_copy.get_volume())"
   ]
  },
  {
   "cell_type": "code",
   "execution_count": 23,
   "metadata": {
    "ExecuteTime": {
     "end_time": "2018-10-17T12:47:13.980556Z",
     "start_time": "2018-10-17T12:47:13.945520Z"
    }
   },
   "outputs": [],
   "source": [
    "basis_copy = basis.copy()\n",
    "volume_lst_without_copy = []\n",
    "for strain in np.linspace(0.97, 1.03, 7):\n",
    "    basis_copy.set_cell(cell=basis_copy.cell * strain ** (1/3), scale_atoms=True)\n",
    "    volume_lst_without_copy.append(basis_copy.get_volume())"
   ]
  },
  {
   "cell_type": "code",
   "execution_count": 24,
   "metadata": {
    "ExecuteTime": {
     "end_time": "2018-10-17T12:47:13.986192Z",
     "start_time": "2018-10-17T12:47:13.982521Z"
    }
   },
   "outputs": [
    {
     "data": {
      "text/plain": [
       "([20.17296874999999,\n",
       "  20.380937499999995,\n",
       "  20.588906250000004,\n",
       "  20.796874999999996,\n",
       "  21.004843749999992,\n",
       "  21.212812500000016,\n",
       "  21.42078124999999],\n",
       " [20.17296874999999,\n",
       "  19.769509374999995,\n",
       "  19.571814281250003,\n",
       "  19.571814281250003,\n",
       "  19.76753242406251,\n",
       "  20.162883072543767,\n",
       "  20.767769564720073])"
      ]
     },
     "execution_count": 24,
     "metadata": {},
     "output_type": "execute_result"
    }
   ],
   "source": [
    "volume_lst_with_copy, volume_lst_without_copy"
   ]
  },
  {
   "cell_type": "markdown",
   "metadata": {},
   "source": [
    "## Rescaling the cell"
   ]
  },
  {
   "cell_type": "markdown",
   "metadata": {},
   "source": [
    "Another common issue is the rescaling of the supercell, there are multiple options to choose from. We used the option to scale the atoms with the supercell."
   ]
  },
  {
   "cell_type": "code",
   "execution_count": 25,
   "metadata": {
    "ExecuteTime": {
     "end_time": "2018-10-17T12:47:14.084508Z",
     "start_time": "2018-10-17T12:47:13.988106Z"
    }
   },
   "outputs": [
    {
     "data": {
      "application/vnd.jupyter.widget-view+json": {
       "model_id": "48c5d5b1859a4d96b49ad2b860d044be",
       "version_major": 2,
       "version_minor": 0
      },
      "text/plain": [
       "NGLWidget()"
      ]
     },
     "metadata": {},
     "output_type": "display_data"
    }
   ],
   "source": [
    "basis_copy = basis.copy()\n",
    "strain = 0.5\n",
    "basis_copy.set_cell(cell=basis_copy.cell * strain ** (1/3), scale_atoms=True)\n",
    "basis_copy.plot3d()"
   ]
  },
  {
   "cell_type": "markdown",
   "metadata": {},
   "source": [
    "A nother typical case is rescaling the cell to increase the distance between the atoms or add vacuum. But that is not what we want to fit an energy volume curve."
   ]
  },
  {
   "cell_type": "code",
   "execution_count": 26,
   "metadata": {
    "ExecuteTime": {
     "end_time": "2018-10-17T12:47:14.119566Z",
     "start_time": "2018-10-17T12:47:14.086376Z"
    }
   },
   "outputs": [
    {
     "data": {
      "application/vnd.jupyter.widget-view+json": {
       "model_id": "c05a2b61adda4a85a419b219c7d7a00f",
       "version_major": 2,
       "version_minor": 0
      },
      "text/plain": [
       "NGLWidget()"
      ]
     },
     "metadata": {},
     "output_type": "display_data"
    }
   ],
   "source": [
    "basis_copy = basis.copy()\n",
    "strain = 0.5\n",
    "basis_copy.set_cell(cell=basis_copy.cell * strain ** (1/3), scale_atoms=False)\n",
    "basis_copy.plot3d()"
   ]
  },
  {
   "cell_type": "markdown",
   "metadata": {
    "ExecuteTime": {
     "end_time": "2018-10-16T19:33:52.089315Z",
     "start_time": "2018-10-16T19:33:52.085882Z"
    }
   },
   "source": [
    "The same can be achieved by setting the basis to relative coordinates."
   ]
  },
  {
   "cell_type": "code",
   "execution_count": 27,
   "metadata": {
    "ExecuteTime": {
     "end_time": "2018-10-17T12:47:14.175853Z",
     "start_time": "2018-10-17T12:47:14.121545Z"
    }
   },
   "outputs": [
    {
     "data": {
      "application/vnd.jupyter.widget-view+json": {
       "model_id": "8bc554b6862a48c9a1fe0ca728eff469",
       "version_major": 2,
       "version_minor": 0
      },
      "text/plain": [
       "NGLWidget()"
      ]
     },
     "metadata": {},
     "output_type": "display_data"
    }
   ],
   "source": [
    "basis_copy = basis.copy()\n",
    "strain = 0.5\n",
    "basis_copy.set_relative()\n",
    "basis_copy.cell *= strain ** (1/3)\n",
    "basis_copy.plot3d()"
   ]
  },
  {
   "cell_type": "code",
   "execution_count": 28,
   "metadata": {
    "ExecuteTime": {
     "end_time": "2018-10-17T12:47:14.211238Z",
     "start_time": "2018-10-17T12:47:14.177745Z"
    }
   },
   "outputs": [
    {
     "data": {
      "application/vnd.jupyter.widget-view+json": {
       "model_id": "154a1e6b6b9f4e65a471539e5a2778bb",
       "version_major": 2,
       "version_minor": 0
      },
      "text/plain": [
       "NGLWidget()"
      ]
     },
     "metadata": {},
     "output_type": "display_data"
    }
   ],
   "source": [
    "basis_copy = basis.copy()\n",
    "strain = 0.5\n",
    "basis_copy.cell *= strain ** (1/3)\n",
    "basis_copy.plot3d()"
   ]
  },
  {
   "cell_type": "code",
   "execution_count": null,
   "metadata": {},
   "outputs": [],
   "source": []
  }
 ],
 "metadata": {
  "kernelspec": {
   "display_name": "Python 3",
   "language": "python",
   "name": "python3"
  },
  "language_info": {
   "codemirror_mode": {
    "name": "ipython",
    "version": 3
   },
   "file_extension": ".py",
   "mimetype": "text/x-python",
   "name": "python",
   "nbconvert_exporter": "python",
   "pygments_lexer": "ipython3",
   "version": "3.7.3"
  },
  "toc": {
   "base_numbering": 1,
   "nav_menu": {},
   "number_sections": true,
   "sideBar": true,
   "skip_h1_title": false,
   "title_cell": "Table of Contents",
   "title_sidebar": "Contents",
   "toc_cell": false,
   "toc_position": {},
   "toc_section_display": true,
   "toc_window_display": true
  }
 },
 "nbformat": 4,
 "nbformat_minor": 2
}
