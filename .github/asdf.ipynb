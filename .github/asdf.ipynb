{
 "cells": [
  {
   "cell_type": "code",
   "execution_count": 2,
   "metadata": {},
   "outputs": [],
   "source": [
    "from dscribe.descriptors.soap import SOAP"
   ]
  },
  {
   "cell_type": "code",
   "execution_count": 25,
   "metadata": {},
   "outputs": [],
   "source": [
    "def calculate_soap_descriptor_per_atom(\n",
    "    structure,\n",
    "    r_cut=None,\n",
    "    n_max=None,\n",
    "    l_max=None,\n",
    "    sigma=1.0,\n",
    "    rbf=\"gto\",\n",
    "    weighting=None,\n",
    "    average=\"off\",\n",
    "    compression={\"mode\": \"off\", \"species_weighting\": None},\n",
    "    species=None,\n",
    "    periodic=True,\n",
    "    sparse=False,\n",
    "    dtype=\"float64\",\n",
    "    centers=None,\n",
    "    n_jobs=1,\n",
    "    only_physical_cores=False,\n",
    "    verbose=False,\n",
    "):\n",
    "    from dscribe.descriptors import SOAP\n",
    "\n",
    "    # if species is None:\n",
    "    #     species = list(set(structure.get_chemical_symbols()))\n",
    "    periodic_soap = SOAP(\n",
    "        r_cut=r_cut,\n",
    "        n_max=n_max,\n",
    "        l_max=l_max,\n",
    "        sigma=sigma,\n",
    "        rbf=rbf,\n",
    "        weighting=weighting,\n",
    "        average=average,\n",
    "        compression=compression,\n",
    "        species=species,\n",
    "        periodic=periodic,\n",
    "        sparse=sparse,\n",
    "        dtype=dtype,\n",
    "    )\n",
    "    return periodic_soap.create(\n",
    "        system=structure,\n",
    "        centers=centers,\n",
    "        n_jobs=n_jobs,\n",
    "        only_physical_cores=only_physical_cores,\n",
    "        verbose=verbose,\n",
    "    )"
   ]
  },
  {
   "cell_type": "code",
   "execution_count": 26,
   "metadata": {},
   "outputs": [],
   "source": [
    "from ase import build"
   ]
  },
  {
   "cell_type": "code",
   "execution_count": 27,
   "metadata": {},
   "outputs": [
    {
     "data": {
      "text/plain": [
       "2"
      ]
     },
     "execution_count": 27,
     "metadata": {},
     "output_type": "execute_result"
    }
   ],
   "source": [
    "struct = build.bulk(\"Fe\", cubic=True)\n",
    "len(struct)"
   ]
  },
  {
   "cell_type": "code",
   "execution_count": 29,
   "metadata": {},
   "outputs": [
    {
     "data": {
      "text/plain": [
       "Atoms(symbols='Fe2', pbc=True, cell=[2.87, 2.87, 2.87])"
      ]
     },
     "execution_count": 29,
     "metadata": {},
     "output_type": "execute_result"
    }
   ],
   "source": [
    "struct"
   ]
  },
  {
   "cell_type": "code",
   "execution_count": 30,
   "metadata": {},
   "outputs": [
    {
     "ename": "ValueError",
     "evalue": "Please provide the species as an iterable, e.g. a list.",
     "output_type": "error",
     "traceback": [
      "\u001b[0;31m---------------------------------------------------------------------------\u001b[0m",
      "\u001b[0;31mValueError\u001b[0m                                Traceback (most recent call last)",
      "\u001b[1;32m/root/personal_python_utilities/structuretoolkit/.github/asdf.ipynb Cell 6\u001b[0m line \u001b[0;36m1\n\u001b[0;32m----> <a href='vscode-notebook-cell://wsl%2Bubuntu-22.04/root/personal_python_utilities/structuretoolkit/.github/asdf.ipynb#W6sdnNjb2RlLXJlbW90ZQ%3D%3D?line=0'>1</a>\u001b[0m a \u001b[39m=\u001b[39m calculate_soap_descriptor_per_atom(pmg_st,\n\u001b[1;32m      <a href='vscode-notebook-cell://wsl%2Bubuntu-22.04/root/personal_python_utilities/structuretoolkit/.github/asdf.ipynb#W6sdnNjb2RlLXJlbW90ZQ%3D%3D?line=1'>2</a>\u001b[0m                                     r_cut\u001b[39m=\u001b[39;49m\u001b[39m5\u001b[39;49m,\n\u001b[1;32m      <a href='vscode-notebook-cell://wsl%2Bubuntu-22.04/root/personal_python_utilities/structuretoolkit/.github/asdf.ipynb#W6sdnNjb2RlLXJlbW90ZQ%3D%3D?line=2'>3</a>\u001b[0m                                     n_max\u001b[39m=\u001b[39;49m\u001b[39m10\u001b[39;49m,\n\u001b[1;32m      <a href='vscode-notebook-cell://wsl%2Bubuntu-22.04/root/personal_python_utilities/structuretoolkit/.github/asdf.ipynb#W6sdnNjb2RlLXJlbW90ZQ%3D%3D?line=3'>4</a>\u001b[0m                                     l_max\u001b[39m=\u001b[39;49m\u001b[39m10\u001b[39;49m,)\n\u001b[1;32m      <a href='vscode-notebook-cell://wsl%2Bubuntu-22.04/root/personal_python_utilities/structuretoolkit/.github/asdf.ipynb#W6sdnNjb2RlLXJlbW90ZQ%3D%3D?line=4'>5</a>\u001b[0m \u001b[39mtype\u001b[39m(a)\n",
      "\u001b[1;32m/root/personal_python_utilities/structuretoolkit/.github/asdf.ipynb Cell 6\u001b[0m line \u001b[0;36m2\n\u001b[1;32m     <a href='vscode-notebook-cell://wsl%2Bubuntu-22.04/root/personal_python_utilities/structuretoolkit/.github/asdf.ipynb#W6sdnNjb2RlLXJlbW90ZQ%3D%3D?line=19'>20</a>\u001b[0m \u001b[39mfrom\u001b[39;00m \u001b[39mdscribe\u001b[39;00m\u001b[39m.\u001b[39;00m\u001b[39mdescriptors\u001b[39;00m \u001b[39mimport\u001b[39;00m SOAP\n\u001b[1;32m     <a href='vscode-notebook-cell://wsl%2Bubuntu-22.04/root/personal_python_utilities/structuretoolkit/.github/asdf.ipynb#W6sdnNjb2RlLXJlbW90ZQ%3D%3D?line=21'>22</a>\u001b[0m \u001b[39m# if species is None:\u001b[39;00m\n\u001b[1;32m     <a href='vscode-notebook-cell://wsl%2Bubuntu-22.04/root/personal_python_utilities/structuretoolkit/.github/asdf.ipynb#W6sdnNjb2RlLXJlbW90ZQ%3D%3D?line=22'>23</a>\u001b[0m \u001b[39m#     species = list(set(structure.get_chemical_symbols()))\u001b[39;00m\n\u001b[0;32m---> <a href='vscode-notebook-cell://wsl%2Bubuntu-22.04/root/personal_python_utilities/structuretoolkit/.github/asdf.ipynb#W6sdnNjb2RlLXJlbW90ZQ%3D%3D?line=23'>24</a>\u001b[0m periodic_soap \u001b[39m=\u001b[39m SOAP(\n\u001b[1;32m     <a href='vscode-notebook-cell://wsl%2Bubuntu-22.04/root/personal_python_utilities/structuretoolkit/.github/asdf.ipynb#W6sdnNjb2RlLXJlbW90ZQ%3D%3D?line=24'>25</a>\u001b[0m     r_cut\u001b[39m=\u001b[39;49mr_cut,\n\u001b[1;32m     <a href='vscode-notebook-cell://wsl%2Bubuntu-22.04/root/personal_python_utilities/structuretoolkit/.github/asdf.ipynb#W6sdnNjb2RlLXJlbW90ZQ%3D%3D?line=25'>26</a>\u001b[0m     n_max\u001b[39m=\u001b[39;49mn_max,\n\u001b[1;32m     <a href='vscode-notebook-cell://wsl%2Bubuntu-22.04/root/personal_python_utilities/structuretoolkit/.github/asdf.ipynb#W6sdnNjb2RlLXJlbW90ZQ%3D%3D?line=26'>27</a>\u001b[0m     l_max\u001b[39m=\u001b[39;49ml_max,\n\u001b[1;32m     <a href='vscode-notebook-cell://wsl%2Bubuntu-22.04/root/personal_python_utilities/structuretoolkit/.github/asdf.ipynb#W6sdnNjb2RlLXJlbW90ZQ%3D%3D?line=27'>28</a>\u001b[0m     sigma\u001b[39m=\u001b[39;49msigma,\n\u001b[1;32m     <a href='vscode-notebook-cell://wsl%2Bubuntu-22.04/root/personal_python_utilities/structuretoolkit/.github/asdf.ipynb#W6sdnNjb2RlLXJlbW90ZQ%3D%3D?line=28'>29</a>\u001b[0m     rbf\u001b[39m=\u001b[39;49mrbf,\n\u001b[1;32m     <a href='vscode-notebook-cell://wsl%2Bubuntu-22.04/root/personal_python_utilities/structuretoolkit/.github/asdf.ipynb#W6sdnNjb2RlLXJlbW90ZQ%3D%3D?line=29'>30</a>\u001b[0m     weighting\u001b[39m=\u001b[39;49mweighting,\n\u001b[1;32m     <a href='vscode-notebook-cell://wsl%2Bubuntu-22.04/root/personal_python_utilities/structuretoolkit/.github/asdf.ipynb#W6sdnNjb2RlLXJlbW90ZQ%3D%3D?line=30'>31</a>\u001b[0m     average\u001b[39m=\u001b[39;49maverage,\n\u001b[1;32m     <a href='vscode-notebook-cell://wsl%2Bubuntu-22.04/root/personal_python_utilities/structuretoolkit/.github/asdf.ipynb#W6sdnNjb2RlLXJlbW90ZQ%3D%3D?line=31'>32</a>\u001b[0m     compression\u001b[39m=\u001b[39;49mcompression,\n\u001b[1;32m     <a href='vscode-notebook-cell://wsl%2Bubuntu-22.04/root/personal_python_utilities/structuretoolkit/.github/asdf.ipynb#W6sdnNjb2RlLXJlbW90ZQ%3D%3D?line=32'>33</a>\u001b[0m     species\u001b[39m=\u001b[39;49mspecies,\n\u001b[1;32m     <a href='vscode-notebook-cell://wsl%2Bubuntu-22.04/root/personal_python_utilities/structuretoolkit/.github/asdf.ipynb#W6sdnNjb2RlLXJlbW90ZQ%3D%3D?line=33'>34</a>\u001b[0m     periodic\u001b[39m=\u001b[39;49mperiodic,\n\u001b[1;32m     <a href='vscode-notebook-cell://wsl%2Bubuntu-22.04/root/personal_python_utilities/structuretoolkit/.github/asdf.ipynb#W6sdnNjb2RlLXJlbW90ZQ%3D%3D?line=34'>35</a>\u001b[0m     sparse\u001b[39m=\u001b[39;49msparse,\n\u001b[1;32m     <a href='vscode-notebook-cell://wsl%2Bubuntu-22.04/root/personal_python_utilities/structuretoolkit/.github/asdf.ipynb#W6sdnNjb2RlLXJlbW90ZQ%3D%3D?line=35'>36</a>\u001b[0m     dtype\u001b[39m=\u001b[39;49mdtype,\n\u001b[1;32m     <a href='vscode-notebook-cell://wsl%2Bubuntu-22.04/root/personal_python_utilities/structuretoolkit/.github/asdf.ipynb#W6sdnNjb2RlLXJlbW90ZQ%3D%3D?line=36'>37</a>\u001b[0m )\n\u001b[1;32m     <a href='vscode-notebook-cell://wsl%2Bubuntu-22.04/root/personal_python_utilities/structuretoolkit/.github/asdf.ipynb#W6sdnNjb2RlLXJlbW90ZQ%3D%3D?line=37'>38</a>\u001b[0m \u001b[39mreturn\u001b[39;00m periodic_soap\u001b[39m.\u001b[39mcreate(\n\u001b[1;32m     <a href='vscode-notebook-cell://wsl%2Bubuntu-22.04/root/personal_python_utilities/structuretoolkit/.github/asdf.ipynb#W6sdnNjb2RlLXJlbW90ZQ%3D%3D?line=38'>39</a>\u001b[0m     system\u001b[39m=\u001b[39mstructure,\n\u001b[1;32m     <a href='vscode-notebook-cell://wsl%2Bubuntu-22.04/root/personal_python_utilities/structuretoolkit/.github/asdf.ipynb#W6sdnNjb2RlLXJlbW90ZQ%3D%3D?line=39'>40</a>\u001b[0m     centers\u001b[39m=\u001b[39mcenters,\n\u001b[0;32m   (...)\u001b[0m\n\u001b[1;32m     <a href='vscode-notebook-cell://wsl%2Bubuntu-22.04/root/personal_python_utilities/structuretoolkit/.github/asdf.ipynb#W6sdnNjb2RlLXJlbW90ZQ%3D%3D?line=42'>43</a>\u001b[0m     verbose\u001b[39m=\u001b[39mverbose,\n\u001b[1;32m     <a href='vscode-notebook-cell://wsl%2Bubuntu-22.04/root/personal_python_utilities/structuretoolkit/.github/asdf.ipynb#W6sdnNjb2RlLXJlbW90ZQ%3D%3D?line=43'>44</a>\u001b[0m )\n",
      "File \u001b[0;32m~/miniconda3/envs/dscribe/lib/python3.11/site-packages/dscribe/descriptors/soap.py:203\u001b[0m, in \u001b[0;36mSOAP.__init__\u001b[0;34m(self, r_cut, n_max, l_max, sigma, rbf, weighting, average, compression, species, periodic, sparse, dtype)\u001b[0m\n\u001b[1;32m    200\u001b[0m \u001b[39msuper\u001b[39m()\u001b[39m.\u001b[39m\u001b[39m__init__\u001b[39m(periodic\u001b[39m=\u001b[39mperiodic, sparse\u001b[39m=\u001b[39msparse, dtype\u001b[39m=\u001b[39mdtype)\n\u001b[1;32m    202\u001b[0m \u001b[39m# Setup the involved chemical species\u001b[39;00m\n\u001b[0;32m--> 203\u001b[0m \u001b[39mself\u001b[39;49m\u001b[39m.\u001b[39;49mspecies \u001b[39m=\u001b[39m species\n\u001b[1;32m    205\u001b[0m \u001b[39m# Test that general settings are valid\u001b[39;00m\n\u001b[1;32m    206\u001b[0m \u001b[39mif\u001b[39;00m sigma \u001b[39m<\u001b[39m\u001b[39m=\u001b[39m \u001b[39m0\u001b[39m:\n",
      "File \u001b[0;32m~/miniconda3/envs/dscribe/lib/python3.11/site-packages/dscribe/descriptors/soap.py:837\u001b[0m, in \u001b[0;36mSOAP.species\u001b[0;34m(self, value)\u001b[0m\n\u001b[1;32m    829\u001b[0m \u001b[39m\u001b[39m\u001b[39m\"\"\"Used to check the validity of given atomic numbers and to initialize\u001b[39;00m\n\u001b[1;32m    830\u001b[0m \u001b[39mthe C-memory layout for them.\u001b[39;00m\n\u001b[1;32m    831\u001b[0m \n\u001b[0;32m   (...)\u001b[0m\n\u001b[1;32m    834\u001b[0m \u001b[39m        numbers or list of chemical symbols.\u001b[39;00m\n\u001b[1;32m    835\u001b[0m \u001b[39m\"\"\"\u001b[39;00m\n\u001b[1;32m    836\u001b[0m \u001b[39m# The species are stored as atomic numbers for internal use.\u001b[39;00m\n\u001b[0;32m--> 837\u001b[0m \u001b[39mself\u001b[39;49m\u001b[39m.\u001b[39;49m_set_species(value)\n\u001b[1;32m    839\u001b[0m \u001b[39m# Setup mappings between atom indices and types\u001b[39;00m\n\u001b[1;32m    840\u001b[0m \u001b[39mself\u001b[39m\u001b[39m.\u001b[39matomic_number_to_index \u001b[39m=\u001b[39m {}\n",
      "File \u001b[0;32m~/miniconda3/envs/dscribe/lib/python3.11/site-packages/dscribe/descriptors/descriptor.py:122\u001b[0m, in \u001b[0;36mDescriptor._set_species\u001b[0;34m(self, species)\u001b[0m\n\u001b[1;32m    113\u001b[0m \u001b[39m\u001b[39m\u001b[39m\"\"\"Used to setup the species information for this descriptor. This\u001b[39;00m\n\u001b[1;32m    114\u001b[0m \u001b[39minformation includes an ordered list of unique atomic numbers, a set\u001b[39;00m\n\u001b[1;32m    115\u001b[0m \u001b[39mof atomic numbers and the original variable contents.\u001b[39;00m\n\u001b[0;32m   (...)\u001b[0m\n\u001b[1;32m    119\u001b[0m \u001b[39m        numbers or list of chemical symbols.\u001b[39;00m\n\u001b[1;32m    120\u001b[0m \u001b[39m\"\"\"\u001b[39;00m\n\u001b[1;32m    121\u001b[0m \u001b[39m# The species are stored as atomic numbers for internal use.\u001b[39;00m\n\u001b[0;32m--> 122\u001b[0m atomic_numbers \u001b[39m=\u001b[39m get_atomic_numbers(species)\n\u001b[1;32m    123\u001b[0m \u001b[39mself\u001b[39m\u001b[39m.\u001b[39m_atomic_numbers \u001b[39m=\u001b[39m atomic_numbers\n\u001b[1;32m    124\u001b[0m \u001b[39mself\u001b[39m\u001b[39m.\u001b[39m_atomic_number_set \u001b[39m=\u001b[39m \u001b[39mset\u001b[39m(\u001b[39mself\u001b[39m\u001b[39m.\u001b[39m_atomic_numbers)\n",
      "File \u001b[0;32m~/miniconda3/envs/dscribe/lib/python3.11/site-packages/dscribe/utils/species.py:59\u001b[0m, in \u001b[0;36mget_atomic_numbers\u001b[0;34m(species)\u001b[0m\n\u001b[1;32m     57\u001b[0m is_string \u001b[39m=\u001b[39m \u001b[39misinstance\u001b[39m(species, (\u001b[39mstr\u001b[39m, np\u001b[39m.\u001b[39mstr_))\n\u001b[1;32m     58\u001b[0m \u001b[39mif\u001b[39;00m \u001b[39mnot\u001b[39;00m is_iterable \u001b[39mor\u001b[39;00m is_string:\n\u001b[0;32m---> 59\u001b[0m     \u001b[39mraise\u001b[39;00m \u001b[39mValueError\u001b[39;00m(\u001b[39m\"\u001b[39m\u001b[39mPlease provide the species as an iterable, e.g. a list.\u001b[39m\u001b[39m\"\u001b[39m)\n\u001b[1;32m     61\u001b[0m \u001b[39m# Determine if the given species are atomic numbers or chemical symbols\u001b[39;00m\n\u001b[1;32m     62\u001b[0m \u001b[39mif\u001b[39;00m \u001b[39mall\u001b[39m(\u001b[39misinstance\u001b[39m(x, (\u001b[39mint\u001b[39m, np\u001b[39m.\u001b[39minteger)) \u001b[39mfor\u001b[39;00m x \u001b[39min\u001b[39;00m species):\n",
      "\u001b[0;31mValueError\u001b[0m: Please provide the species as an iterable, e.g. a list."
     ]
    }
   ],
   "source": [
    "a = calculate_soap_descriptor_per_atom(pmg_st,\n",
    "                                    r_cut=5,\n",
    "                                    n_max=10,\n",
    "                                    l_max=10,)\n",
    "type(a)"
   ]
  },
  {
   "cell_type": "code",
   "execution_count": 22,
   "metadata": {},
   "outputs": [
    {
     "data": {
      "text/plain": [
       "2"
      ]
     },
     "execution_count": 22,
     "metadata": {},
     "output_type": "execute_result"
    }
   ],
   "source": [
    "len(a)"
   ]
  },
  {
   "cell_type": "code",
   "execution_count": 21,
   "metadata": {},
   "outputs": [
    {
     "data": {
      "text/plain": [
       "605"
      ]
     },
     "execution_count": 21,
     "metadata": {},
     "output_type": "execute_result"
    }
   ],
   "source": [
    "len(a[0])"
   ]
  },
  {
   "cell_type": "code",
   "execution_count": 23,
   "metadata": {},
   "outputs": [],
   "source": [
    "from pymatgen.io.ase import AseAtomsAdaptor\n",
    "\n",
    "pmg_st = AseAtomsAdaptor().get_structure(struct)\n"
   ]
  },
  {
   "cell_type": "code",
   "execution_count": 24,
   "metadata": {},
   "outputs": [
    {
     "ename": "AttributeError",
     "evalue": "'Structure' object has no attribute 'get_chemical_symbols'",
     "output_type": "error",
     "traceback": [
      "\u001b[0;31m---------------------------------------------------------------------------\u001b[0m",
      "\u001b[0;31mAttributeError\u001b[0m                            Traceback (most recent call last)",
      "\u001b[1;32m/root/personal_python_utilities/structuretoolkit/.github/asdf.ipynb Cell 9\u001b[0m line \u001b[0;36m1\n\u001b[0;32m----> <a href='vscode-notebook-cell://wsl%2Bubuntu-22.04/root/personal_python_utilities/structuretoolkit/.github/asdf.ipynb#X15sdnNjb2RlLXJlbW90ZQ%3D%3D?line=0'>1</a>\u001b[0m a \u001b[39m=\u001b[39m calculate_soap_descriptor_per_atom(pmg_st,\n\u001b[1;32m      <a href='vscode-notebook-cell://wsl%2Bubuntu-22.04/root/personal_python_utilities/structuretoolkit/.github/asdf.ipynb#X15sdnNjb2RlLXJlbW90ZQ%3D%3D?line=1'>2</a>\u001b[0m                                     r_cut\u001b[39m=\u001b[39;49m\u001b[39m5\u001b[39;49m,\n\u001b[1;32m      <a href='vscode-notebook-cell://wsl%2Bubuntu-22.04/root/personal_python_utilities/structuretoolkit/.github/asdf.ipynb#X15sdnNjb2RlLXJlbW90ZQ%3D%3D?line=2'>3</a>\u001b[0m                                     n_max\u001b[39m=\u001b[39;49m\u001b[39m10\u001b[39;49m,\n\u001b[1;32m      <a href='vscode-notebook-cell://wsl%2Bubuntu-22.04/root/personal_python_utilities/structuretoolkit/.github/asdf.ipynb#X15sdnNjb2RlLXJlbW90ZQ%3D%3D?line=3'>4</a>\u001b[0m                                     l_max\u001b[39m=\u001b[39;49m\u001b[39m10\u001b[39;49m,)\n\u001b[1;32m      <a href='vscode-notebook-cell://wsl%2Bubuntu-22.04/root/personal_python_utilities/structuretoolkit/.github/asdf.ipynb#X15sdnNjb2RlLXJlbW90ZQ%3D%3D?line=4'>5</a>\u001b[0m \u001b[39mtype\u001b[39m(a)\n",
      "\u001b[1;32m/root/personal_python_utilities/structuretoolkit/.github/asdf.ipynb Cell 9\u001b[0m line \u001b[0;36m2\n\u001b[1;32m     <a href='vscode-notebook-cell://wsl%2Bubuntu-22.04/root/personal_python_utilities/structuretoolkit/.github/asdf.ipynb#X15sdnNjb2RlLXJlbW90ZQ%3D%3D?line=19'>20</a>\u001b[0m \u001b[39mfrom\u001b[39;00m \u001b[39mdscribe\u001b[39;00m\u001b[39m.\u001b[39;00m\u001b[39mdescriptors\u001b[39;00m \u001b[39mimport\u001b[39;00m SOAP\n\u001b[1;32m     <a href='vscode-notebook-cell://wsl%2Bubuntu-22.04/root/personal_python_utilities/structuretoolkit/.github/asdf.ipynb#X15sdnNjb2RlLXJlbW90ZQ%3D%3D?line=21'>22</a>\u001b[0m \u001b[39mif\u001b[39;00m species \u001b[39mis\u001b[39;00m \u001b[39mNone\u001b[39;00m:\n\u001b[0;32m---> <a href='vscode-notebook-cell://wsl%2Bubuntu-22.04/root/personal_python_utilities/structuretoolkit/.github/asdf.ipynb#X15sdnNjb2RlLXJlbW90ZQ%3D%3D?line=22'>23</a>\u001b[0m     species \u001b[39m=\u001b[39m \u001b[39mlist\u001b[39m(\u001b[39mset\u001b[39m(structure\u001b[39m.\u001b[39;49mget_chemical_symbols()))\n\u001b[1;32m     <a href='vscode-notebook-cell://wsl%2Bubuntu-22.04/root/personal_python_utilities/structuretoolkit/.github/asdf.ipynb#X15sdnNjb2RlLXJlbW90ZQ%3D%3D?line=23'>24</a>\u001b[0m periodic_soap \u001b[39m=\u001b[39m SOAP(\n\u001b[1;32m     <a href='vscode-notebook-cell://wsl%2Bubuntu-22.04/root/personal_python_utilities/structuretoolkit/.github/asdf.ipynb#X15sdnNjb2RlLXJlbW90ZQ%3D%3D?line=24'>25</a>\u001b[0m     r_cut\u001b[39m=\u001b[39mr_cut,\n\u001b[1;32m     <a href='vscode-notebook-cell://wsl%2Bubuntu-22.04/root/personal_python_utilities/structuretoolkit/.github/asdf.ipynb#X15sdnNjb2RlLXJlbW90ZQ%3D%3D?line=25'>26</a>\u001b[0m     n_max\u001b[39m=\u001b[39mn_max,\n\u001b[0;32m   (...)\u001b[0m\n\u001b[1;32m     <a href='vscode-notebook-cell://wsl%2Bubuntu-22.04/root/personal_python_utilities/structuretoolkit/.github/asdf.ipynb#X15sdnNjb2RlLXJlbW90ZQ%3D%3D?line=35'>36</a>\u001b[0m     dtype\u001b[39m=\u001b[39mdtype,\n\u001b[1;32m     <a href='vscode-notebook-cell://wsl%2Bubuntu-22.04/root/personal_python_utilities/structuretoolkit/.github/asdf.ipynb#X15sdnNjb2RlLXJlbW90ZQ%3D%3D?line=36'>37</a>\u001b[0m )\n\u001b[1;32m     <a href='vscode-notebook-cell://wsl%2Bubuntu-22.04/root/personal_python_utilities/structuretoolkit/.github/asdf.ipynb#X15sdnNjb2RlLXJlbW90ZQ%3D%3D?line=37'>38</a>\u001b[0m \u001b[39mreturn\u001b[39;00m periodic_soap\u001b[39m.\u001b[39mcreate(\n\u001b[1;32m     <a href='vscode-notebook-cell://wsl%2Bubuntu-22.04/root/personal_python_utilities/structuretoolkit/.github/asdf.ipynb#X15sdnNjb2RlLXJlbW90ZQ%3D%3D?line=38'>39</a>\u001b[0m     system\u001b[39m=\u001b[39mstructure,\n\u001b[1;32m     <a href='vscode-notebook-cell://wsl%2Bubuntu-22.04/root/personal_python_utilities/structuretoolkit/.github/asdf.ipynb#X15sdnNjb2RlLXJlbW90ZQ%3D%3D?line=39'>40</a>\u001b[0m     centers\u001b[39m=\u001b[39mcenters,\n\u001b[0;32m   (...)\u001b[0m\n\u001b[1;32m     <a href='vscode-notebook-cell://wsl%2Bubuntu-22.04/root/personal_python_utilities/structuretoolkit/.github/asdf.ipynb#X15sdnNjb2RlLXJlbW90ZQ%3D%3D?line=42'>43</a>\u001b[0m     verbose\u001b[39m=\u001b[39mverbose,\n\u001b[1;32m     <a href='vscode-notebook-cell://wsl%2Bubuntu-22.04/root/personal_python_utilities/structuretoolkit/.github/asdf.ipynb#X15sdnNjb2RlLXJlbW90ZQ%3D%3D?line=43'>44</a>\u001b[0m )\n",
      "\u001b[0;31mAttributeError\u001b[0m: 'Structure' object has no attribute 'get_chemical_symbols'"
     ]
    }
   ],
   "source": [
    "a = calculate_soap_descriptor_per_atom(pmg_st,\n",
    "                                    r_cut=5,\n",
    "                                    n_max=10,\n",
    "                                    l_max=10,)\n",
    "type(a)"
   ]
  },
  {
   "cell_type": "code",
   "execution_count": 19,
   "metadata": {},
   "outputs": [
    {
     "ename": "ModuleNotFoundError",
     "evalue": "No module named 'pandas'",
     "output_type": "error",
     "traceback": [
      "\u001b[0;31m---------------------------------------------------------------------------\u001b[0m",
      "\u001b[0;31mModuleNotFoundError\u001b[0m                       Traceback (most recent call last)",
      "\u001b[1;32m/root/personal_python_utilities/structuretoolkit/.github/asdf.ipynb Cell 6\u001b[0m line \u001b[0;36m1\n\u001b[0;32m----> <a href='vscode-notebook-cell://wsl%2Bubuntu-22.04/root/personal_python_utilities/structuretoolkit/.github/asdf.ipynb#X10sdnNjb2RlLXJlbW90ZQ%3D%3D?line=0'>1</a>\u001b[0m \u001b[39mimport\u001b[39;00m \u001b[39mpandas\u001b[39;00m \u001b[39mas\u001b[39;00m \u001b[39mpd\u001b[39;00m\n\u001b[1;32m      <a href='vscode-notebook-cell://wsl%2Bubuntu-22.04/root/personal_python_utilities/structuretoolkit/.github/asdf.ipynb#X10sdnNjb2RlLXJlbW90ZQ%3D%3D?line=1'>2</a>\u001b[0m b \u001b[39m=\u001b[39m pd\u001b[39m.\u001b[39mDataFrame(a)\n",
      "\u001b[0;31mModuleNotFoundError\u001b[0m: No module named 'pandas'"
     ]
    }
   ],
   "source": [
    "import pandas as pd\n",
    "b = pd.DataFrame(a)"
   ]
  },
  {
   "cell_type": "code",
   "execution_count": null,
   "metadata": {},
   "outputs": [],
   "source": []
  }
 ],
 "metadata": {
  "kernelspec": {
   "display_name": "dscribe",
   "language": "python",
   "name": "python3"
  },
  "language_info": {
   "codemirror_mode": {
    "name": "ipython",
    "version": 3
   },
   "file_extension": ".py",
   "mimetype": "text/x-python",
   "name": "python",
   "nbconvert_exporter": "python",
   "pygments_lexer": "ipython3",
   "version": "3.11.5"
  },
  "orig_nbformat": 4
 },
 "nbformat": 4,
 "nbformat_minor": 2
}
